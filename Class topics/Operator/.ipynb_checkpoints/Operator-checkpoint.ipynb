{
 "cells": [
  {
   "cell_type": "markdown",
   "id": "94b979db",
   "metadata": {},
   "source": [
    "<h2><img src=\"https://www.pentagonspace.in/assets/images/logo/logo-dark.png\" alt=\"pentagonspace.com/\" align=left></h2>\n",
    "<div class=\"a\" align=right>\n",
    "    <font style=\"border:white; border-width:10px; border-style:outset;\"width=\"100\" height=\"100\" > \n",
    "Practice Session </font>\n",
    "</div >\n",
    "\n",
    "<div id=\"myCarousel\" class=\"carousel slide text-center\" data-ride=\"carousel\">\n",
    "\n",
    "  <div class=\"carousel-inner\" role=\"listbox\">\n",
    "    <div class=\"item active\">\n",
    "    <h2 class=\"red-text\" style=\"color: Blue;\" >Operator </h2>\n",
    "    </div>\n",
    "  </div>"
   ]
  },
  {
   "cell_type": "markdown",
   "id": "6306d7e3",
   "metadata": {},
   "source": [
    "**Q1.** What is the output of the following code :\n",
    ">(a) 4.5  \n",
    "(b) 4.0  \n",
    "(c) 4  \n",
    "(d) Error"
   ]
  },
  {
   "cell_type": "code",
   "execution_count": 1,
   "id": "ae3b82ea",
   "metadata": {},
   "outputs": [],
   "source": [
    "# write answer here"
   ]
  },
  {
   "cell_type": "markdown",
   "id": "dba820f3",
   "metadata": {},
   "source": [
    "**Q2.** In the Python statement x = a + 5 - b:\n",
    "\n",
    ">**.** a and b are ________  \n",
    "**.** a + 5 - b is ________  \n",
    "\n",
    "\n",
    "**a.** operators, a statement  \n",
    "**b.** operands, an equation  \n",
    "**c.** operands, an expression  \n",
    "**d.** terms, a group"
   ]
  },
  {
   "cell_type": "code",
   "execution_count": 2,
   "id": "b413454e",
   "metadata": {},
   "outputs": [],
   "source": [
    "# write answer here"
   ]
  },
  {
   "cell_type": "markdown",
   "id": "99a26670",
   "metadata": {},
   "source": [
    "**Q3.** What is the value of the expression 100 / 25?"
   ]
  },
  {
   "cell_type": "code",
   "execution_count": 3,
   "id": "690a7536",
   "metadata": {},
   "outputs": [],
   "source": [
    "# write answer here"
   ]
  },
  {
   "cell_type": "markdown",
   "id": "c5941247",
   "metadata": {},
   "source": [
    "**Q4.** Should you use the == operator to determine whether objects of type float are equal?\n",
    ">**a.** Nope, not a good idea.  \n",
    "**b.** Sure! Go for it."
   ]
  },
  {
   "cell_type": "code",
   "execution_count": 4,
   "id": "79cc51dc",
   "metadata": {},
   "outputs": [],
   "source": [
    "# write answer here"
   ]
  },
  {
   "cell_type": "markdown",
   "id": "35dda3dc",
   "metadata": {},
   "source": [
    "**Q5.** Consider the following code snippet:\n",
    "\n",
    ">x = 10.0  \n",
    "y = (x < 100.0) and isinstance(x, float)\n",
    "\n",
    "After these are executed, what is the value of y?\n",
    "\n",
    "**a.** False  \n",
    "**b.** 1  \n",
    "**c.** 0  \n",
    "**d.** True  \n",
    "**e.** None"
   ]
  },
  {
   "cell_type": "code",
   "execution_count": 5,
   "id": "523cbeaf",
   "metadata": {},
   "outputs": [],
   "source": [
    "# write answer here"
   ]
  },
  {
   "cell_type": "markdown",
   "id": "5c7111a2",
   "metadata": {},
   "source": [
    "**Q6.** Suppose the following statements are executed:\n",
    "\n",
    ">a = 100\n",
    "b = 200  \n",
    "\n",
    "What is the value of the expression a and b?\n",
    "**a.** 100  \n",
    "**b.** False  \n",
    "**c.** True  \n",
    "**d.** 0  \n",
    "**e.** 200  "
   ]
  },
  {
   "cell_type": "code",
   "execution_count": 6,
   "id": "9108383a",
   "metadata": {},
   "outputs": [],
   "source": [
    "# write answer here"
   ]
  },
  {
   "cell_type": "markdown",
   "id": "bc68bdb5",
   "metadata": {},
   "source": [
    "**Q7.** What is Arithmetic operators?"
   ]
  },
  {
   "cell_type": "code",
   "execution_count": 7,
   "id": "98add7bd",
   "metadata": {},
   "outputs": [],
   "source": [
    "# write answer here"
   ]
  },
  {
   "cell_type": "markdown",
   "id": "706c52df",
   "metadata": {},
   "source": [
    "**Q8.** What is Assignment operators?"
   ]
  },
  {
   "cell_type": "code",
   "execution_count": 8,
   "id": "e56d1781",
   "metadata": {},
   "outputs": [],
   "source": [
    "# write answer here"
   ]
  },
  {
   "cell_type": "markdown",
   "id": "5de56760",
   "metadata": {},
   "source": [
    "**Q9.** What is Comparison operators?"
   ]
  },
  {
   "cell_type": "code",
   "execution_count": 9,
   "id": "9358932c",
   "metadata": {},
   "outputs": [],
   "source": [
    "# write answer here"
   ]
  },
  {
   "cell_type": "markdown",
   "id": "90dde9e9",
   "metadata": {},
   "source": [
    "**10.** What is Logical operators?"
   ]
  },
  {
   "cell_type": "code",
   "execution_count": 10,
   "id": "45ffc050",
   "metadata": {},
   "outputs": [],
   "source": [
    "# write answer here"
   ]
  },
  {
   "cell_type": "markdown",
   "id": "17c4bc1b",
   "metadata": {},
   "source": [
    "**11.** What is Identity operators?"
   ]
  },
  {
   "cell_type": "code",
   "execution_count": 11,
   "id": "cfaebc65",
   "metadata": {},
   "outputs": [],
   "source": [
    "# write answer here"
   ]
  },
  {
   "cell_type": "markdown",
   "id": "292f4cf4",
   "metadata": {},
   "source": [
    "**12.** What is Membership operators?"
   ]
  },
  {
   "cell_type": "code",
   "execution_count": 12,
   "id": "c1d72b59",
   "metadata": {},
   "outputs": [],
   "source": [
    "# write answer here"
   ]
  },
  {
   "cell_type": "markdown",
   "id": "b63045c3",
   "metadata": {},
   "source": [
    "**13.** What is Bitwise operators?"
   ]
  },
  {
   "cell_type": "code",
   "execution_count": 14,
   "id": "78f05602",
   "metadata": {},
   "outputs": [],
   "source": [
    "# write answer here"
   ]
  },
  {
   "cell_type": "markdown",
   "id": "003b1f3e",
   "metadata": {},
   "source": [
    "**Q14.** Which of the following operators has the lowest precedence?\n",
    "\n",
    ">**a.** `**`  \n",
    "**b.** `and`  \n",
    "**c.** `Incorrect`  \n",
    "**d.** `%`  \n",
    "**e.** `not`  \n",
    "**f.** `Incorrect`  \n",
    "**g.** `+`"
   ]
  },
  {
   "cell_type": "code",
   "execution_count": 15,
   "id": "3c6c4763",
   "metadata": {},
   "outputs": [],
   "source": [
    "# write answer here"
   ]
  },
  {
   "cell_type": "markdown",
   "id": "43f410ab",
   "metadata": {},
   "source": [
    "**Q15.** What is the value of the expression 1 + 2 ** 3 * 4?\n",
    "\n",
    ">**a.** 36  \n",
    "**b.** 4097  \n",
    "**c.** 33  \n",
    "**d.** 108 "
   ]
  },
  {
   "cell_type": "code",
   "execution_count": null,
   "id": "9ac22b9c",
   "metadata": {},
   "outputs": [],
   "source": [
    "# write answer here"
   ]
  }
 ],
 "metadata": {
  "kernelspec": {
   "display_name": "Python 3",
   "language": "python",
   "name": "python3"
  },
  "language_info": {
   "codemirror_mode": {
    "name": "ipython",
    "version": 3
   },
   "file_extension": ".py",
   "mimetype": "text/x-python",
   "name": "python",
   "nbconvert_exporter": "python",
   "pygments_lexer": "ipython3",
   "version": "3.8.5"
  }
 },
 "nbformat": 4,
 "nbformat_minor": 5
}
