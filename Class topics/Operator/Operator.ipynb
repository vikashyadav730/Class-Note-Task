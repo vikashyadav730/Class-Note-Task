{
 "cells": [
  {
   "cell_type": "markdown",
   "id": "2ab149ab",
   "metadata": {},
   "source": [
    "<h2><img src=\"https://www.pentagonspace.in/assets/images/logo/logo-dark.png\" alt=\"pentagonspace.com/\" align=left></h2>\n",
    "<div class=\"a\" align=right>\n",
    "    <font style=\"border:white; border-width:10px; border-style:outset;\"width=\"100\" height=\"100\" > \n",
    "Practice Session </font>\n",
    "</div >\n",
    "\n",
    "<div id=\"myCarousel\" class=\"carousel slide text-center\" data-ride=\"carousel\">\n",
    "\n",
    "  <div class=\"carousel-inner\" role=\"listbox\">\n",
    "    <div class=\"item active\">\n",
    "    <h2 class=\"red-text\" style=\"color: Blue;\" >Operator </h2>\n",
    "    </div>\n",
    "  </div>"
   ]
  },
  {
   "cell_type": "markdown",
   "id": "4f62afea",
   "metadata": {},
   "source": [
    "**Q1.** What is the output of the following code :\n",
    ">(a) 4.5  \n",
    "(b) 4.0  \n",
    "(c) 4  \n",
    "(d) Error"
   ]
  },
  {
   "cell_type": "code",
   "execution_count": 17,
   "id": "35dc5f69",
   "metadata": {},
   "outputs": [],
   "source": [
    "# write answer here\n"
   ]
  },
  {
   "cell_type": "markdown",
   "id": "e9d08d19",
   "metadata": {},
   "source": [
    "**Q2.** In the Python statement x = a + 5 - b:\n",
    "\n",
    ">**.** a and b are ________  \n",
    "**.** a + 5 - b is ________  \n",
    "\n",
    "\n",
    "**a.** operators, a statement  \n",
    "**b.** operands, an equation  \n",
    "**c.** operands, an expression  \n",
    "**d.** terms, a group"
   ]
  },
  {
   "cell_type": "code",
   "execution_count": 2,
   "id": "1249cb02",
   "metadata": {},
   "outputs": [],
   "source": [
    "# write answer here"
   ]
  },
  {
   "cell_type": "markdown",
   "id": "c04af5d5",
   "metadata": {},
   "source": [
    "**Q3.** What is the value of the expression 100 / 25?"
   ]
  },
  {
   "cell_type": "code",
   "execution_count": 3,
   "id": "502a7ae4",
   "metadata": {},
   "outputs": [],
   "source": [
    "# write answer here"
   ]
  },
  {
   "cell_type": "markdown",
   "id": "8cb2e39b",
   "metadata": {},
   "source": [
    "**Q4.** Should you use the == operator to determine whether objects of type float are equal?\n",
    ">**a.** Nope, not a good idea.  \n",
    "**b.** Sure! Go for it."
   ]
  },
  {
   "cell_type": "code",
   "execution_count": 4,
   "id": "eb19b9ce",
   "metadata": {},
   "outputs": [],
   "source": [
    "# write answer here"
   ]
  },
  {
   "cell_type": "markdown",
   "id": "587e46b4",
   "metadata": {},
   "source": [
    "**Q5.** Consider the following code snippet:\n",
    "\n",
    ">x = 10.0  \n",
    "y = (x < 100.0) and isinstance(x, float)\n",
    "\n",
    "After these are executed, what is the value of y?\n",
    "\n",
    "**a.** False  \n",
    "**b.** 1  \n",
    "**c.** 0  \n",
    "**d.** True  \n",
    "**e.** None"
   ]
  },
  {
   "cell_type": "code",
   "execution_count": 5,
   "id": "74d5aef0",
   "metadata": {},
   "outputs": [],
   "source": [
    "# write answer here"
   ]
  },
  {
   "cell_type": "markdown",
   "id": "97eeba56",
   "metadata": {},
   "source": [
    "**Q6.** Suppose the following statements are executed:\n",
    "\n",
    ">a = 100\n",
    "b = 200  \n",
    "\n",
    "What is the value of the expression a and b?\n",
    "**a.** 100  \n",
    "**b.** False  \n",
    "**c.** True  \n",
    "**d.** 0  \n",
    "**e.** 200  "
   ]
  },
  {
   "cell_type": "code",
   "execution_count": 6,
   "id": "990cd1d0",
   "metadata": {},
   "outputs": [],
   "source": [
    "# write answer here"
   ]
  },
  {
   "cell_type": "markdown",
   "id": "f765c641",
   "metadata": {},
   "source": [
    "**Q7.** What is Arithmetic operators?"
   ]
  },
  {
   "cell_type": "code",
   "execution_count": 7,
   "id": "0145cff9",
   "metadata": {},
   "outputs": [],
   "source": [
    "# write answer here"
   ]
  },
  {
   "cell_type": "markdown",
   "id": "6cf415b7",
   "metadata": {},
   "source": [
    "**Q8.** What is Assignment operators?"
   ]
  },
  {
   "cell_type": "code",
   "execution_count": 8,
   "id": "3cd0793b",
   "metadata": {},
   "outputs": [],
   "source": [
    "# write answer here"
   ]
  },
  {
   "cell_type": "markdown",
   "id": "19912ed3",
   "metadata": {},
   "source": [
    "**Q9.** What is Comparison operators?"
   ]
  },
  {
   "cell_type": "code",
   "execution_count": 9,
   "id": "b0034a77",
   "metadata": {},
   "outputs": [],
   "source": [
    "# write answer here"
   ]
  },
  {
   "cell_type": "markdown",
   "id": "86b47582",
   "metadata": {},
   "source": [
    "**10.** What is Logical operators?"
   ]
  },
  {
   "cell_type": "code",
   "execution_count": 10,
   "id": "c851ddf2",
   "metadata": {},
   "outputs": [],
   "source": [
    "# write answer here"
   ]
  },
  {
   "cell_type": "markdown",
   "id": "d6d7c1c0",
   "metadata": {},
   "source": [
    "**11.** What is Identity operators?"
   ]
  },
  {
   "cell_type": "code",
   "execution_count": 11,
   "id": "611ad3fb",
   "metadata": {},
   "outputs": [],
   "source": [
    "# write answer here"
   ]
  },
  {
   "cell_type": "markdown",
   "id": "59d76042",
   "metadata": {},
   "source": [
    "**12.** What is Membership operators?"
   ]
  },
  {
   "cell_type": "code",
   "execution_count": 12,
   "id": "70a8b5be",
   "metadata": {},
   "outputs": [],
   "source": [
    "# write answer here"
   ]
  },
  {
   "cell_type": "markdown",
   "id": "8794eaaf",
   "metadata": {},
   "source": [
    "**13.** What is Bitwise operators?"
   ]
  },
  {
   "cell_type": "code",
   "execution_count": 14,
   "id": "8d57d485",
   "metadata": {},
   "outputs": [],
   "source": [
    "# write answer here"
   ]
  },
  {
   "cell_type": "markdown",
   "id": "45f2bab5",
   "metadata": {},
   "source": [
    "**Q14.** Which of the following operators has the lowest precedence?\n",
    "\n",
    ">**a.** `**`  \n",
    "**b.** `and`  \n",
    "**c.** `Incorrect`  \n",
    "**d.** `%`  \n",
    "**e.** `not`  \n",
    "**f.** `Incorrect`  \n",
    "**g.** `+`"
   ]
  },
  {
   "cell_type": "code",
   "execution_count": 15,
   "id": "aa380122",
   "metadata": {},
   "outputs": [],
   "source": [
    "# write answer here"
   ]
  },
  {
   "cell_type": "markdown",
   "id": "1750ef81",
   "metadata": {},
   "source": [
    "**Q15.** What is the value of the expression 1 + 2 ** 3 * 4?\n",
    "\n",
    ">**a.** 36  \n",
    "**b.** 4097  \n",
    "**c.** 33  \n",
    "**d.** 108 "
   ]
  },
  {
   "cell_type": "code",
   "execution_count": null,
   "id": "8839a261",
   "metadata": {},
   "outputs": [],
   "source": [
    "# write answer here"
   ]
  }
 ],
 "metadata": {
  "kernelspec": {
   "display_name": "Python 3",
   "language": "python",
   "name": "python3"
  },
  "language_info": {
   "codemirror_mode": {
    "name": "ipython",
    "version": 3
   },
   "file_extension": ".py",
   "mimetype": "text/x-python",
   "name": "python",
   "nbconvert_exporter": "python",
   "pygments_lexer": "ipython3",
   "version": "3.8.5"
  }
 },
 "nbformat": 4,
 "nbformat_minor": 5
}
