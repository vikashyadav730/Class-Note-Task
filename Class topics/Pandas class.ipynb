{
 "cells": [
  {
   "cell_type": "markdown",
   "id": "23a022c4",
   "metadata": {},
   "source": [
    "<div class=\"a\" align=right>\n",
    "    <font style=\"border:white; border-width:10px; border-style:outset;\"width=\"100\" height=\"100\" color=\"green\" > \n",
    "Class Notes </font>\n",
    "</div >\n",
    "\n",
    "<div id=\"myCarousel\" class=\"carousel slide text-center\" data-ride=\"carousel\">\n",
    "\n",
    "  <div class=\"carousel-inner\" role=\"listbox\">\n",
    "    <div class=\"item active\">\n",
    "    <h3 style=\"color: blue;\">Pandas</h3>\n",
    "    </div>\n",
    "  </div>"
   ]
  },
  {
   "cell_type": "markdown",
   "id": "fcff55a5",
   "metadata": {},
   "source": [
    "**What is Pandas?**  \n",
    "**1** Pandas is a Python library used for working with data sets.  \n",
    "**2** It has functions for analyzing, cleaning, exploring, and manipulating data."
   ]
  },
  {
   "cell_type": "markdown",
   "id": "e0b01daf",
   "metadata": {},
   "source": [
    "**Why Use Pandas?**  \n",
    "**1** Pandas allows us to analyze big data and make conclusions based on statistical theories.  \n",
    "**2** Pandas can clean messy data sets, and make them readable and relevant.  "
   ]
  },
  {
   "cell_type": "markdown",
   "id": "87a28eda",
   "metadata": {},
   "source": [
    "**Installation of Pandas**  \n",
    "If you have Python and PIP already installed on a system, then installation of Pandas is very easy.  \n",
    "Install it using this command:  \n",
    ">`C:\\Users\\Your Name>pip install pandas`"
   ]
  },
  {
   "cell_type": "markdown",
   "id": "49aec24f",
   "metadata": {},
   "source": [
    "# `Series`"
   ]
  },
  {
   "cell_type": "markdown",
   "id": "2fc13bc4",
   "metadata": {},
   "source": [
    "**→** A Pandas Series is like a column in a table.  \n",
    "**→** It is a one-dimensional array holding data of any type."
   ]
  },
  {
   "cell_type": "code",
   "execution_count": 5,
   "id": "897ad700",
   "metadata": {},
   "outputs": [
    {
     "data": {
      "text/plain": [
       "29.427877939124322"
      ]
     },
     "execution_count": 5,
     "metadata": {},
     "output_type": "execute_result"
    }
   ],
   "source": [
    "import pandas as pd\n",
    "kk = [2,3,4,5,6,76]\n",
    "dd = pd.Series(kk)\n",
    "dd.std()"
   ]
  },
  {
   "cell_type": "code",
   "execution_count": 10,
   "id": "fac85d2c",
   "metadata": {},
   "outputs": [
    {
     "data": {
      "text/plain": [
       "dtype('int64')"
      ]
     },
     "execution_count": 10,
     "metadata": {},
     "output_type": "execute_result"
    }
   ],
   "source": [
    "# type(dd)\n",
    "dd.dtype"
   ]
  },
  {
   "cell_type": "markdown",
   "id": "9597827c",
   "metadata": {},
   "source": [
    "**`Parameter & Description`**  \n",
    "1.**data**  \n",
    ">data takes various forms like ndarray, list, constants  \n",
    "\n",
    "2.**index**  \n",
    ">Index values must be unique and hashable, same length as data. Default np.arrange(n) if no index is passed.  \n",
    "\n",
    "3.**dtype**  \n",
    ">dtype is for data type. If None, data type will be inferred  \n"
   ]
  },
  {
   "cell_type": "code",
   "execution_count": null,
   "id": "17ae116d",
   "metadata": {},
   "outputs": [],
   "source": []
  },
  {
   "cell_type": "code",
   "execution_count": null,
   "id": "a4594c5c",
   "metadata": {},
   "outputs": [],
   "source": []
  },
  {
   "cell_type": "code",
   "execution_count": null,
   "id": "f908f6bb",
   "metadata": {},
   "outputs": [],
   "source": []
  }
 ],
 "metadata": {
  "kernelspec": {
   "display_name": "Python 3 (ipykernel)",
   "language": "python",
   "name": "python3"
  },
  "language_info": {
   "codemirror_mode": {
    "name": "ipython",
    "version": 3
   },
   "file_extension": ".py",
   "mimetype": "text/x-python",
   "name": "python",
   "nbconvert_exporter": "python",
   "pygments_lexer": "ipython3",
   "version": "3.9.7"
  }
 },
 "nbformat": 4,
 "nbformat_minor": 5
}
