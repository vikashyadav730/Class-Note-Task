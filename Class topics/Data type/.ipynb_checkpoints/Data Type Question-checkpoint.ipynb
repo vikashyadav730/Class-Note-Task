{
 "cells": [
  {
   "cell_type": "markdown",
   "id": "9b41b0d9",
   "metadata": {},
   "source": [
    "<div class=\"a\" align=right>\n",
    "    <font style=\"border:white; border-width:10px; border-style:outset;\"width=\"100\" height=\"100\" > \n",
    "Practice Session </font>\n",
    "</div >\n",
    "\n",
    "<div id=\"myCarousel\" class=\"carousel slide text-center\" data-ride=\"carousel\">\n",
    "\n",
    "  <div class=\"carousel-inner\" role=\"listbox\">\n",
    "    <div class=\"item active\">\n",
    "    <h2>Data Types </h2>\n",
    "    </div>\n",
    "  </div>"
   ]
  },
  {
   "cell_type": "markdown",
   "id": "4ea80e23",
   "metadata": {},
   "source": [
    "**Q1.** What is the output of the following code\n",
    "\n",
    "`>>>print(bool(0), bool(3.14159), bool(-3), bool(1.0+1j))`\n",
    "\n",
    ">**a.** False True False True  \n",
    "**b.** True True False True  \n",
    "**c.** True True False True  \n",
    "**d.** False True True True"
   ]
  },
  {
   "cell_type": "code",
   "execution_count": 1,
   "id": "828ce468",
   "metadata": {},
   "outputs": [],
   "source": [
    "#write answer here"
   ]
  },
  {
   "cell_type": "markdown",
   "id": "73243123",
   "metadata": {},
   "source": [
    "**Q2.** What is the data type of print(type(0xFF))\n",
    "\n",
    ">**a.** number  \n",
    "**b.** hexint  \n",
    "**c.** hex  \n",
    "**d.** int  "
   ]
  },
  {
   "cell_type": "code",
   "execution_count": 2,
   "id": "156854c1",
   "metadata": {},
   "outputs": [],
   "source": [
    "#write answer here"
   ]
  },
  {
   "cell_type": "markdown",
   "id": "052e1f99",
   "metadata": {},
   "source": [
    "**3.** Select all the valid String creation in Python  \n",
    "**a.**  \n",
    ">str1 = 'str1'  \n",
    ">str1 = \"str1\"  \n",
    ">str1 = '''str'''  \n",
    "\n",
    "**b.**\n",
    ">str1 = 'Jessa''  \n",
    "str1 = \"Jessa\"\"  \n",
    "str1 = '''Jessa''\n",
    "\n",
    "**c.**\n",
    ">str1 = str(Jessa)"
   ]
  },
  {
   "cell_type": "code",
   "execution_count": 3,
   "id": "e57d603a",
   "metadata": {},
   "outputs": [],
   "source": [
    "#write answer here"
   ]
  },
  {
   "cell_type": "markdown",
   "id": "4c9b399d",
   "metadata": {},
   "source": [
    "**4.** What is the data type of print(type(10))\n",
    "\n",
    ">**a.** float  \n",
    "**b.** integer  \n",
    "**c.** int  \n",
    "**d.** complex"
   ]
  },
  {
   "cell_type": "code",
   "execution_count": 4,
   "id": "f4c0091d",
   "metadata": {},
   "outputs": [],
   "source": [
    "#write answer here"
   ]
  },
  {
   "cell_type": "markdown",
   "id": "c5da083d",
   "metadata": {},
   "source": [
    "**5.** What is a string data type ?."
   ]
  },
  {
   "cell_type": "code",
   "execution_count": 5,
   "id": "7d2d6682",
   "metadata": {},
   "outputs": [],
   "source": [
    "#write answer here"
   ]
  },
  {
   "cell_type": "markdown",
   "id": "2de38816",
   "metadata": {},
   "source": [
    "**6.** What is the result of print(type([]) is list)\n",
    "\n",
    ">**a.** False  \n",
    "**b.** True"
   ]
  },
  {
   "cell_type": "code",
   "execution_count": 6,
   "id": "50e3f2db",
   "metadata": {},
   "outputs": [],
   "source": [
    "#write answer here"
   ]
  },
  {
   "cell_type": "markdown",
   "id": "ffbf58ce",
   "metadata": {},
   "source": [
    "**Q7.) Print First Character**  \n",
    "You just need to take string input from stdin and print the first character of the string to the jupyter cell.\n",
    "\n",
    "**Input Format**  \n",
    "You will be taking a string as an input from user.\n",
    "\n",
    "**Output Format**  \n",
    "You need to print the first character of the string to the jupyter cell.  \n",
    "\n",
    "**Sample TestCase 1**  \n",
    ">**Input**\n",
    ">>Hello Pentagone\n",
    "\n",
    ">**Output**\n",
    ">>H"
   ]
  },
  {
   "cell_type": "code",
   "execution_count": 7,
   "id": "3daf6df7",
   "metadata": {},
   "outputs": [],
   "source": [
    "#write answer here"
   ]
  },
  {
   "cell_type": "markdown",
   "id": "0e81f116",
   "metadata": {},
   "source": [
    "**8.** What is a list data type ?."
   ]
  },
  {
   "cell_type": "code",
   "execution_count": 8,
   "id": "94651ff1",
   "metadata": {},
   "outputs": [],
   "source": [
    "#write answer here"
   ]
  },
  {
   "cell_type": "markdown",
   "id": "4da84eac",
   "metadata": {},
   "source": [
    "**9.** What is a tuple data type ?."
   ]
  },
  {
   "cell_type": "code",
   "execution_count": 9,
   "id": "3fe331c4",
   "metadata": {},
   "outputs": [],
   "source": [
    "#write answer here"
   ]
  },
  {
   "cell_type": "markdown",
   "id": "94cbfc01",
   "metadata": {},
   "source": [
    "**10.** what is difference between set and dictionary?"
   ]
  },
  {
   "cell_type": "code",
   "execution_count": 10,
   "id": "b582c58f",
   "metadata": {},
   "outputs": [],
   "source": [
    "#write answer here"
   ]
  },
  {
   "cell_type": "markdown",
   "id": "3aa0713a",
   "metadata": {},
   "source": [
    "**11.** Which of the following are immutable?  \n",
    ">**a.** Number  \n",
    "**b.** String  \n",
    "**c.** tuple  \n",
    "**d.** All of the above\n",
    "\n"
   ]
  },
  {
   "cell_type": "code",
   "execution_count": 11,
   "id": "a507df35",
   "metadata": {},
   "outputs": [],
   "source": [
    "#write answer here"
   ]
  },
  {
   "cell_type": "markdown",
   "id": "69630403",
   "metadata": {},
   "source": [
    "**12.** Scientific notation for float number 0.0001234 is _______\n",
    ">**a.** 1234e-10  \n",
    "**b.** 1.234e-04  \n",
    "**c.** 0.1234E-6  \n",
    "**d.** Non of the above\n",
    "\n"
   ]
  },
  {
   "cell_type": "code",
   "execution_count": 12,
   "id": "374331ca",
   "metadata": {},
   "outputs": [],
   "source": [
    "#write answer here"
   ]
  },
  {
   "cell_type": "markdown",
   "id": "1946a885",
   "metadata": {},
   "source": [
    "**13.** What is true about complex numbers?\n",
    ">**a.** The real and imaginary component can be float  \n",
    "**b.** The real part should be an integer.  \n",
    "**c.** Scientific notation cannot be used in complex number  \n",
    "**d.** All of above\n"
   ]
  },
  {
   "cell_type": "code",
   "execution_count": 13,
   "id": "c4ee7426",
   "metadata": {},
   "outputs": [],
   "source": [
    "#write answer here"
   ]
  },
  {
   "cell_type": "markdown",
   "id": "3eb278c8",
   "metadata": {},
   "source": [
    "**14.** The int() function can be useful to convert.\n",
    ">**a.** string to Integer  \n",
    "**b.** hexadecimal to integer  \n",
    "**c.** float to int  \n",
    "**d.** Complex number to int\n"
   ]
  },
  {
   "cell_type": "code",
   "execution_count": 14,
   "id": "6e7b3d6a",
   "metadata": {},
   "outputs": [],
   "source": [
    "#write answer here"
   ]
  },
  {
   "cell_type": "markdown",
   "id": "e22dae91",
   "metadata": {},
   "source": [
    "**15.** what is difference between list and complex number?"
   ]
  },
  {
   "cell_type": "code",
   "execution_count": 15,
   "id": "609e0d9b",
   "metadata": {},
   "outputs": [],
   "source": [
    "#write answer here"
   ]
  }
 ],
 "metadata": {
  "kernelspec": {
   "display_name": "Python 3 (ipykernel)",
   "language": "python",
   "name": "python3"
  },
  "language_info": {
   "codemirror_mode": {
    "name": "ipython",
    "version": 3
   },
   "file_extension": ".py",
   "mimetype": "text/x-python",
   "name": "python",
   "nbconvert_exporter": "python",
   "pygments_lexer": "ipython3",
   "version": "3.9.7"
  }
 },
 "nbformat": 4,
 "nbformat_minor": 5
}
