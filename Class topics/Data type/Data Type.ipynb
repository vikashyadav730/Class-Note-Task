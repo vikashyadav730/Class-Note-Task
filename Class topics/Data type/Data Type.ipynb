{
 "cells": [
  {
   "cell_type": "markdown",
   "id": "3c817a33",
   "metadata": {},
   "source": [
    "<h2><img src=\"https://www.pentagonspace.in/assets/images/logo/logo-dark.png\" alt=\"pentagonspace.com/\" align=left></h2>\n",
    "<div class=\"a\" align=right>\n",
    "    <font style=\"border:white; border-width:10px; border-style:outset;\"width=\"100\" height=\"100\" > \n",
    "Grooming Session </font>\n",
    "</div >\n",
    "\n",
    "<div id=\"myCarousel\" class=\"carousel slide text-center\" data-ride=\"carousel\">\n",
    "\n",
    "  <div class=\"carousel-inner\" role=\"listbox\">\n",
    "    <div class=\"item active\">\n",
    "    <h2>Data Type </h2>\n",
    "    </div>\n",
    "  </div>\n"
   ]
  },
  {
   "cell_type": "markdown",
   "id": "0538e669",
   "metadata": {},
   "source": [
    "# `Data Type`"
   ]
  },
  {
   "cell_type": "markdown",
   "id": "df431def",
   "metadata": {},
   "source": [
    "Data types are an essential concept in the python programming language. In Python, every value has its own python data type. The classification of data items or to put the data value into some sort of data category is called Data Types. It helps to understand what kind of operations can be performed on a value.\n",
    "\n",
    "In the Python Programming Language, everything is an object. Data types in Python represents the classes. The objects or instances of these classes are called variables.  \n",
    "Let us now discuss the different kinds of data types in Python. "
   ]
  },
  {
   "cell_type": "markdown",
   "id": "d7da2fb3",
   "metadata": {},
   "source": [
    "**`1. Python Numbers`**"
   ]
  },
  {
   "cell_type": "markdown",
   "id": "c3a34072",
   "metadata": {},
   "source": [
    "We can find complex numbers, floating point numbers and integers in the category of Python Numbers.  Complex numbers are defined as a complex class, floating point numbers are defined as float and  integers are defined as an int in Python. There is one more type of datatype in this category,and   that is long. It is used to hold longer integers. One will find this datatype only in Python 2.x   which was later removed in Python 3.x. "
   ]
  },
  {
   "cell_type": "markdown",
   "id": "c5cdb3b3",
   "metadata": {},
   "source": [
    "“Type()” function is used to know the class of a value or variable. To check the value for a particular class, “isinstance()” function is used. "
   ]
  },
  {
   "cell_type": "markdown",
   "id": "ef9c5346",
   "metadata": {},
   "source": [
    "**`➤ Integers:`**  \n",
    ">There is no maximum limit on the value of an integer. The integer can be of any length without any limitation which can go up to the maximum available memory of the system. "
   ]
  },
  {
   "cell_type": "markdown",
   "id": "0c188579",
   "metadata": {},
   "source": [
    "**Integers can look like this:**  \n",
    "> print(123 + 1)  \n",
    "\n",
    "124"
   ]
  },
  {
   "cell_type": "markdown",
   "id": "7759a630",
   "metadata": {},
   "source": [
    "**`➤ Floating Point Number:`**  \n",
    ">The difference between floating points and integers is decimal points. Floating point number can be represented as “1.0”, and integer can be represented as “1”. It is accurate up to 15 decimal places."
   ]
  },
  {
   "cell_type": "markdown",
   "id": "00675271",
   "metadata": {},
   "source": [
    "**`➤ Complex Number:`**  \n",
    ">“x + yj” is the written form of the complex number. Here y is the imaginary part and x is the real part."
   ]
  },
  {
   "cell_type": "markdown",
   "id": "6b7883ac",
   "metadata": {},
   "source": [
    "**`2 Python Strings:`**  \n",
    "\n",
    "A String is a sequence of Unicode characters. In Python, String is called str. Strings are represented by using Double quotes or single quotes. If the strings are multiple, then it can be denoted by the use of triple quotes “”” or ”’. All the characters between the quotes are items of the string."
   ]
  },
  {
   "cell_type": "markdown",
   "id": "cb86f7ac",
   "metadata": {},
   "source": [
    "One can put as many as the character they want with the only limitation being the memory resources of the machine system. Deletion or Updation of a string is not allowed in python programming language because it will cause an error. Thus, the modification of strings is not supported in the python programming language."
   ]
  },
  {
   "cell_type": "markdown",
   "id": "efbfc610",
   "metadata": {},
   "source": [
    "A string can look like this:"
   ]
  },
  {
   "cell_type": "markdown",
   "id": "d50c185f",
   "metadata": {},
   "source": [
    ">`>>> s = \"Python String\"`  \n",
    ">`>>> s = 'Python String'`"
   ]
  },
  {
   "cell_type": "markdown",
   "id": "c9d5665c",
   "metadata": {},
   "source": [
    "Strings are also immutable like tuples and items can be extracted using slicing operators [].\n",
    "\n",
    "If one wants to represent something in the string using quotes, then they will need to use other types of quotes to define the string in the beginning and the ending.\n",
    "\n",
    "Such as: \n",
    "\n",
    "`>>> print(\"This string contains a single quote (') character.\")`\n",
    "\n",
    "This string contains a single quote (') character.\n",
    "\n",
    "`>>> print('This string contains a double quote (\") character.')`\n",
    "\n",
    "This string contains a double quote (\") character."
   ]
  },
  {
   "cell_type": "markdown",
   "id": "d99647f8",
   "metadata": {},
   "source": [
    "**`3. Boolean Type`**  \n",
    "\n",
    "There can be only two types of value in the Boolean data type of Python, and that is True or False. \n",
    "\n",
    "It can look like this:\n",
    "\n",
    "`>>> type(True)`\n",
    "\n",
    "class ‘bool’\n",
    "\n",
    "`>>> type(False)`\n",
    "\n",
    "class ‘bool’\n",
    "\n",
    "The true value in the Boolean context is called “truthy”, and for false value in the Boolean context, it is called “falsy”. Truthy is defined by the objects in boolean, which is equal to True, and in the same way, Falsy is defined by the objects equal to falsy. One can also evaluate Non-Boolean objects in a Boolean context."
   ]
  },
  {
   "cell_type": "markdown",
   "id": "8260b4c0",
   "metadata": {},
   "source": [
    "**`4. Python List`**"
   ]
  },
  {
   "cell_type": "markdown",
   "id": "470b1c76",
   "metadata": {},
   "source": [
    "An ordered sequence of items is called List. It is a very flexible data type in Python. There is no need for the value in the list to be of the same data type. The List is the data type that is highly used data type in Python. List datatype is the most exclusive datatype in Python for containing versatile data. It can easily hold different types of data in Python.  \n",
    "\n",
    "It is effortless to declare a list. The list is enclosed with brackets and commas are used to separate the items. \n",
    "\n",
    "A list can look like this:\n",
    "\n",
    "`>>> a = [5,9.9,’list’]`\n",
    "\n",
    "One can also alter the value of an element in the list."
   ]
  },
  {
   "cell_type": "markdown",
   "id": "6644063f",
   "metadata": {},
   "source": [
    "**`5. Python Tuple`**"
   ]
  },
  {
   "cell_type": "markdown",
   "id": "9d044ba9",
   "metadata": {},
   "source": [
    "A Tuple is a sequence of items that are in order, and it is not possible to modify the Tuples. The main difference list and tuples are that tuple is immutable, which means it cannot be altered. Tuples are generally faster than the list data type in Python because it cannot be changed or modified like list datatype. The primary use of Tuples is to write-protect data. Tuples can be represented by using parentheses (), and commas are used to separate the items. \n",
    "\n",
    "Tuples can look like this:\n",
    "\n",
    "`>>> t = (6,’tuple’,4+2r)`\n",
    "\n",
    "In the case of a tuple, one can use the slicing operator to extract the item, but it will not allow changing the value."
   ]
  },
  {
   "cell_type": "markdown",
   "id": "bda20333",
   "metadata": {},
   "source": [
    "**`6. Python Set`**  \n",
    "\n",
    "The Collection of Unique items that are not in order is called Set. Braces {} are used to defined set and a comma is used to separate values. One will find that the items are unordered in a set data type.\n",
    "\n",
    "Duplicates are eliminated in a set and set only keeps unique values. Operations like intersection and union can be performed on two sets. \n",
    "\n",
    "Python set will look like this:\n",
    "\n",
    "`>>> a = {4,5,5,6,6,6}`\n",
    "\n",
    "`>>> a`\n",
    "\n",
    "{4, 5, 6}\n",
    "\n",
    "The slicing operator does not work on set because the set is not a collection of ordered items, and that is why there is no meaning to the indexing of set."
   ]
  },
  {
   "cell_type": "markdown",
   "id": "eb934f99",
   "metadata": {},
   "source": [
    "**`7. Python Dictionary`**  \n",
    "\n",
    "Dictionary is a type of python data type in which collections are unordered, and values are in pairs called key-value pairs. This type of data type is useful when there is a high volume of data. One of the best functions of Dictionaries data type is retrieving the data for which it is optimized. The value can only be retrieved if one knows the key to retrieve it. \n",
    "\n",
    "Braces {} (curly brackets) are used to define dictionaries data type in Python. A Pair in the dictionary data type is an item which is represented as key:value. The value and the key can be of any data type.\n",
    "\n",
    "Python Dictionary can look like this:\n",
    "\n",
    "`>>> d = {3:’key’,4:’value’}`"
   ]
  },
  {
   "cell_type": "code",
   "execution_count": null,
   "id": "0da2e089",
   "metadata": {},
   "outputs": [],
   "source": [
    "max()"
   ]
  }
 ],
 "metadata": {
  "kernelspec": {
   "display_name": "Python 3",
   "language": "python",
   "name": "python3"
  },
  "language_info": {
   "codemirror_mode": {
    "name": "ipython",
    "version": 3
   },
   "file_extension": ".py",
   "mimetype": "text/x-python",
   "name": "python",
   "nbconvert_exporter": "python",
   "pygments_lexer": "ipython3",
   "version": "3.8.5"
  }
 },
 "nbformat": 4,
 "nbformat_minor": 5
}
