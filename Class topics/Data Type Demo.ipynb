{
 "cells": [
  {
   "cell_type": "markdown",
   "id": "bd82d80a",
   "metadata": {},
   "source": [
    "# Data type"
   ]
  },
  {
   "cell_type": "markdown",
   "id": "d8411995",
   "metadata": {},
   "source": [
    "`Text Type`:\tstr  \n",
    "`Numeric Types`:\tint, float, complex  \n",
    "`Sequence Types`:\tlist, tuple, range  \n",
    "`Mapping Type`:\tdict  \n",
    "`Set Types`:\tset, frozenset  \n",
    "`Boolean Type`:\tbool  \n",
    "`Binary Types`:\tbytes, bytearray, memoryview"
   ]
  },
  {
   "cell_type": "code",
   "execution_count": null,
   "id": "80994542",
   "metadata": {},
   "outputs": [],
   "source": []
  }
 ],
 "metadata": {
  "kernelspec": {
   "display_name": "Python 3 (ipykernel)",
   "language": "python",
   "name": "python3"
  },
  "language_info": {
   "codemirror_mode": {
    "name": "ipython",
    "version": 3
   },
   "file_extension": ".py",
   "mimetype": "text/x-python",
   "name": "python",
   "nbconvert_exporter": "python",
   "pygments_lexer": "ipython3",
   "version": "3.8.11"
  }
 },
 "nbformat": 4,
 "nbformat_minor": 5
}
