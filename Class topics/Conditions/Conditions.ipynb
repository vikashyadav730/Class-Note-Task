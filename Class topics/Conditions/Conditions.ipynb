{
 "cells": [
  {
   "cell_type": "markdown",
   "id": "c96e6438",
   "metadata": {},
   "source": [
    "<h2><img src=\"https://www.pentagonspace.in/assets/images/logo/logo-dark.png\" alt=\"pentagonspace.com/\" align=left></h2>\n",
    "<div class=\"a\" align=right>\n",
    "    <font style=\"border:white; border-width:10px; border-style:outset;\"width=\"100\" height=\"100\" color=\"Blue\" > \n",
    "Practice Session </font>\n",
    "</div >\n",
    "\n",
    "<div id=\"myCarousel\" class=\"carousel slide text-center\" data-ride=\"carousel\">\n",
    "\n",
    "  <div class=\"carousel-inner\" role=\"listbox\">\n",
    "    <div class=\"item active\">\n",
    "    <h2 >Conditions </h2>\n",
    "    </div>\n",
    "  </div>"
   ]
  },
  {
   "cell_type": "markdown",
   "id": "1b0d90d5",
   "metadata": {},
   "source": [
    "**Q1.** What is Python If Statement?"
   ]
  },
  {
   "cell_type": "code",
   "execution_count": 1,
   "id": "3d111e13",
   "metadata": {},
   "outputs": [],
   "source": [
    "#write answer here"
   ]
  },
  {
   "cell_type": "markdown",
   "id": "34885d16",
   "metadata": {},
   "source": [
    "**Q2.** Take input of age of 3 people by user and determine oldest and youngest among them."
   ]
  },
  {
   "cell_type": "code",
   "execution_count": 2,
   "id": "1e62cd77",
   "metadata": {},
   "outputs": [],
   "source": [
    "#write answer here"
   ]
  },
  {
   "cell_type": "markdown",
   "id": "1a928cc3",
   "metadata": {},
   "source": [
    "**Q3.** What is pass Statement in Python?"
   ]
  },
  {
   "cell_type": "code",
   "execution_count": 3,
   "id": "244f4cc0",
   "metadata": {},
   "outputs": [],
   "source": [
    "#write answer here"
   ]
  },
  {
   "cell_type": "markdown",
   "id": "ae01892e",
   "metadata": {},
   "source": [
    "**Q4.** What is different between and,or keyword in Python?"
   ]
  },
  {
   "cell_type": "code",
   "execution_count": 4,
   "id": "3ae83683",
   "metadata": {},
   "outputs": [],
   "source": [
    "#write answer here"
   ]
  },
  {
   "cell_type": "markdown",
   "id": "6d17e406",
   "metadata": {},
   "source": [
    "**Q5.** In a Python program, a control structure:\n",
    ">**a.** Directs the order of execution of the statements in the program  \n",
    "**b.** Manages the input and output of control characters  \n",
    "**c.** Defines program-specific data structures  \n",
    "**d.** Dictates what happens before the program starts and after it terminates"
   ]
  },
  {
   "cell_type": "code",
   "execution_count": 5,
   "id": "dddd54dd",
   "metadata": {},
   "outputs": [],
   "source": [
    "#write answer here"
   ]
  },
  {
   "cell_type": "markdown",
   "id": "32e75699",
   "metadata": {},
   "source": [
    "**Q6.** Which one of the following if statements will not execute successfully:\n",
    "\n",
    "    A. if (1, 2):  \n",
    "          print('foo')\n",
    "    \n",
    "    B. if (1, 2):  \n",
    "          print('foo')\n",
    "    \n",
    "    C. if (1, 2):  \n",
    "          print('foo')\n",
    "\n",
    "    D. if (1, 2):  \n",
    "          print('foo')\n",
    "\n",
    "    E. if (1, 2):  \n",
    "          print('foo')"
   ]
  },
  {
   "cell_type": "code",
   "execution_count": 6,
   "id": "127871d4",
   "metadata": {},
   "outputs": [],
   "source": [
    "#write answer here"
   ]
  },
  {
   "cell_type": "markdown",
   "id": "61835ab4",
   "metadata": {},
   "source": [
    "**Q7.** What signifies the end of a statement block or suite in Python?\n",
    "\n",
    ">**a.** end  \n",
    "**b.** A comment  \n",
    "**c.** A line that is indented less than the previous line  \n",
    "**d.** }"
   ]
  },
  {
   "cell_type": "code",
   "execution_count": 7,
   "id": "dafbb381",
   "metadata": {},
   "outputs": [],
   "source": [
    "#write answer here"
   ]
  },
  {
   "cell_type": "markdown",
   "id": "c805e071",
   "metadata": {},
   "source": [
    "**Q8.** What is the output of the following code snippet:\n",
    "\n",
    "    if 'bar' in {'foo': 1, 'bar': 2, 'baz': 3}:\n",
    "        print(1)\n",
    "        print(2)\n",
    "        if 'a' in 'qux':\n",
    "            print(3)\n",
    "    print(4)"
   ]
  },
  {
   "cell_type": "code",
   "execution_count": 8,
   "id": "ed862cc1",
   "metadata": {},
   "outputs": [],
   "source": [
    "#write answer here"
   ]
  },
  {
   "cell_type": "markdown",
   "id": "4da471d3",
   "metadata": {},
   "source": [
    "**Q9.** Suppose you have the following variables defined:\n",
    "\n",
    ">a = 100  \n",
    ">b = 50  \n",
    "\n",
    "Write a Python if/else statement to assign the smaller of a and b to the variable m."
   ]
  },
  {
   "cell_type": "code",
   "execution_count": 9,
   "id": "c5742baf",
   "metadata": {},
   "outputs": [],
   "source": [
    "#write answer here"
   ]
  },
  {
   "cell_type": "markdown",
   "id": "38cdae42",
   "metadata": {},
   "source": [
    "**Q10.** Which of the following are valid if/else statements in Python, assuming x and y are defined appropriately:\n",
    "\n",
    "    A. if x < y: print('foo')\n",
    "       elif y < x: print('bar')\n",
    "       else: print('baz')\n",
    "\n",
    "    B. if x < y: if x > 10: print('foo')\n",
    "\n",
    "    C. if x < y: print('foo') else: print('bar')\n",
    "\n",
    "    D.if x < y: print('foo'); print('bar'); print('baz')"
   ]
  },
  {
   "cell_type": "code",
   "execution_count": 10,
   "id": "2cad7e21",
   "metadata": {},
   "outputs": [],
   "source": [
    "#write answer here"
   ]
  },
  {
   "cell_type": "markdown",
   "id": "a836cd6d",
   "metadata": {},
   "source": [
    "**Q11.** What is value of this expression:\n",
    "\n",
    ">'a' + 'x' if '123'.isdigit() else 'y' + 'b'  \n",
    "\n",
    "**a.** 'ab'  \n",
    "**b.** 'ax'  \n",
    "**c.** 'axb'  \n",
    "**d.** 'axyb'  "
   ]
  },
  {
   "cell_type": "code",
   "execution_count": 11,
   "id": "aa011fad",
   "metadata": {},
   "outputs": [],
   "source": [
    "#write answer here"
   ]
  },
  {
   "cell_type": "code",
   "execution_count": null,
   "id": "c783bacd",
   "metadata": {},
   "outputs": [],
   "source": []
  }
 ],
 "metadata": {
  "kernelspec": {
   "display_name": "Python 3",
   "language": "python",
   "name": "python3"
  },
  "language_info": {
   "codemirror_mode": {
    "name": "ipython",
    "version": 3
   },
   "file_extension": ".py",
   "mimetype": "text/x-python",
   "name": "python",
   "nbconvert_exporter": "python",
   "pygments_lexer": "ipython3",
   "version": "3.8.5"
  }
 },
 "nbformat": 4,
 "nbformat_minor": 5
}
