{
 "cells": [
  {
   "cell_type": "markdown",
   "id": "49d048d3",
   "metadata": {},
   "source": [
    "<h2><img src=\"https://www.pentagonspace.in/assets/images/logo/logo-dark.png\" alt=\"pentagonspace.com/\" align=left></h2>\n",
    "<div class=\"a\" align=right>\n",
    "    <font style=\"border:white; border-width:10px; border-style:outset;\"width=\"100\" height=\"100\" color=\"Blue\" > \n",
    "Practice Session </font>\n",
    "</div >\n",
    "\n",
    "<div id=\"myCarousel\" class=\"carousel slide text-center\" data-ride=\"carousel\">\n",
    "\n",
    "  <div class=\"carousel-inner\" role=\"listbox\">\n",
    "    <div class=\"item active\">\n",
    "    <h2 >Conditions </h2>\n",
    "    </div>\n",
    "  </div>"
   ]
  },
  {
   "cell_type": "markdown",
   "id": "aa7c6e29",
   "metadata": {},
   "source": [
    "**Q1.** What is Python If Statement?"
   ]
  },
  {
   "cell_type": "code",
   "execution_count": null,
   "id": "74f62c56",
   "metadata": {},
   "outputs": [],
   "source": []
  },
  {
   "cell_type": "markdown",
   "id": "b12517e2",
   "metadata": {},
   "source": [
    "**Q2.** Take input of age of 3 people by user and determine oldest and youngest among them."
   ]
  },
  {
   "cell_type": "code",
   "execution_count": null,
   "id": "73e0c653",
   "metadata": {},
   "outputs": [],
   "source": []
  },
  {
   "cell_type": "markdown",
   "id": "2b996259",
   "metadata": {},
   "source": [
    "**Q3.** What is pass Statement in Python?"
   ]
  },
  {
   "cell_type": "code",
   "execution_count": null,
   "id": "4ede5d4b",
   "metadata": {},
   "outputs": [],
   "source": []
  },
  {
   "cell_type": "markdown",
   "id": "acca75dc",
   "metadata": {},
   "source": [
    "**Q4.** What is different between and,or keyword in Python?"
   ]
  },
  {
   "cell_type": "code",
   "execution_count": null,
   "id": "65ea6651",
   "metadata": {},
   "outputs": [],
   "source": []
  },
  {
   "cell_type": "markdown",
   "id": "41678ee4",
   "metadata": {},
   "source": [
    "**Q5.** In a Python program, a control structure:\n",
    ">**a.** Directs the order of execution of the statements in the program  \n",
    "**b.** Manages the input and output of control characters  \n",
    "**c.** Defines program-specific data structures  \n",
    "**d.** Dictates what happens before the program starts and after it terminates"
   ]
  },
  {
   "cell_type": "code",
   "execution_count": null,
   "id": "9a41f654",
   "metadata": {},
   "outputs": [],
   "source": []
  },
  {
   "cell_type": "raw",
   "id": "ba92caee",
   "metadata": {},
   "source": [
    "**Q6.** Which one of the following if statements will not execute successfully:\n",
    "\n",
    "    if (1, 2):  \n",
    "       print('foo')\n",
    "    \n",
    "    if (1, 2):  \n",
    "        print('foo')\n",
    "    \n",
    "    if (1, 2):  \n",
    "        print('foo')\n",
    "\n",
    "    if (1, 2):  \n",
    "        print('foo')\n",
    "\n",
    "    if (1, 2):  \n",
    "        print('foo')"
   ]
  },
  {
   "cell_type": "code",
   "execution_count": null,
   "id": "477257ae",
   "metadata": {},
   "outputs": [],
   "source": []
  },
  {
   "cell_type": "code",
   "execution_count": null,
   "id": "9cce5d3f",
   "metadata": {},
   "outputs": [],
   "source": []
  }
 ],
 "metadata": {
  "kernelspec": {
   "display_name": "Python 3",
   "language": "python",
   "name": "python3"
  },
  "language_info": {
   "codemirror_mode": {
    "name": "ipython",
    "version": 3
   },
   "file_extension": ".py",
   "mimetype": "text/x-python",
   "name": "python",
   "nbconvert_exporter": "python",
   "pygments_lexer": "ipython3",
   "version": "3.8.5"
  }
 },
 "nbformat": 4,
 "nbformat_minor": 5
}
