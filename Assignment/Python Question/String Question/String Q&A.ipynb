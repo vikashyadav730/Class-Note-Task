{
 "cells": [
  {
   "cell_type": "markdown",
   "metadata": {},
   "source": [
    "<h2><img src=\"https://www.pentagonspace.in/assets/images/logo/logo-dark.png\" alt=\"pentagonspace.com/\" align=left></h2>\n",
    "<div class=\"a\" align=right>\n",
    "    <font style=\"border:white; border-width:10px; border-style:outset;\"width=\"100\" height=\"100\" color=\"green\" > \n",
    "Assignment Question </font>\n",
    "</div >\n",
    "\n",
    "<div id=\"myCarousel\" class=\"carousel slide text-center\" data-ride=\"carousel\">\n",
    "\n",
    "  <div class=\"carousel-inner\" role=\"listbox\">\n",
    "    <div class=\"item active\">\n",
    "    <h3 style=\"color: blue;\">String Question</h3>\n",
    "    </div>\n",
    "  </div>\n"
   ]
  },
  {
   "cell_type": "markdown",
   "metadata": {},
   "source": [
    "**Q1. Write a Python program to find sum of two string and calculate the length of a final string.**\n",
    "\n",
    "**Sample TestCase:**\n",
    "\n",
    "**input:**\n",
    ">x = 'Hello'  \n",
    ">y = '    Pentagon'\n",
    "\n",
    "**output:**\n",
    ">13\n"
   ]
  },
  {
   "cell_type": "code",
   "execution_count": 1,
   "metadata": {},
   "outputs": [
    {
     "name": "stdout",
     "output_type": "stream",
     "text": [
      "13\n"
     ]
    }
   ],
   "source": [
    "x = 'Hello'\n",
    "y = '    Pentagon'\n",
    "final_string = x + y.strip()\n",
    "print(len(final_string))"
   ]
  },
  {
   "cell_type": "markdown",
   "metadata": {},
   "source": [
    "**Q2. Write a python program to print that slice of string.**\n",
    "\n",
    "**Sample TestCase:**\n",
    "\n",
    "**Input:**  \n",
    ">x = Hello Pentagon  \n",
    ">n1 = 1  \n",
    ">n2 = 4\n",
    "\n",
    "**Output:**  \n",
    ">ello"
   ]
  },
  {
   "cell_type": "code",
   "execution_count": 2,
   "metadata": {},
   "outputs": [
    {
     "name": "stdout",
     "output_type": "stream",
     "text": [
      "ello\n"
     ]
    }
   ],
   "source": [
    "x = 'Hello Pentagon'\n",
    "n1 = 1\n",
    "n2 = 4\n",
    "print(x[n1:n2+1])"
   ]
  },
  {
   "cell_type": "markdown",
   "metadata": {},
   "source": [
    "**Q3. Write a python program to print the first character of the string.**\n",
    "\n",
    "**Sample TestCase:**\n",
    "\n",
    "**Input:**\n",
    ">Hello Pentagone\n",
    "\n",
    "**Output:**\n",
    ">H"
   ]
  },
  {
   "cell_type": "code",
   "execution_count": 3,
   "metadata": {},
   "outputs": [
    {
     "name": "stdout",
     "output_type": "stream",
     "text": [
      "H\n"
     ]
    }
   ],
   "source": [
    "x = 'Hello Pentagone'\n",
    "print(x[0])"
   ]
  },
  {
   "cell_type": "markdown",
   "metadata": {},
   "source": [
    "**Q4. Write a python program to print the last character of the string.**\n",
    "\n",
    "**Sample TestCase:**\n",
    "\n",
    "**Input:**\n",
    ">Hello Pentagone\n",
    "\n",
    "**Output:**\n",
    ">e"
   ]
  },
  {
   "cell_type": "code",
   "execution_count": 4,
   "metadata": {},
   "outputs": [
    {
     "name": "stdout",
     "output_type": "stream",
     "text": [
      "e\n"
     ]
    }
   ],
   "source": [
    "x = 'Hello Pentagone'\n",
    "print(x[-1])"
   ]
  },
  {
   "cell_type": "markdown",
   "metadata": {},
   "source": [
    "**Q5. Write a python program to print the string in which all the case-based characters have had their case swapped.**\n",
    "\n",
    "**Sample TestCase:**\n",
    "\n",
    "**Input:**\n",
    ">Hello pENTAGON sPACE\n",
    "\n",
    "**Output:**\n",
    ">hELLO Pentagon Space"
   ]
  },
  {
   "cell_type": "code",
   "execution_count": 5,
   "metadata": {},
   "outputs": [
    {
     "name": "stdout",
     "output_type": "stream",
     "text": [
      "hELLO Pentagon Space\n"
     ]
    }
   ],
   "source": [
    "x = 'Hello pENTAGON sPACE'\n",
    "print(x.swapcase())"
   ]
  },
  {
   "cell_type": "markdown",
   "metadata": {},
   "source": [
    "**Q6. Write a python program to print the min alphabetical character from the string.**\n",
    "\n",
    "**Sample TestCase:**\n",
    "\n",
    "**Input:**\n",
    ">HELLO PENTAGON SPACE\n",
    "\n",
    "**Output:**\n",
    ">A"
   ]
  },
  {
   "cell_type": "code",
   "execution_count": 6,
   "metadata": {},
   "outputs": [
    {
     "name": "stdout",
     "output_type": "stream",
     "text": [
      "A\n"
     ]
    }
   ],
   "source": [
    "x = 'HELLO PENTAGON SPACE'.replace(' ','')\n",
    "print(min(x))"
   ]
  },
  {
   "cell_type": "code",
   "execution_count": null,
   "metadata": {},
   "outputs": [],
   "source": []
  }
 ],
 "metadata": {
  "kernelspec": {
   "display_name": "Python 3 (ipykernel)",
   "language": "python",
   "name": "python3"
  },
  "language_info": {
   "codemirror_mode": {
    "name": "ipython",
    "version": 3
   },
   "file_extension": ".py",
   "mimetype": "text/x-python",
   "name": "python",
   "nbconvert_exporter": "python",
   "pygments_lexer": "ipython3",
   "version": "3.8.11"
  }
 },
 "nbformat": 4,
 "nbformat_minor": 4
}
