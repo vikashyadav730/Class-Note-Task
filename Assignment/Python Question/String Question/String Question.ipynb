{
 "cells": [
  {
   "cell_type": "markdown",
   "id": "73d92a23",
   "metadata": {},
   "source": [
    "<h2><img src=\"https://www.pentagonspace.in/assets/images/logo/logo-dark.png\" alt=\"pentagonspace.com/\" align=left></h2>\n",
    "<div class=\"a\" align=right>\n",
    "    <font style=\"border:white; border-width:10px; border-style:outset;\"width=\"100\" height=\"100\" color=\"green\" > \n",
    "Assignment Question </font>\n",
    "</div >\n",
    "\n",
    "<div id=\"myCarousel\" class=\"carousel slide text-center\" data-ride=\"carousel\">\n",
    "\n",
    "  <div class=\"carousel-inner\" role=\"listbox\">\n",
    "    <div class=\"item active\">\n",
    "    <h3 style=\"color: blue;\">String Question</h3>\n",
    "    </div>\n",
    "  </div>\n"
   ]
  },
  {
   "cell_type": "markdown",
   "id": "5552df5e",
   "metadata": {},
   "source": [
    "**Q1. Write a Python program to find sum of two string and calculate the length of a final string.**\n",
    "\n",
    "**Sample TestCase:**\n",
    "\n",
    "**input:**\n",
    ">x = 'Hello'  \n",
    ">y = '    Pentagon'\n",
    "\n",
    "**output:**\n",
    ">13\n"
   ]
  },
  {
   "cell_type": "markdown",
   "id": "902f6035",
   "metadata": {},
   "source": [
    "**Q2. Write a python program to print that slice of string.**\n",
    "\n",
    "**Sample TestCase:**\n",
    "\n",
    "**Input:**  \n",
    ">x = Hello Pentagon  \n",
    ">n1 = 1  \n",
    ">n2 = 4\n",
    "\n",
    "**Output:**  \n",
    ">ello"
   ]
  },
  {
   "cell_type": "markdown",
   "id": "7c48827e",
   "metadata": {},
   "source": [
    "**Q3. Write a python program to print the first character of the string.**\n",
    "\n",
    "**Sample TestCase:**\n",
    "\n",
    "**Input:**\n",
    ">Hello Pentagone\n",
    "\n",
    "**Output:**\n",
    ">H"
   ]
  },
  {
   "cell_type": "markdown",
   "id": "f361485c",
   "metadata": {},
   "source": [
    "**Q4. Write a python program to print the last character of the string.**\n",
    "\n",
    "**Sample TestCase:**\n",
    "\n",
    "**Input:**\n",
    ">Hello Pentagone\n",
    "\n",
    "**Output:**\n",
    ">e"
   ]
  },
  {
   "cell_type": "markdown",
   "id": "c79df101",
   "metadata": {},
   "source": [
    "**Q5. Write a python program to print the string in which all the case-based characters have had their case swapped.**\n",
    "\n",
    "**Sample TestCase:**\n",
    "\n",
    "**Input:**\n",
    ">Hello pENTAGON sPACE\n",
    "\n",
    "**Output:**\n",
    ">hELLO Pentagon Space"
   ]
  },
  {
   "cell_type": "markdown",
   "id": "01d87262",
   "metadata": {},
   "source": [
    "**Q6. Write a python program to print the min alphabetical character from the string.**\n",
    "\n",
    "**Sample TestCase:**\n",
    "\n",
    "**Input:**\n",
    ">HELLO PENTAGON SPACE\n",
    "\n",
    "**Output:**\n",
    ">A"
   ]
  },
  {
   "cell_type": "code",
   "execution_count": null,
   "id": "ce8caf3c",
   "metadata": {},
   "outputs": [],
   "source": []
  }
 ],
 "metadata": {
  "kernelspec": {
   "display_name": "Python 3",
   "language": "python",
   "name": "python3"
  },
  "language_info": {
   "codemirror_mode": {
    "name": "ipython",
    "version": 3
   },
   "file_extension": ".py",
   "mimetype": "text/x-python",
   "name": "python",
   "nbconvert_exporter": "python",
   "pygments_lexer": "ipython3",
   "version": "3.8.5"
  }
 },
 "nbformat": 4,
 "nbformat_minor": 5
}
