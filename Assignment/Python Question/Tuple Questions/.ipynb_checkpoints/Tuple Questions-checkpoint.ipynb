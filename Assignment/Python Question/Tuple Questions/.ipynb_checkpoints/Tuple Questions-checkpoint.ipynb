{
 "cells": [
  {
   "cell_type": "markdown",
   "id": "3ee18889",
   "metadata": {},
   "source": [
    "<h2><img src=\"https://www.pentagonspace.in/assets/images/logo/logo-dark.png\" alt=\"pentagonspace.com/\" align=left></h2>\n",
    "<div class=\"a\" align=right>\n",
    "    <font style=\"border:white; border-width:10px; border-style:outset;\"width=\"100\" height=\"100\" color=\"green\" > \n",
    "Assignment </font>\n",
    "</div >\n",
    "\n",
    "<div id=\"myCarousel\" class=\"carousel slide text-center\" data-ride=\"carousel\">\n",
    "\n",
    "  <div class=\"carousel-inner\" role=\"listbox\">\n",
    "    <div class=\"item active\">\n",
    "    <h3 style=\"color: blue;\">Tuple Questions</h3>\n",
    "    </div>\n",
    "  </div>"
   ]
  },
  {
   "cell_type": "markdown",
   "id": "47af8a5e",
   "metadata": {},
   "source": [
    "**Q1.)Sort Values**  \n",
    "Write a Python program to find the sort value of the numbers in a given tuple.\n",
    "\n",
    "**Input Format**  \n",
    "You will be taking a values as tuples.\n",
    "\n",
    "**Output Format**  \n",
    "You need to print sort value of given tuples.\n",
    "\n",
    "**Sample TestCase 1**\n",
    ">**Input**  \n",
    "(10, 10, 10, 12,30, 45, 56,'Python',1, 2, 3, 4)\n",
    "\n",
    "\n",
    ">**Output**  \n",
    "(1, 2, 3, 4, 10, 10, 10, 12, 30, 45, 56)"
   ]
  },
  {
   "cell_type": "code",
   "execution_count": null,
   "id": "594c5f33",
   "metadata": {},
   "outputs": [],
   "source": [
    "# Write code here"
   ]
  },
  {
   "cell_type": "markdown",
   "id": "3a4df9b1",
   "metadata": {},
   "source": [
    "**Q2.)Sort Tuple**  \n",
    "Given a Tuple List, perform sort on basis of total digits in tuple.\n",
    "\n",
    "**Input Format**  \n",
    "You will be taking a values as List.\n",
    "\n",
    "**Output Format**  \n",
    "You need to print sort tuple of given List.\n",
    "\n",
    "**Sample TestCase 1**\n",
    ">**Input**  \n",
    "[(3, 4, 6, 723), (1, 2), (134, 234, 34)] \n",
    "\n",
    "\n",
    ">**Output**  \n",
    "[(1, 2), (134, 234, 34), (3, 4, 6, 723)]  "
   ]
  },
  {
   "cell_type": "code",
   "execution_count": null,
   "id": "e6ec1367",
   "metadata": {},
   "outputs": [],
   "source": [
    "# Write code here"
   ]
  },
  {
   "cell_type": "markdown",
   "id": "0475d215",
   "metadata": {},
   "source": [
    "**Q3.)maximum values**  \n",
    "Write python code that find the maximum values from tuple\n",
    "\n",
    "**Input Format**  \n",
    "You will be taking a values as tuple.\n",
    "\n",
    "**Output Format**  \n",
    "You need to print the maximum values from tuple to the Jupyter cell.\n",
    "\n",
    "**Sample TestCase 1**\n",
    ">Input  \n",
    "data = (52, 53, 54, 55, 56, 57, 58,78, 79, 80,34,45,45)\n",
    "\n",
    ">Output  \n",
    "80"
   ]
  },
  {
   "cell_type": "code",
   "execution_count": null,
   "id": "883c4352",
   "metadata": {},
   "outputs": [],
   "source": [
    "# Write code here"
   ]
  },
  {
   "cell_type": "markdown",
   "id": "63526bb7",
   "metadata": {},
   "source": [
    "**Q4.)single integer**  \n",
    "Write a Python program to convert a tuple of multiple integers into a single integer.\n",
    "\n",
    "**Input Format**  \n",
    "You will be taking a values as tuple.\n",
    "\n",
    "**Output Format**  \n",
    "You need to print the single integer to the Jupyter cell.\n",
    "\n",
    "**Sample TestCase 1**\n",
    ">Input  \n",
    "data = (52, 53, 54, 55, 56, 57)\n",
    "\n",
    ">Output  \n",
    "525354555657"
   ]
  },
  {
   "cell_type": "code",
   "execution_count": null,
   "id": "5314da3c",
   "metadata": {},
   "outputs": [],
   "source": [
    "# Write code here"
   ]
  },
  {
   "cell_type": "markdown",
   "id": "74064c22",
   "metadata": {},
   "source": [
    "**Q5.YUVI and MAXIMUM**  \n",
    "YUVI has provided you the score of his last 6 innings and you have to tell him the maximum total of 2 innings.\n",
    "\n",
    "**Input Format:**  \n",
    "The only line of input consist of score in last 6 innings.\n",
    "\n",
    "**Output Format:**  \n",
    "Print Maximum total of 2 innings\n",
    "\n",
    "\n",
    "**Sample TestCase 1**  \n",
    ">**input**  \n",
    "1 20 13 45 12\n",
    "\n",
    ">**output**  \n",
    "65"
   ]
  },
  {
   "cell_type": "code",
   "execution_count": null,
   "id": "9ac1da80",
   "metadata": {},
   "outputs": [],
   "source": [
    "# write code here"
   ]
  },
  {
   "cell_type": "code",
   "execution_count": null,
   "id": "d5211724",
   "metadata": {},
   "outputs": [],
   "source": []
  }
 ],
 "metadata": {
  "kernelspec": {
   "display_name": "Python 3 (ipykernel)",
   "language": "python",
   "name": "python3"
  },
  "language_info": {
   "codemirror_mode": {
    "name": "ipython",
    "version": 3
   },
   "file_extension": ".py",
   "mimetype": "text/x-python",
   "name": "python",
   "nbconvert_exporter": "python",
   "pygments_lexer": "ipython3",
   "version": "3.8.11"
  }
 },
 "nbformat": 4,
 "nbformat_minor": 5
}
