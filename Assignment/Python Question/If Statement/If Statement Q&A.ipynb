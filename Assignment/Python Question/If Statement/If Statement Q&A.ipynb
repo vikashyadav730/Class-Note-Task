{
 "cells": [
  {
   "cell_type": "markdown",
   "id": "40758d5f",
   "metadata": {},
   "source": [
    "<h2><img src=\"https://www.pentagonspace.in/assets/images/logo/logo-dark.png\" alt=\"pentagonspace.com/\" align=left></h2>\n",
    "<div class=\"a\" align=right>\n",
    "    <font style=\"border:white; border-width:10px; border-style:outset;\"width=\"100\" height=\"100\" color=\"green\" > \n",
    "Assignment Question </font>\n",
    "</div >\n",
    "\n",
    "<div id=\"myCarousel\" class=\"carousel slide text-center\" data-ride=\"carousel\">\n",
    "\n",
    "  <div class=\"carousel-inner\" role=\"listbox\">\n",
    "    <div class=\"item active\">\n",
    "    <h3 style=\"color: blue;\">If else statements</h3>\n",
    "    </div>\n",
    "  </div>"
   ]
  },
  {
   "cell_type": "markdown",
   "id": "a113729f",
   "metadata": {},
   "source": [
    "**Q1. Check whether the area of the rectangle is greater than the perimeter of the rectangle\n",
    "length = 5 breadth = 10**\n",
    "\n",
    "**Hint** : Area of rectangle = length * breadth\n",
    "\n",
    "**Hint** : Perimeter of rectangle = 2 * (length + breadth)"
   ]
  },
  {
   "cell_type": "code",
   "execution_count": null,
   "id": "6d87c649",
   "metadata": {},
   "outputs": [],
   "source": [
    "length = 5\n",
    "breadth = 10\n",
    "a_of_rect = length * breadth\n",
    "p_of_rect = 2*(length + breadth)\n",
    "if a_of_rect > p_of_rect:\n",
    "    print(True)\n",
    "else:\n",
    "    print(False)"
   ]
  },
  {
   "cell_type": "markdown",
   "id": "b3195400",
   "metadata": {},
   "source": [
    "**Q2. From the age of 3 people determine the oldest person among them.**\n",
    "\n",
    "**Age of first person = 25**  \n",
    "**Age of second person = 34**  \n",
    "**Age of third person = 45**  "
   ]
  },
  {
   "cell_type": "code",
   "execution_count": null,
   "id": "cdfe1a42",
   "metadata": {},
   "outputs": [],
   "source": [
    "x = 25\n",
    "y = 34\n",
    "z = 45\n",
    "if x>y and x>z:\n",
    "    print('first person')\n",
    "elif y>x and y>z:\n",
    "    print('Second person')\n",
    "else:\n",
    "    print('third person')\n",
    "        "
   ]
  },
  {
   "cell_type": "markdown",
   "id": "41e606c0",
   "metadata": {},
   "source": [
    "**Q3. Write a Python program to divide them into three groups, Based on the users age.**\n",
    "\n",
    "**Group 1** : Age <18 , Minors who are not eligible to work  \n",
    "**Group 2** : 18<Age<60 , ELigible to work  \n",
    "**Group 3** : >60, Too old to work as per govt. regulations. "
   ]
  },
  {
   "cell_type": "code",
   "execution_count": null,
   "id": "82d63cc9",
   "metadata": {},
   "outputs": [],
   "source": [
    "age = int(input('>>>'))\n",
    "if age < 18:\n",
    "    print('not eligible to work')\n",
    "elif age > 18 and age <60:\n",
    "    print('Eligible to work')\n",
    "else:\n",
    "    print('Too old to work as per govt. regulations.')"
   ]
  },
  {
   "cell_type": "markdown",
   "id": "f5e420d2",
   "metadata": {},
   "source": [
    "**Q4. Write a Python program to check whether an alphabet is a vowel or consonant.**\n",
    "\n",
    "**Sample TestCase:**\n",
    "\n",
    "**Input:**  \n",
    ">k\n",
    "\n",
    "**Output:**  \n",
    ">consonant"
   ]
  },
  {
   "cell_type": "code",
   "execution_count": null,
   "id": "8d2a3357",
   "metadata": {},
   "outputs": [],
   "source": [
    "consonent = 'bcdfghjklmnpqrstvwxyz'\n",
    "vowel = 'aeiou'\n",
    "num = input('>>>')\n",
    "if num in vowel:\n",
    "    print('Vowel')\n",
    "else:\n",
    "    print('Consonent')   "
   ]
  },
  {
   "cell_type": "markdown",
   "id": "a52211fd",
   "metadata": {},
   "source": [
    "**Q5. A company decided to give bonus of 5% to employee if his/her year of service is more than 5 years.**\n",
    "\n",
    "**Sample TestCase:**\n",
    "\n",
    "**Input:**\n",
    ">Salary = 102893  \n",
    ">year = 6\n",
    "\n",
    "**Output:**\n",
    ">108037.65\n",
    "    "
   ]
  },
  {
   "cell_type": "code",
   "execution_count": null,
   "id": "d861b77c",
   "metadata": {},
   "outputs": [],
   "source": [
    "salary = int(input('Salary'))\n",
    "year = int(input('year'))\n",
    "\n",
    "if year>5:\n",
    "    bouns = salary *0.05\n",
    "    total_salary = salary + bouns\n",
    "    print(total_salary)\n",
    "else:\n",
    "    print(salary)"
   ]
  },
  {
   "cell_type": "code",
   "execution_count": null,
   "id": "080b675e",
   "metadata": {},
   "outputs": [],
   "source": []
  }
 ],
 "metadata": {
  "kernelspec": {
   "display_name": "Python 3 (ipykernel)",
   "language": "python",
   "name": "python3"
  },
  "language_info": {
   "codemirror_mode": {
    "name": "ipython",
    "version": 3
   },
   "file_extension": ".py",
   "mimetype": "text/x-python",
   "name": "python",
   "nbconvert_exporter": "python",
   "pygments_lexer": "ipython3",
   "version": "3.8.11"
  }
 },
 "nbformat": 4,
 "nbformat_minor": 5
}
