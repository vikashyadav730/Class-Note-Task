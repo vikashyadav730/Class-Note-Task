{
 "cells": [
  {
   "cell_type": "markdown",
   "id": "82439b57",
   "metadata": {},
   "source": [
    "<h2><img src=\"https://www.pentagonspace.in/assets/images/logo/logo-dark.png\" alt=\"pentagonspace.com/\" align=left></h2>\n",
    "<div class=\"a\" align=right>\n",
    "    <font style=\"border:white; border-width:10px; border-style:outset;\"width=\"100\" height=\"100\" color=\"green\" > \n",
    "Assignment Question </font>\n",
    "</div >\n",
    "\n",
    "<div id=\"myCarousel\" class=\"carousel slide text-center\" data-ride=\"carousel\">\n",
    "\n",
    "  <div class=\"carousel-inner\" role=\"listbox\">\n",
    "    <div class=\"item active\">\n",
    "    <h3 style=\"color: blue;\">If else statements</h3>\n",
    "    </div>\n",
    "  </div>\n"
   ]
  },
  {
   "cell_type": "markdown",
   "id": "34b2ee47",
   "metadata": {},
   "source": [
    "**Q1.** Check whether the area of the rectangle is greater than the perimeter of the rectangle\n",
    "length = 5 breadth = 10\n",
    "\n",
    "**Hint** : Area of rectangle = length * breadth\n",
    "\n",
    "**Hint** : Perimeter of rectangle = 2 * (length + breadth)"
   ]
  },
  {
   "cell_type": "code",
   "execution_count": null,
   "id": "305ed5b2",
   "metadata": {},
   "outputs": [],
   "source": []
  },
  {
   "cell_type": "markdown",
   "id": "a4fb49a7",
   "metadata": {},
   "source": [
    "**Q2.** From the age of 3 people determine the oldest person among them.\n",
    "\n",
    "**Age of first person = 25**  \n",
    "**Age of second person = 34**  \n",
    "**Age of third person = 45**  "
   ]
  },
  {
   "cell_type": "code",
   "execution_count": null,
   "id": "7c59f571",
   "metadata": {},
   "outputs": [],
   "source": []
  },
  {
   "cell_type": "markdown",
   "id": "0bfb714d",
   "metadata": {},
   "source": [
    "**Q3.** Write a Python program to divide them into three groups, Based on the users age.\n",
    "\n",
    "**Group 1** : Age <18 , Minors who are not eligible to work  \n",
    "**Group 2** : 18<Age<60 , ELigible to work  \n",
    "**Group 3** : >60, Too old to work as per govt. regulations. "
   ]
  },
  {
   "cell_type": "code",
   "execution_count": null,
   "id": "6e60c9b4",
   "metadata": {},
   "outputs": [],
   "source": []
  },
  {
   "cell_type": "markdown",
   "id": "f4fb26a2",
   "metadata": {},
   "source": [
    "**Q4.** Write a Python program to check whether an alphabet is a vowel or consonant.\n",
    "\n",
    "**Sample TestCase:**\n",
    "\n",
    "**Input:**  \n",
    ">k\n",
    "\n",
    "**Output:**  \n",
    ">consonant"
   ]
  },
  {
   "cell_type": "code",
   "execution_count": null,
   "id": "887f6276",
   "metadata": {},
   "outputs": [],
   "source": []
  },
  {
   "cell_type": "markdown",
   "id": "7eadddd9",
   "metadata": {},
   "source": [
    "**Q5.** A company decided to give bonus of 5% to employee if his/her year of service is more than 5 years.\n",
    "\n",
    "**Sample TestCase:**\n",
    "\n",
    "**Input:**\n",
    ">Salary = 102893  \n",
    ">year = 6\n",
    "\n",
    "**Output:**\n",
    ">108037.65\n",
    "    "
   ]
  },
  {
   "cell_type": "code",
   "execution_count": null,
   "id": "07fd68bf",
   "metadata": {},
   "outputs": [],
   "source": []
  },
  {
   "cell_type": "code",
   "execution_count": null,
   "id": "7d266b94",
   "metadata": {},
   "outputs": [],
   "source": []
  }
 ],
 "metadata": {
  "kernelspec": {
   "display_name": "Python 3 (ipykernel)",
   "language": "python",
   "name": "python3"
  },
  "language_info": {
   "codemirror_mode": {
    "name": "ipython",
    "version": 3
   },
   "file_extension": ".py",
   "mimetype": "text/x-python",
   "name": "python",
   "nbconvert_exporter": "python",
   "pygments_lexer": "ipython3",
   "version": "3.8.11"
  }
 },
 "nbformat": 4,
 "nbformat_minor": 5
}
