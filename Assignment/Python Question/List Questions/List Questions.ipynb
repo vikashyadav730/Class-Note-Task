{
 "cells": [
  {
   "cell_type": "markdown",
   "id": "1183f19a",
   "metadata": {},
   "source": [
    "<h2><img src=\"https://www.pentagonspace.in/assets/images/logo/logo-dark.png\" alt=\"pentagonspace.com/\" align=left></h2>\n",
    "<div class=\"a\" align=right>\n",
    "    <font style=\"border:white; border-width:10px; border-style:outset;\"width=\"100\" height=\"100\" color=\"green\" > \n",
    "Assignment Question </font>\n",
    "</div >\n",
    "\n",
    "<div id=\"myCarousel\" class=\"carousel slide text-center\" data-ride=\"carousel\">\n",
    "\n",
    "  <div class=\"carousel-inner\" role=\"listbox\">\n",
    "    <div class=\"item active\">\n",
    "    <h3 style=\"color: blue;\">List Questions</h3>\n",
    "    </div>\n",
    "  </div>"
   ]
  },
  {
   "cell_type": "markdown",
   "id": "0575135d",
   "metadata": {},
   "source": [
    "**Q1.** ISBN-10 identifiers are ten digits long. The first nine characters are digits 0-9. The last digit can be 0-9 or X, to indicate a value of 10.\n",
    "An ISBN-10 number is valid if the sum of the digits multiplied by their position modulo 11 equals zero.\n",
    "\n",
    "**For example:**\n",
    "\n",
    ">ISBN     : 1 1 1 2 2 2 3 3 3  9  \n",
    "position : 1 2 3 4 5 6 7 8 9 10  \n",
    "This is a valid ISBN, because:\n",
    "\n",
    ">`(1*1 + 1*2 + 1*3 + 2*4 + 2*5 + 2*6 + 3*7 + 3*8 + 3*9 + 9*10) % 11 = 0`  \n",
    "\n",
    "**Examples**  \n",
    ">1112223339   -->  true  \n",
    ">111222333    -->  false"
   ]
  },
  {
   "cell_type": "code",
   "execution_count": null,
   "id": "a9807bc4",
   "metadata": {},
   "outputs": [],
   "source": []
  },
  {
   "cell_type": "markdown",
   "id": "785f7696",
   "metadata": {},
   "source": [
    "**Q2.** Write python Program to find sum of list.  \n",
    "Example:\n",
    ">input:\n",
    ">>x = [2,3,4,5,6,7,8,5,4]  \n",
    "\n",
    ">output:\n",
    ">>  44     \n"
   ]
  },
  {
   "cell_type": "code",
   "execution_count": null,
   "id": "0c338331",
   "metadata": {},
   "outputs": [],
   "source": []
  },
  {
   "cell_type": "markdown",
   "id": "71bd5c5e",
   "metadata": {},
   "source": [
    "**Q3.** Write python Program to find index wise sum of two list.  \n",
    "**Example:**\n",
    ">input:\n",
    ">>x = [2,3,4,5,6,7,8,5,4]  \n",
    ">>y = [5,4,3,3,4,5,6,6,8]\n",
    "\n",
    "\n",
    ">output:\n",
    ">> [7, 7, 7, 8, 10, 12, 14, 11, 12] \n"
   ]
  },
  {
   "cell_type": "code",
   "execution_count": null,
   "id": "6504b563",
   "metadata": {},
   "outputs": [],
   "source": []
  },
  {
   "cell_type": "markdown",
   "id": "4d6d5ed0",
   "metadata": {},
   "source": [
    "**Q4.** Write python Program to find sum of all number from list.  \n",
    "**Example:**\n",
    ">input:\n",
    ">>x = [2,3,4,'23','A',5,6,'B',7,'6',8,'9',5,4]  \n",
    "\n",
    "\n",
    ">output:\n",
    ">> 82\n"
   ]
  },
  {
   "cell_type": "code",
   "execution_count": null,
   "id": "45ec0ce2",
   "metadata": {},
   "outputs": [],
   "source": []
  },
  {
   "cell_type": "markdown",
   "id": "63056387",
   "metadata": {},
   "source": [
    "**Q5** Write Python Program to find maximum,minimum values from list.  \n",
    "**Example:**\n",
    ">Input:\n",
    ">> num = [2,3,4,5,6,76,7,4]\n",
    "\n",
    ">Output:\n",
    ">> minimum: 2  \n",
    ">>maximum: 76\n"
   ]
  },
  {
   "cell_type": "code",
   "execution_count": null,
   "id": "69a0fea6",
   "metadata": {},
   "outputs": [],
   "source": []
  },
  {
   "cell_type": "markdown",
   "id": "d9f700dc",
   "metadata": {},
   "source": [
    "**Q6** Write Python Program to find maximum,minimum values from list.  \n",
    "**Example:**\n",
    ">Input:\n",
    ">> num = [2,3,4,'A',5,6,'B',76,'Py',7,4,45j]\n",
    "\n",
    ">Output:\n",
    ">> minimum: 2  \n",
    ">>maximum: 76"
   ]
  },
  {
   "cell_type": "code",
   "execution_count": null,
   "id": "b17dfba9",
   "metadata": {},
   "outputs": [],
   "source": []
  },
  {
   "cell_type": "markdown",
   "id": "c5a799ad",
   "metadata": {},
   "source": [
    "**Q7** Write Python Program to find Sort values from list.  \n",
    "**Example:**\n",
    ">Input:\n",
    ">> num = [2,3,4,'A',5,6,'B',76,'Py',7,4,45j]\n",
    "\n",
    ">Output:\n",
    ">> [2, 3, 4, 5, 6, 76, 7, 4]"
   ]
  },
  {
   "cell_type": "code",
   "execution_count": null,
   "id": "303f7161",
   "metadata": {},
   "outputs": [],
   "source": []
  },
  {
   "cell_type": "markdown",
   "id": "0e7a3a83",
   "metadata": {},
   "source": [
    "**Q8.** Write the python program to find duplicate values from list.  \n",
    "**Example**  \n",
    "**Input:**  \n",
    ">num = [3,4,5,6,7,6,54,'Hello',45j,4.3,'Hello','3',7]\n",
    "\n",
    "**Output:**  \n",
    ">[3,6,7,'Hello']"
   ]
  },
  {
   "cell_type": "code",
   "execution_count": 9,
   "id": "7b2faa62",
   "metadata": {},
   "outputs": [
    {
     "name": "stdout",
     "output_type": "stream",
     "text": [
      "2 3\n",
      "2\n",
      "3\n"
     ]
    }
   ],
   "source": [
    "m, n = [int(i) for i in input().split()]\n",
    "\n",
    "# Write an answer using print\n",
    "# To debug: print(\"Debug messages...\", file=sys.stderr, flush=True)\n",
    "print(m)\n",
    "print(n)"
   ]
  },
  {
   "cell_type": "code",
   "execution_count": null,
   "id": "9236a534",
   "metadata": {},
   "outputs": [],
   "source": []
  },
  {
   "cell_type": "code",
   "execution_count": null,
   "id": "6a864625",
   "metadata": {},
   "outputs": [],
   "source": []
  }
 ],
 "metadata": {
  "kernelspec": {
   "display_name": "Python 3 (ipykernel)",
   "language": "python",
   "name": "python3"
  },
  "language_info": {
   "codemirror_mode": {
    "name": "ipython",
    "version": 3
   },
   "file_extension": ".py",
   "mimetype": "text/x-python",
   "name": "python",
   "nbconvert_exporter": "python",
   "pygments_lexer": "ipython3",
   "version": "3.8.11"
  }
 },
 "nbformat": 4,
 "nbformat_minor": 5
}
