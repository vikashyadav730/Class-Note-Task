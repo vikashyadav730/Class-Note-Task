{
 "cells": [
  {
   "cell_type": "markdown",
   "id": "e84f06e5",
   "metadata": {},
   "source": [
    "<h2><img src=\"https://www.pentagonspace.in/assets/images/logo/logo-dark.png\" alt=\"pentagonspace.com/\" align=left></h2>\n",
    "<div class=\"a\" align=right>\n",
    "    <font style=\"border:white; border-width:10px; border-style:outset;\"width=\"100\" height=\"100\" color=\"green\" > \n",
    "Assignment Question </font>\n",
    "</div >\n",
    "\n",
    "<div id=\"myCarousel\" class=\"carousel slide text-center\" data-ride=\"carousel\">\n",
    "\n",
    "  <div class=\"carousel-inner\" role=\"listbox\">\n",
    "    <div class=\"item active\">\n",
    "    <h3 style=\"color: blue;\">List Q&A</h3>\n",
    "    </div>\n",
    "  </div>"
   ]
  },
  {
   "cell_type": "markdown",
   "id": "ad572740",
   "metadata": {},
   "source": [
    "**Q1.** ISBN-10 identifiers are ten digits long. The first nine characters are digits 0-9. The last digit can be 0-9 or X, to indicate a value of 10.\n",
    "An ISBN-10 number is valid if the sum of the digits multiplied by their position modulo 11 equals zero.\n",
    "\n",
    "**For example:**\n",
    "\n",
    "ISBN     : 1 1 1 2 2 2 3 3 3  9  \n",
    "position : 1 2 3 4 5 6 7 8 9 10  \n",
    "This is a valid ISBN, because:\n",
    "\n",
    "`(1*1 + 1*2 + 1*3 + 2*4 + 2*5 + 2*6 + 3*7 + 3*8 + 3*9 + 9*10) % 11 = 0`  \n",
    "\n",
    "**Examples**  \n",
    "1112223339   -->  true  \n",
    "111222333    -->  false"
   ]
  },
  {
   "cell_type": "code",
   "execution_count": 7,
   "id": "972f9363",
   "metadata": {},
   "outputs": [
    {
     "name": "stdout",
     "output_type": "stream",
     "text": [
      ">>>122334\n",
      "1\n",
      "2\n",
      "2\n",
      "3\n",
      "3\n",
      "4\n"
     ]
    }
   ],
   "source": [
    "x = input('>>>')\n",
    "# x\n",
    "# total = 0\n",
    "# for i in range(len(x)):\n",
    "#     total = total + (int(x[i])*(i+1))\n",
    "# print(total%11)\n",
    "for i in x:\n",
    "    print(i)"
   ]
  },
  {
   "cell_type": "markdown",
   "id": "2f2b7d0f",
   "metadata": {},
   "source": [
    "**Q2.** Write python Program to find sum of list.  \n",
    "Example:\n",
    ">input:\n",
    ">>x = [2,3,4,5,6,7,8,5,4]  \n",
    "\n",
    ">output:\n",
    ">>  44     \n"
   ]
  },
  {
   "cell_type": "code",
   "execution_count": null,
   "id": "8ff30c5d",
   "metadata": {},
   "outputs": [],
   "source": [
    "x = [2,3,4,5,6,7,8,5,4]\n",
    "kk = 0\n",
    "for i in x:\n",
    "    kk = kk+i\n",
    "kk    "
   ]
  },
  {
   "cell_type": "markdown",
   "id": "2404d613",
   "metadata": {},
   "source": [
    "**Q3.** Write python Program to find index wise sum of two list.  \n",
    "**Example:**\n",
    ">input:\n",
    ">>x = [2,3,4,5,6,7,8,5,4]  \n",
    ">>y = [5,4,3,3,4,5,6,6,8]\n",
    "\n",
    "\n",
    ">output:\n",
    ">> [7, 7, 7, 8, 10, 12, 14, 11, 12] \n"
   ]
  },
  {
   "cell_type": "code",
   "execution_count": null,
   "id": "bff627a8",
   "metadata": {},
   "outputs": [],
   "source": [
    "x = [2,3,4,5,6,7,8,5,4]  \n",
    "y = [5,4,3,3,4,5,6,6,8]\n",
    "\n",
    "num = []\n",
    "for i,j in zip(x,y):\n",
    "    num.append(i+j)\n",
    "num    "
   ]
  },
  {
   "cell_type": "markdown",
   "id": "6716142d",
   "metadata": {},
   "source": [
    "**Q4.** Write python Program to find sum of all number from list.  \n",
    "**Example:**\n",
    ">input:\n",
    ">>x = [2,3,4,'23','A',5,6,'B',7,'6',8,'9',5,4]  \n",
    "\n",
    "\n",
    ">output:\n",
    ">> 82\n"
   ]
  },
  {
   "cell_type": "code",
   "execution_count": null,
   "id": "69110472",
   "metadata": {},
   "outputs": [],
   "source": [
    "x = [2,3,4,'23','A',5,6,'B',7,'6',8,'9',5,4]\n",
    "k = 0\n",
    "for i in x:\n",
    "    if type(i)==int:\n",
    "        k = k + i\n",
    "    elif type(i)==str:\n",
    "        if i.isnumeric():\n",
    "            k= k+int(i)\n",
    "k            "
   ]
  },
  {
   "cell_type": "markdown",
   "id": "dcf82593",
   "metadata": {},
   "source": [
    "**Q5** Write Python Program to find maximum,minimum values from list.  \n",
    "**Example:**\n",
    ">Input:\n",
    ">> num = [2,3,4,5,6,76,7,4]\n",
    "\n",
    ">Output:\n",
    ">> minimum: 2  \n",
    ">>maximum: 76\n"
   ]
  },
  {
   "cell_type": "code",
   "execution_count": null,
   "id": "7f1c730d",
   "metadata": {},
   "outputs": [],
   "source": [
    "num = [2,3,4,5,6,76,7,4]\n",
    "maximum = num[0]\n",
    "minimum = num[0]\n",
    "for x in num:\n",
    "    if x>maximum:\n",
    "        maximum = x\n",
    "\n",
    "for i in num:\n",
    "    if i<minimum:\n",
    "        minimum = i\n",
    "print('minimum:',minimum)\n",
    "print('maximum:',maximum)"
   ]
  },
  {
   "cell_type": "markdown",
   "id": "3e6d93ed",
   "metadata": {},
   "source": [
    "**Q6** Write Python Program to find maximum,minimum values from list.  \n",
    "**Example:**\n",
    ">Input:\n",
    ">> num = [2,3,4,'A',5,6,'B',76,'Py',7,4,45j]\n",
    "\n",
    ">Output:\n",
    ">> minimum: 2  \n",
    ">>maximum: 76"
   ]
  },
  {
   "cell_type": "code",
   "execution_count": null,
   "id": "82428b3d",
   "metadata": {},
   "outputs": [],
   "source": [
    "num = [2,3,4,'A',5,6,'B',76,'Py',7,4,45j]\n",
    "maximum = num[0]\n",
    "minimum = num[0]\n",
    "for x in num:\n",
    "    if type(x)==int and x>maximum:\n",
    "        maximum = x\n",
    "\n",
    "for i in num:\n",
    "    if type(i)==int and i<minimum:\n",
    "        minimum = i\n",
    "print('minimum:',minimum)\n",
    "print('maximum:',maximum)"
   ]
  },
  {
   "cell_type": "markdown",
   "id": "0afc8569",
   "metadata": {},
   "source": [
    "**Q7** Write Python Program to find Sort values from list.  \n",
    "**Example:**\n",
    ">Input:\n",
    ">> num = [2,3,4,'A',5,6,'B',76,'Py',7,4,45j]\n",
    "\n",
    ">Output:\n",
    ">> [2, 3, 4, 5, 6, 76, 7, 4]"
   ]
  },
  {
   "cell_type": "code",
   "execution_count": null,
   "id": "d2bf3fdb",
   "metadata": {},
   "outputs": [],
   "source": [
    "num = [2,3,4,'A',5,6,'B',76,'Py',7,4,45j]\n",
    "num2 = []\n",
    "for i in num:\n",
    "    if type(i)==int:\n",
    "        num2.append(i)\n",
    "sort_values = []\n",
    "while num2:\n",
    "    mimimum = num2[0]\n",
    "    for i in num2:\n",
    "        if i<mimimum:\n",
    "            minimum = i\n",
    "    sort_values.append(mimimum)\n",
    "    num2.remove(mimimum)\n",
    "print(sort_values)"
   ]
  },
  {
   "cell_type": "markdown",
   "id": "3f8539a5",
   "metadata": {},
   "source": [
    "**Q8.** Write the python program to find duplicate values from list.  \n",
    "**Example**  \n",
    "**Input:**  \n",
    ">num = [3,4,5,6,7,6,54,'Hello',45j,4.3,'Hello','3',7]\n",
    "\n",
    "**Output:**  \n",
    ">[3,6,7,'Hello']"
   ]
  },
  {
   "cell_type": "code",
   "execution_count": null,
   "id": "27de143f",
   "metadata": {},
   "outputs": [],
   "source": [
    "num = [3,4,5,6,7,6,54,'Hello',45j,4.3,'Hello','3',7]\n",
    "kk = []       \n",
    "for i in num:\n",
    "       if i not in kk:\n",
    "           kk.append(i)\n",
    "kk       "
   ]
  },
  {
   "cell_type": "code",
   "execution_count": 1,
   "id": "59eaa628",
   "metadata": {},
   "outputs": [
    {
     "name": "stdout",
     "output_type": "stream",
     "text": [
      "1.4142135623730951\n"
     ]
    }
   ],
   "source": [
    "import numpy\n",
    "\n",
    "speed = [1,2,3,4,5]\n",
    "\n",
    "x = numpy.std(speed)\n",
    "\n",
    "print(x)"
   ]
  },
  {
   "cell_type": "code",
   "execution_count": 2,
   "id": "51661010",
   "metadata": {},
   "outputs": [
    {
     "data": {
      "text/plain": [
       "2.0000000000000004"
      ]
     },
     "execution_count": 2,
     "metadata": {},
     "output_type": "execute_result"
    }
   ],
   "source": [
    "1.4142135623730951**2"
   ]
  },
  {
   "cell_type": "code",
   "execution_count": 13,
   "id": "4bf21814",
   "metadata": {},
   "outputs": [
    {
     "data": {
      "image/png": "[encoded data removed]",
      "text/plain": [
       "<Figure size 432x288 with 1 Axes>"
      ]
     },
     "metadata": {
      "needs_background": "light"
     },
     "output_type": "display_data"
    }
   ],
   "source": [
    "import matplotlib.pyplot as plt\n",
    "import seaborn as sns\n",
    "\n",
    "sns.distplot([75,72,68,65,67,73],kde = True)\n",
    "\n",
    "plt.show()"
   ]
  },
  {
   "cell_type": "code",
   "execution_count": 5,
   "id": "13a36c54",
   "metadata": {},
   "outputs": [
    {
     "data": {
      "text/plain": [
       "1.4142135623730951"
      ]
     },
     "execution_count": 5,
     "metadata": {},
     "output_type": "execute_result"
    }
   ],
   "source": [
    "2 ** 0.5"
   ]
  },
  {
   "cell_type": "code",
   "execution_count": 7,
   "id": "16d86974",
   "metadata": {},
   "outputs": [
    {
     "data": {
      "image/png": "[encoded data removed]",
      "text/plain": [
       "<Figure size 432x288 with 1 Axes>"
      ]
     },
     "metadata": {
      "needs_background": "light"
     },
     "output_type": "display_data"
    }
   ],
   "source": [
    "x = [75,72,68,65,67,73]\n",
    "plt.plot(x)\n",
    "plt.show()"
   ]
  },
  {
   "cell_type": "code",
   "execution_count": null,
   "id": "402fe954",
   "metadata": {},
   "outputs": [],
   "source": []
  }
 ],
 "metadata": {
  "kernelspec": {
   "display_name": "Python 3 (ipykernel)",
   "language": "python",
   "name": "python3"
  },
  "language_info": {
   "codemirror_mode": {
    "name": "ipython",
    "version": 3
   },
   "file_extension": ".py",
   "mimetype": "text/x-python",
   "name": "python",
   "nbconvert_exporter": "python",
   "pygments_lexer": "ipython3",
   "version": "3.8.11"
  }
 },
 "nbformat": 4,
 "nbformat_minor": 5
}
