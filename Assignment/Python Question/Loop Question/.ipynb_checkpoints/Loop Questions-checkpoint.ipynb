{
 "cells": [
  {
   "cell_type": "markdown",
   "id": "f790a9df",
   "metadata": {},
   "source": [
    "<h2><img src=\"https://www.pentagonspace.in/assets/images/logo/logo-dark.png\" alt=\"pentagonspace.com/\" align=left></h2>\n",
    "<div class=\"a\" align=right>\n",
    "    <font style=\"border:white; border-width:10px; border-style:outset;\"width=\"100\" height=\"100\" color = 'blue'> \n",
    "Bootcamp Session </font>\n",
    "</div >\n",
    "\n",
    "<div id=\"myCarousel\" class=\"carousel slide text-center\" data-ride=\"carousel\">\n",
    "\n",
    "  <div class=\"carousel-inner\" role=\"listbox\">\n",
    "    <div class=\"item active\">\n",
    "    <h2>Day 2 Questions </h2>\n",
    "    </div>\n",
    "  </div>"
   ]
  },
  {
   "cell_type": "markdown",
   "id": "d1c6309c",
   "metadata": {},
   "source": [
    "# For Loop "
   ]
  },
  {
   "cell_type": "markdown",
   "id": "a6f7c4dd",
   "metadata": {},
   "source": [
    "**Q1. Write a Python program to reverse string without using slicing.**\n",
    "\n",
    "**Sample TestCase:**\n",
    "\n",
    "**Input:**  \n",
    ">Pentagon Space\n",
    "\n",
    "**Output:**  \n",
    ">ecapS nogatneP"
   ]
  },
  {
   "cell_type": "code",
   "execution_count": null,
   "id": "a0d93d2e",
   "metadata": {},
   "outputs": [],
   "source": []
  },
  {
   "cell_type": "markdown",
   "id": "fe60c70f",
   "metadata": {},
   "source": [
    "**Q2. Write a Python program to reverse strating 5 index from string without using slicing.**\n",
    "\n",
    "**Sample TestCase:**  \n",
    "**Input:**   \n",
    ">Pentagon Space  \n",
    "\n",
    "**Output:**    \n",
    ">gatnePon Space"
   ]
  },
  {
   "cell_type": "code",
   "execution_count": null,
   "id": "27c4e86e",
   "metadata": {},
   "outputs": [],
   "source": []
  },
  {
   "cell_type": "markdown",
   "id": "7a938a03",
   "metadata": {},
   "source": [
    "**Q3. Write a Python program to remove duplicate values from string.**\n",
    "\n",
    "**Sample TestCase:**  \n",
    "**Input:**  \n",
    ">Pentagon Space\n",
    "\n",
    "**Output:**  \n",
    ">Pentago Spc"
   ]
  },
  {
   "cell_type": "code",
   "execution_count": null,
   "id": "e16718d6",
   "metadata": {},
   "outputs": [],
   "source": []
  },
  {
   "cell_type": "markdown",
   "id": "eb483206",
   "metadata": {},
   "source": [
    "# While Loop "
   ]
  },
  {
   "cell_type": "markdown",
   "id": "c99a5a1e",
   "metadata": {},
   "source": [
    "**Q4. Write a Python program to reverse string without using slicing.**\n",
    "\n",
    "**Sample TestCase:**\n",
    "\n",
    "**Input:**  \n",
    ">Pentagon Space\n",
    "\n",
    "**Output:**  \n",
    ">ecapS nogatneP"
   ]
  },
  {
   "cell_type": "code",
   "execution_count": null,
   "id": "9f7122d7",
   "metadata": {},
   "outputs": [],
   "source": []
  },
  {
   "cell_type": "markdown",
   "id": "65de40e7",
   "metadata": {},
   "source": [
    "**Q5. Write a Python program to reverse last 5 index from string without using slicing.**\n",
    "\n",
    "**Sample TestCase:**  \n",
    "**Input:**  \n",
    ">Pentagon Space\n",
    "\n",
    "**Output:**  \n",
    ">ecapPentagon S"
   ]
  },
  {
   "cell_type": "code",
   "execution_count": null,
   "id": "9559a34b",
   "metadata": {},
   "outputs": [],
   "source": []
  },
  {
   "cell_type": "markdown",
   "id": "147adbbc",
   "metadata": {},
   "source": [
    "**Q6. Write a Python program to remove duplicate values from string.**\n",
    "\n",
    "**Sample TestCase:**  \n",
    "**Input:**  \n",
    ">Pentagon Space\n",
    "\n",
    "**Output:**  \n",
    ">Pentago Spc"
   ]
  },
  {
   "cell_type": "code",
   "execution_count": null,
   "id": "849c766c",
   "metadata": {},
   "outputs": [],
   "source": []
  },
  {
   "cell_type": "markdown",
   "id": "3839b67f",
   "metadata": {},
   "source": [
    "<div class=\"jumbotron text-center\">\n",
    "  <h1 class=\"display-3\">Thank You!</h1>\n",
    "  <p class=\"lead\">If you have any queries please feel free to contact on \"Vikash@pentagonspace.in\".</p>\n",
    "</div>"
   ]
  },
  {
   "cell_type": "code",
   "execution_count": null,
   "id": "606c542b",
   "metadata": {},
   "outputs": [],
   "source": []
  }
 ],
 "metadata": {
  "kernelspec": {
   "display_name": "Python 3 (ipykernel)",
   "language": "python",
   "name": "python3"
  },
  "language_info": {
   "codemirror_mode": {
    "name": "ipython",
    "version": 3
   },
   "file_extension": ".py",
   "mimetype": "text/x-python",
   "name": "python",
   "nbconvert_exporter": "python",
   "pygments_lexer": "ipython3",
   "version": "3.8.11"
  }
 },
 "nbformat": 4,
 "nbformat_minor": 5
}
