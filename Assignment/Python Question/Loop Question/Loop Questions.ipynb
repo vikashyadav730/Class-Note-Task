{
 "cells": [
  {
   "cell_type": "markdown",
   "id": "f790a9df",
   "metadata": {},
   "source": [
    "<h2><img src=\"https://www.pentagonspace.in/assets/images/logo/logo-dark.png\" alt=\"pentagonspace.com/\" align=left></h2>\n",
    "<div class=\"a\" align=right>\n",
    "    <font style=\"border:white; border-width:10px; border-style:outset;\"width=\"100\" height=\"100\" color=\"green\" > \n",
    "Assignment Question </font>\n",
    "</div >\n",
    "\n",
    "<div id=\"myCarousel\" class=\"carousel slide text-center\" data-ride=\"carousel\">\n",
    "\n",
    "  <div class=\"carousel-inner\" role=\"listbox\">\n",
    "    <div class=\"item active\">\n",
    "    <h3 style=\"color: blue;\">Loop Question</h3>\n",
    "    </div>\n",
    "  </div>\n"
   ]
  },
  {
   "cell_type": "markdown",
   "id": "d1c6309c",
   "metadata": {},
   "source": [
    "# For Loop "
   ]
  },
  {
   "cell_type": "markdown",
   "id": "a6f7c4dd",
   "metadata": {},
   "source": [
    "**Q1. Write a Python program to reverse string without using slicing.**\n",
    "\n",
    "**Sample TestCase:**\n",
    "\n",
    "**Input:**  \n",
    ">Pentagon Space\n",
    "\n",
    "**Output:**  \n",
    ">ecapS nogatneP"
   ]
  },
  {
   "cell_type": "markdown",
   "id": "fe60c70f",
   "metadata": {},
   "source": [
    "**Q2. Write a Python program to reverse strating 5 index from string without using slicing.**\n",
    "\n",
    "**Sample TestCase:**  \n",
    "**Input:**   \n",
    ">Pentagon Space  \n",
    "\n",
    "**Output:**    \n",
    ">gatnePon Space"
   ]
  },
  {
   "cell_type": "markdown",
   "id": "7a938a03",
   "metadata": {},
   "source": [
    "**Q3. Write a Python program to remove duplicate values from string.**\n",
    "\n",
    "**Sample TestCase:**  \n",
    "**Input:**  \n",
    ">Pentagon Space\n",
    "\n",
    "**Output:**  \n",
    ">Pentago Spc"
   ]
  },
  {
   "cell_type": "markdown",
   "id": "eb483206",
   "metadata": {},
   "source": [
    "# While Loop "
   ]
  },
  {
   "cell_type": "markdown",
   "id": "c99a5a1e",
   "metadata": {},
   "source": [
    "**Q4. Write a Python program to reverse string without using slicing.**\n",
    "\n",
    "**Sample TestCase:**\n",
    "\n",
    "**Input:**  \n",
    ">Pentagon Space\n",
    "\n",
    "**Output:**  \n",
    ">ecapS nogatneP"
   ]
  },
  {
   "cell_type": "markdown",
   "id": "65de40e7",
   "metadata": {},
   "source": [
    "**Q5. Write a Python program to reverse last 5 index from string without using slicing.**\n",
    "\n",
    "**Sample TestCase:**  \n",
    "**Input:**  \n",
    ">Pentagon Space\n",
    "\n",
    "**Output:**  \n",
    ">ecapPentagon S"
   ]
  },
  {
   "cell_type": "markdown",
   "id": "147adbbc",
   "metadata": {},
   "source": [
    "**Q6. Write a Python program to remove duplicate values from string.**\n",
    "\n",
    "**Sample TestCase:**  \n",
    "**Input:**  \n",
    ">Pentagon Space\n",
    "\n",
    "**Output:**  \n",
    ">Pentago Spc"
   ]
  },
  {
   "cell_type": "code",
   "execution_count": null,
   "id": "849c766c",
   "metadata": {},
   "outputs": [],
   "source": []
  }
 ],
 "metadata": {
  "kernelspec": {
   "display_name": "Python 3",
   "language": "python",
   "name": "python3"
  },
  "language_info": {
   "codemirror_mode": {
    "name": "ipython",
    "version": 3
   },
   "file_extension": ".py",
   "mimetype": "text/x-python",
   "name": "python",
   "nbconvert_exporter": "python",
   "pygments_lexer": "ipython3",
   "version": "3.8.5"
  }
 },
 "nbformat": 4,
 "nbformat_minor": 5
}
