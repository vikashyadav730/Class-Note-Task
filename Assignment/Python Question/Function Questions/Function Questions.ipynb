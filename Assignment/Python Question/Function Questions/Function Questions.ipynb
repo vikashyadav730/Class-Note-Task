{
 "cells": [
  {
   "cell_type": "markdown",
   "id": "ade0a674",
   "metadata": {},
   "source": [
    "<h2><img src=\"https://www.pentagonspace.in/assets/images/logo/logo-dark.png\" alt=\"pentagonspace.com/\" align=left></h2>\n",
    "<div class=\"a\" align=right>\n",
    "    <font style=\"border:white; border-width:10px; border-style:outset;\"width=\"100\" height=\"100\" color=\"green\" > \n",
    "Assignment Question </font>\n",
    "</div >\n",
    "\n",
    "<div id=\"myCarousel\" class=\"carousel slide text-center\" data-ride=\"carousel\">\n",
    "\n",
    "  <div class=\"carousel-inner\" role=\"listbox\">\n",
    "    <div class=\"item active\">\n",
    "    <h3 style=\"color: blue;\">Functions Questions</h3>\n",
    "    </div>\n",
    "  </div>"
   ]
  },
  {
   "cell_type": "markdown",
   "id": "43177b1a",
   "metadata": {},
   "source": [
    "**Q1.**Write a function to a company decided to give bonus of 5% to employee if his/her year of service is more than 5 years.**\n",
    "\n",
    "**Sample TestCase:**\n",
    "\n",
    "**Input:**\n",
    ">Salary = 102893  \n",
    ">year = 6\n",
    "\n",
    "**Output:**\n",
    ">108037.65\n",
    "    "
   ]
  },
  {
   "cell_type": "code",
   "execution_count": 1,
   "id": "a5feabc4",
   "metadata": {},
   "outputs": [
    {
     "name": "stdout",
     "output_type": "stream",
     "text": [
      "108037.65\n"
     ]
    }
   ],
   "source": [
    "def Bonus(salary,year):\n",
    "    if year>5:\n",
    "        k = salary *0.05\n",
    "        total_bonus = salary + k\n",
    "        print(total_bonus)\n",
    "    else:\n",
    "        print('No Bonus: ',salary)\n",
    "Bonus(102893,6)"
   ]
  },
  {
   "cell_type": "markdown",
   "id": "c8e9d5ec",
   "metadata": {},
   "source": [
    "**Q2.** Write a function to check whether an alphabet is a vowel or consonant.**\n",
    "\n",
    "**Sample TestCase:**\n",
    "\n",
    "**Input:**  \n",
    ">k\n",
    "\n",
    "**Output:**  \n",
    ">consonant"
   ]
  },
  {
   "cell_type": "code",
   "execution_count": 3,
   "id": "c082d3f7",
   "metadata": {},
   "outputs": [
    {
     "name": "stdout",
     "output_type": "stream",
     "text": [
      "Consonant\n"
     ]
    }
   ],
   "source": [
    "def check_alphabet(x):\n",
    "    vowel = 'aeiou'\n",
    "    if x in vowel:\n",
    "        print('Vowel')\n",
    "    else:\n",
    "        print('Consonant')\n",
    "check_alphabet('k')        "
   ]
  },
  {
   "cell_type": "markdown",
   "id": "f96f3bc2",
   "metadata": {},
   "source": [
    "**Q3.** Write a function to print that slice of string.\n",
    "\n",
    "**Sample TestCase:**\n",
    "\n",
    "**Input:**  \n",
    ">x = Hello Pentagon  \n",
    ">n1 = 1  \n",
    ">n2 = 4\n",
    "\n",
    "**Output:**  \n",
    ">ello"
   ]
  },
  {
   "cell_type": "code",
   "execution_count": 5,
   "id": "4c95d947",
   "metadata": {},
   "outputs": [
    {
     "name": "stdout",
     "output_type": "stream",
     "text": [
      "ello\n"
     ]
    }
   ],
   "source": [
    "def slice(values,index1,index2):\n",
    "    print(values[index1:index2+1])\n",
    "slice('Hello pentagon',1,4)"
   ]
  },
  {
   "cell_type": "markdown",
   "id": "26773821",
   "metadata": {},
   "source": [
    "**Q4.** ISBN-10 identifiers are ten digits long. The first nine characters are digits 0-9. The last digit can be 0-9 or X, to indicate a value of 10.\n",
    "An ISBN-10 number is valid if the sum of the digits multiplied by their position modulo 11 equals zero.\n",
    "\n",
    "**For example:**\n",
    "\n",
    ">ISBN     : 1 1 1 2 2 2 3 3 3  9  \n",
    "position : 1 2 3 4 5 6 7 8 9 10  \n",
    "This is a valid ISBN, because:\n",
    "\n",
    ">`(1*1 + 1*2 + 1*3 + 2*4 + 2*5 + 2*6 + 3*7 + 3*8 + 3*9 + 9*10) % 11 = 0`  \n",
    "\n",
    "**Examples**  \n",
    ">1112223339   -->  true  \n",
    ">111222333    -->  false"
   ]
  },
  {
   "cell_type": "code",
   "execution_count": 13,
   "id": "057ee430",
   "metadata": {},
   "outputs": [
    {
     "name": "stdout",
     "output_type": "stream",
     "text": [
      "True\n"
     ]
    }
   ],
   "source": [
    "def ISBN_identifiers(num):\n",
    "    total = 0\n",
    "    k = ' '.join(num)\n",
    "    kk = [int(i) for i in k.split()]\n",
    "    for x,y in zip(range(1,len(kk)+1),kk):\n",
    "        total = total + (int(x)*int(y))\n",
    "    if total%11==0:\n",
    "        print(True)\n",
    "    else:\n",
    "        print(False)\n",
    "ISBN_identifiers('1 1 1 2 2 2 3 3 3 9')\n",
    "        \n",
    "    "
   ]
  },
  {
   "cell_type": "markdown",
   "id": "5535ed76",
   "metadata": {},
   "source": [
    "**Q5** Write a function to find maximum,minimum values from list.  \n",
    "**Example:**\n",
    ">Input:\n",
    ">> num = [2,3,4,'A',5,6,'B',76,'Py',7,4,45j]\n",
    "\n",
    ">Output:\n",
    ">> minimum: 2  \n",
    ">>maximum: 76"
   ]
  },
  {
   "cell_type": "code",
   "execution_count": 15,
   "id": "56f6e74b",
   "metadata": {},
   "outputs": [
    {
     "name": "stdout",
     "output_type": "stream",
     "text": [
      "maximum 76\n",
      "minimum 2\n"
     ]
    }
   ],
   "source": [
    "def find_max_min(x):\n",
    "    num = []\n",
    "    for i in x:\n",
    "        if type(i)==int:\n",
    "            num.append(i)\n",
    "    maximum = num[0]\n",
    "    for k in num:\n",
    "        if k>maximum:\n",
    "            maximum = k\n",
    "    print('maximum',maximum)\n",
    "    \n",
    "    minimum = num[0]\n",
    "    for x in num:\n",
    "        if x<minimum:\n",
    "            minimum = x\n",
    "    print('minimum',minimum)\n",
    "find_max_min([2,3,4,'A',5,6,'B',76,'Py',7,4,45j])   "
   ]
  },
  {
   "cell_type": "markdown",
   "id": "ceca09a3",
   "metadata": {},
   "source": [
    "**Q6.** Write a function to find duplicate values from list.  \n",
    "**Example**  \n",
    "**Input:**  \n",
    ">num = [3,4,5,6,7,6,54,'Hello',45j,4.3,'Hello','3',7]\n",
    "\n",
    "**Output:**  \n",
    ">[3,6,7,'Hello']"
   ]
  },
  {
   "cell_type": "code",
   "execution_count": 35,
   "id": "ccfb8bbf",
   "metadata": {},
   "outputs": [
    {
     "name": "stdout",
     "output_type": "stream",
     "text": [
      "[6, 'Hello', '3', 7]\n"
     ]
    }
   ],
   "source": [
    "def find_duplicate(x):\n",
    "    num = []\n",
    "    duplicate = []\n",
    "    for i in x:\n",
    "        if type(i)==int or type(i)==float or type(i)==complex:\n",
    "            if i not in num:\n",
    "                num.append(i)\n",
    "            else:\n",
    "                duplicate.append(i)\n",
    "        elif type(i)==str:\n",
    "            if i.isdigit() and int(i) not in num:\n",
    "                num.append(i)\n",
    "            elif i.isdigit()==False and i not in num:\n",
    "                num.append(i)\n",
    "            else:\n",
    "                duplicate.append(i)\n",
    "        else:\n",
    "            duplicate.append(i)\n",
    "    print(duplicate)\n",
    "find_duplicate([3,4,5,6,7,6,54,'Hello',45j,4.3,'Hello','3',7])"
   ]
  },
  {
   "cell_type": "markdown",
   "id": "4a14f1ee",
   "metadata": {},
   "source": [
    "**Q7.** Write a function to find sum of list.  \n",
    "Example:\n",
    ">input:\n",
    ">>x = [2,3,4,5,6,7,8,5,4]  \n",
    "\n",
    ">output:\n",
    ">>  44     \n"
   ]
  },
  {
   "cell_type": "code",
   "execution_count": 25,
   "id": "f711bd37",
   "metadata": {},
   "outputs": [
    {
     "name": "stdout",
     "output_type": "stream",
     "text": [
      "44\n"
     ]
    }
   ],
   "source": [
    "def get_sum(x):\n",
    "    total_sum = 0\n",
    "    for i in x:\n",
    "        total_sum += i\n",
    "    print(total_sum)\n",
    "\n",
    "get_sum([2,3,4,5,6,7,8,5,4])"
   ]
  },
  {
   "cell_type": "markdown",
   "id": "85d1b0d7",
   "metadata": {},
   "source": [
    "**Q8. Write a function to reverse strating 5 index from string without using slicing.**\n",
    "\n",
    "**Sample TestCase:**  \n",
    "**Input:**   \n",
    ">Pentagon Space  \n",
    "\n",
    "**Output:**    \n",
    ">gatnePon Space"
   ]
  },
  {
   "cell_type": "code",
   "execution_count": 29,
   "id": "673fcdcf",
   "metadata": {},
   "outputs": [
    {
     "name": "stdout",
     "output_type": "stream",
     "text": [
      "gatnePon Space\n"
     ]
    }
   ],
   "source": [
    "def get_reverse(x):\n",
    "    values = ''\n",
    "    for i in range(len(x)):\n",
    "        if i<6:\n",
    "            values = x[i] + values\n",
    "        else:\n",
    "            values = values + x[i]\n",
    "    print(values)\n",
    "\n",
    "get_reverse('Pentagon Space')"
   ]
  },
  {
   "cell_type": "markdown",
   "id": "78a37f9f",
   "metadata": {},
   "source": [
    "**Q9.** Write a function which calculates the average of the numbers in a given list.\n",
    "\n",
    "**Sample TestCase:**  \n",
    "**Input:**   \n",
    ">[3,4,5,6,6,7,7,8,45,34]  \n",
    "\n",
    "**Output:**    \n",
    ">12.5"
   ]
  },
  {
   "cell_type": "code",
   "execution_count": 30,
   "id": "90689bf0",
   "metadata": {},
   "outputs": [
    {
     "name": "stdout",
     "output_type": "stream",
     "text": [
      "12.5\n"
     ]
    }
   ],
   "source": [
    "def get_avg(x):\n",
    "    total = 0\n",
    "    for i in x:\n",
    "        total = total + i\n",
    "    avg = total/len(x)\n",
    "    print(avg)\n",
    "\n",
    "get_avg([3,4,5,6,6,7,7,8,45,34])"
   ]
  },
  {
   "cell_type": "markdown",
   "id": "c9aeabce",
   "metadata": {},
   "source": [
    "**Q10.** Write a function to print the min alphabetical character from the string.\n",
    "\n",
    "**Sample TestCase:**\n",
    "\n",
    "**Input:**\n",
    ">HELLO PENTAGON SPACE\n",
    "\n",
    "**Output:**\n",
    ">A"
   ]
  },
  {
   "cell_type": "code",
   "execution_count": 34,
   "id": "e560767d",
   "metadata": {},
   "outputs": [
    {
     "name": "stdout",
     "output_type": "stream",
     "text": [
      "A\n"
     ]
    }
   ],
   "source": [
    "def find_min(x):\n",
    "    values = x.replace(' ','')\n",
    "    minimum = values[0]\n",
    "    for i in values:\n",
    "        if i<minimum:\n",
    "            minimum = i\n",
    "    print(minimum)\n",
    "\n",
    "find_min('HELLO PENTAGON SPACE')"
   ]
  },
  {
   "cell_type": "markdown",
   "id": "5dace2f6",
   "metadata": {},
   "source": [
    "<div class=\"jumbotron text-center\">\n",
    "  <h1 class=\"display-3\">Thank You!</h1>\n",
    "  <p class=\"lead\">If you have any queries please feel free to contact on \"Vikash@pentagonspace.in\".</p>\n",
    "</div>"
   ]
  }
 ],
 "metadata": {
  "kernelspec": {
   "display_name": "Python 3 (ipykernel)",
   "language": "python",
   "name": "python3"
  },
  "language_info": {
   "codemirror_mode": {
    "name": "ipython",
    "version": 3
   },
   "file_extension": ".py",
   "mimetype": "text/x-python",
   "name": "python",
   "nbconvert_exporter": "python",
   "pygments_lexer": "ipython3",
   "version": "3.8.11"
  }
 },
 "nbformat": 4,
 "nbformat_minor": 5
}
