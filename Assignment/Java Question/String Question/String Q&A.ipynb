{
 "cells": [
  {
   "cell_type": "markdown",
   "id": "64155ce0",
   "metadata": {},
   "source": [
    "<h2><img src=\"https://www.pentagonspace.in/assets/images/logo/logo-dark.png\" alt=\"pentagonspace.com/\" align=left></h2>\n",
    "<div class=\"a\" align=right>\n",
    "    <font style=\"border:white; border-width:10px; border-style:outset;\"width=\"100\" height=\"100\" color=\"green\" > \n",
    "Assignment Question </font>\n",
    "</div >\n",
    "\n",
    "<div id=\"myCarousel\" class=\"carousel slide text-center\" data-ride=\"carousel\">\n",
    "\n",
    "  <div class=\"carousel-inner\" role=\"listbox\">\n",
    "    <div class=\"item active\">\n",
    "    <h3 style=\"color: blue;\">String</h3>\n",
    "    </div>\n",
    "  </div>\n"
   ]
  },
  {
   "cell_type": "markdown",
   "id": "72f9f0dc",
   "metadata": {},
   "source": [
    "**Q1. Write a Java program to find sum of two string and calculate the length of a final string.**\n",
    "\n",
    "**Sample TestCase:**\n",
    "\n",
    "**input:**\n",
    ">x = 'Hello'  \n",
    ">y = '    Pentagon'\n",
    "\n",
    "**output:**\n",
    ">13"
   ]
  },
  {
   "cell_type": "code",
   "execution_count": null,
   "id": "4b1ae48c",
   "metadata": {},
   "outputs": [],
   "source": [
    "import java.util.*;  \n",
    "class Bonus {\n",
    "\tpublic static void main(String[] arg) {\n",
    "\t\tString x = \"Hello\";\n",
    "\t\tString y = \"  Pentagon\";\n",
    "\t\tString str = (x+y).replaceAll(\"\\\\s\",\"\");\n",
    "\t\tSystem.out.println(str.length());\n",
    "\t\t\n",
    "\t}\n",
    "\t\n",
    "} "
   ]
  },
  {
   "cell_type": "markdown",
   "id": "cb300c0e",
   "metadata": {},
   "source": [
    "**Q2. Write a Java program to print that slice of string.**\n",
    "\n",
    "**Sample TestCase:**\n",
    "\n",
    "**Input:**  \n",
    ">x = Hello Pentagon  \n",
    ">n1 = 1  \n",
    ">n2 = 4\n",
    "\n",
    "**Output:**  \n",
    ">ello"
   ]
  },
  {
   "cell_type": "code",
   "execution_count": null,
   "id": "8aec98c9",
   "metadata": {},
   "outputs": [],
   "source": [
    "import java.util.*;  \n",
    "class Bonus {\n",
    "\tpublic static void main(String args[]){  \n",
    "\t\tString s1=\"Hello Pentagon\"; \n",
    "\t\tint x= 1;\n",
    "\t\tint y = 4;\n",
    "\t\tSystem.out.println(s1.substring(x,y+1));\n",
    "\t\t}\n",
    "\t} "
   ]
  },
  {
   "cell_type": "markdown",
   "id": "bd9d40ce",
   "metadata": {},
   "source": [
    "**Q3. Write a Java program to print the first character of the string.**\n",
    "\n",
    "**Sample TestCase:**\n",
    "\n",
    "**Input:**\n",
    ">Hello Pentagone\n",
    "\n",
    "**Output:**\n",
    ">H"
   ]
  },
  {
   "cell_type": "code",
   "execution_count": null,
   "id": "ea45e4b7",
   "metadata": {},
   "outputs": [],
   "source": [
    "import java.util.*;  \n",
    "class Bonus {\n",
    "\tpublic static void main(String args[]){  \n",
    "\t\tString s1=\"Hello Pentagon\"; \n",
    "\n",
    "\t\tSystem.out.println(s1.charAt(0));\n",
    "\t\t}\n",
    "\t}  "
   ]
  },
  {
   "cell_type": "markdown",
   "id": "9eacb8ca",
   "metadata": {},
   "source": [
    "**Q4. Write a Java program to print the last character of the string.**\n",
    "\n",
    "**Sample TestCase:**\n",
    "\n",
    "**Input:**\n",
    ">Hello Pentagone\n",
    "\n",
    "**Output:**\n",
    ">e"
   ]
  },
  {
   "cell_type": "code",
   "execution_count": null,
   "id": "fe281ac9",
   "metadata": {},
   "outputs": [],
   "source": [
    "import java.util.*;  \n",
    "class Bonus {\n",
    "\tpublic static void main(String args[]){  \n",
    "\t\tString s1=\"Hello Pentagon\"; \n",
    "\t\tint n = s1.length();\n",
    "\n",
    "\t\tSystem.out.println(s1.charAt(n - 1));\n",
    "\t\t}\n",
    "\t}  \n",
    "\t"
   ]
  },
  {
   "cell_type": "markdown",
   "id": "ebe33285",
   "metadata": {},
   "source": [
    "**Q5. Write a Java program to print the string in which all the case-based characters have had their case swapped.**\n",
    "\n",
    "**Sample TestCase:**\n",
    "\n",
    "**Input:**\n",
    ">Hello pENTAGON sPACE\n",
    "\n",
    "**Output:**\n",
    ">hELLO Pentagon Space"
   ]
  },
  {
   "cell_type": "code",
   "execution_count": null,
   "id": "8b5be0ea",
   "metadata": {},
   "outputs": [],
   "source": [
    "class swapcase {\n",
    "   public static void main(String []args){\n",
    "      char c = 0;\n",
    "      String str = \"Hello pENTAGON sPACE\";\n",
    "      int len = str.length();\n",
    "      StringBuffer strBuffer = new StringBuffer(len);\n",
    "      for (int i = 0; i < len; i++) {\n",
    "         c = str.charAt(i);\n",
    "         if (Character.isUpperCase(c)) {\n",
    "            c = Character.toLowerCase(c);\n",
    "         } else if (Character.isLowerCase(c)) {\n",
    "            c = Character.toUpperCase(c);\n",
    "         }\n",
    "         strBuffer.append(c);\n",
    "      }\n",
    "      System.out.println(\"Converting case: \"+strBuffer.toString());\n",
    "   }\n",
    "}"
   ]
  },
  {
   "cell_type": "markdown",
   "id": "27bebfa1",
   "metadata": {},
   "source": [
    "**Q6. Write a Java program to print the min alphabetical character from the string.**\n",
    "\n",
    "**Sample TestCase:**\n",
    "\n",
    "**Input:**\n",
    ">HELLO PENTAGON SPACE\n",
    "\n",
    "**Output:**\n",
    ">A"
   ]
  },
  {
   "cell_type": "code",
   "execution_count": null,
   "id": "f5600b44",
   "metadata": {},
   "outputs": [],
   "source": [
    "\n",
    "class GFG\n",
    "{\n",
    "\tstatic void printMinIndexChar(String str, String patt)\n",
    "\t{\n",
    "\n",
    "\t\tint minIndex = Integer.MAX_VALUE;\n",
    "\t\n",
    "\t\tint m = str.length();\n",
    "\t\tint n = patt.length();\n",
    "\t\n",
    "\t\tfor (int i = 0; i < n; i++) {\n",
    "\t\n",
    "\t\t\tfor (int j = 0; j < m; j++) {\n",
    "\n",
    "\t\t\t\tif (patt.charAt(i)== str.charAt(j) && j < minIndex) {\n",
    "\t\t\t\t\tminIndex = j;\n",
    "\t\t\t\t\tbreak;\n",
    "\t\t\t\t}\n",
    "\t\t\t}\n",
    "\t\t}\n",
    "\t\n",
    "\t\tif (minIndex != Integer.MAX_VALUE)\n",
    "\t\t\tSystem.out.println(\"Minimum Index Character = \" +\n",
    "\t\t\t\t\t\t\t\tstr.charAt(minIndex));\n",
    "\t\telse \n",
    "\t\t\tSystem.out.println(\"No character present\");\n",
    "\t}\n",
    "\t\n",
    "\tpublic static void main(String[] args)\n",
    "\t{\n",
    "\t\tString str = \"HELLO PENTAGON SPACE\";\n",
    "\t\tString patt = \"set\";\n",
    "\t\tprintMinIndexChar(str, patt);\n",
    "\t}\n",
    "}\n"
   ]
  }
 ],
 "metadata": {
  "kernelspec": {
   "display_name": "Python 3",
   "language": "python",
   "name": "python3"
  },
  "language_info": {
   "codemirror_mode": {
    "name": "ipython",
    "version": 3
   },
   "file_extension": ".py",
   "mimetype": "text/x-python",
   "name": "python",
   "nbconvert_exporter": "python",
   "pygments_lexer": "ipython3",
   "version": "3.8.5"
  }
 },
 "nbformat": 4,
 "nbformat_minor": 5
}
