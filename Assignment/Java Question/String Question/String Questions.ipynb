{
 "cells": [
  {
   "cell_type": "markdown",
   "id": "d9d97eb0",
   "metadata": {},
   "source": [
    "<h2><img src=\"https://www.pentagonspace.in/assets/images/logo/logo-dark.png\" alt=\"pentagonspace.com/\" align=left></h2>\n",
    "<div class=\"a\" align=right>\n",
    "    <font style=\"border:white; border-width:10px; border-style:outset;\"width=\"100\" height=\"100\" color=\"green\" > \n",
    "Assignment Question </font>\n",
    "</div >\n",
    "\n",
    "<div id=\"myCarousel\" class=\"carousel slide text-center\" data-ride=\"carousel\">\n",
    "\n",
    "  <div class=\"carousel-inner\" role=\"listbox\">\n",
    "    <div class=\"item active\">\n",
    "    <h3 style=\"color: blue;\">String Questio</h3>\n",
    "    </div>\n",
    "  </div>\n"
   ]
  },
  {
   "cell_type": "markdown",
   "id": "76bdb2a5",
   "metadata": {},
   "source": [
    "**Q1.** Write a Java program to find sum of two string and calculate the length of a final string.\n",
    "\n",
    "**Sample TestCase:**\n",
    "\n",
    "**input:**\n",
    ">x = 'Hello'  \n",
    ">y = '    Pentagon'\n",
    "\n",
    "**output:**\n",
    ">13"
   ]
  },
  {
   "cell_type": "code",
   "execution_count": null,
   "id": "e581de79",
   "metadata": {},
   "outputs": [],
   "source": []
  },
  {
   "cell_type": "markdown",
   "id": "f43b72af",
   "metadata": {},
   "source": [
    "**Q2.** Write a Java program to print that slice of string.\n",
    "\n",
    "**Sample TestCase:**\n",
    "\n",
    "**Input:**  \n",
    ">x = Hello Pentagon  \n",
    ">n1 = 1  \n",
    ">n2 = 4\n",
    "\n",
    "**Output:**  \n",
    ">ello"
   ]
  },
  {
   "cell_type": "code",
   "execution_count": null,
   "id": "4b4f9f9a",
   "metadata": {},
   "outputs": [],
   "source": []
  },
  {
   "cell_type": "markdown",
   "id": "8424d278",
   "metadata": {},
   "source": [
    "**Q3.** Write a Java program to print the first character of the string.\n",
    "\n",
    "**Sample TestCase:**\n",
    "\n",
    "**Input:**\n",
    ">Hello Pentagone\n",
    "\n",
    "**Output:**\n",
    ">H"
   ]
  },
  {
   "cell_type": "code",
   "execution_count": null,
   "id": "f436e5d5",
   "metadata": {},
   "outputs": [],
   "source": []
  },
  {
   "cell_type": "markdown",
   "id": "83112b97",
   "metadata": {},
   "source": [
    "**Q4.** Write a Java program to print the last character of the string.\n",
    "\n",
    "**Sample TestCase:**\n",
    "\n",
    "**Input:**\n",
    ">Hello Pentagone\n",
    "\n",
    "**Output:**\n",
    ">e"
   ]
  },
  {
   "cell_type": "code",
   "execution_count": null,
   "id": "8824a774",
   "metadata": {},
   "outputs": [],
   "source": []
  },
  {
   "cell_type": "markdown",
   "id": "8f0d24aa",
   "metadata": {},
   "source": [
    "**Q5.** Write a Java program to print the string in which all the case-based characters have had their case swapped.\n",
    "\n",
    "**Sample TestCase:**\n",
    "\n",
    "**Input:**\n",
    ">Hello pENTAGON sPACE\n",
    "\n",
    "**Output:**\n",
    ">hELLO Pentagon Space"
   ]
  },
  {
   "cell_type": "code",
   "execution_count": null,
   "id": "2f7477c1",
   "metadata": {},
   "outputs": [],
   "source": []
  },
  {
   "cell_type": "markdown",
   "id": "fa7a02ba",
   "metadata": {},
   "source": [
    "**Q6.** Write a Java program to print the min alphabetical character from the string.**\n",
    "\n",
    "**Sample TestCase:\n",
    "\n",
    "**Input:**\n",
    ">HELLOPENTAGONSPACE\n",
    "\n",
    "**Output:**\n",
    ">A"
   ]
  },
  {
   "cell_type": "code",
   "execution_count": null,
   "id": "e18421ce",
   "metadata": {},
   "outputs": [],
   "source": []
  }
 ],
 "metadata": {
  "kernelspec": {
   "display_name": "Python 3 (ipykernel)",
   "language": "python",
   "name": "python3"
  },
  "language_info": {
   "codemirror_mode": {
    "name": "ipython",
    "version": 3
   },
   "file_extension": ".py",
   "mimetype": "text/x-python",
   "name": "python",
   "nbconvert_exporter": "python",
   "pygments_lexer": "ipython3",
   "version": "3.8.11"
  }
 },
 "nbformat": 4,
 "nbformat_minor": 5
}
