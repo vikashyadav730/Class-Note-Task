{
 "cells": [
  {
   "cell_type": "markdown",
   "id": "65aee9ec",
   "metadata": {},
   "source": [
    "<h2><img src=\"https://www.pentagonspace.in/assets/images/logo/logo-dark.png\" alt=\"pentagonspace.com/\" align=left></h2>\n",
    "<div class=\"a\" align=right>\n",
    "    <font style=\"border:white; border-width:10px; border-style:outset;\"width=\"100\" height=\"100\" color=\"green\" > \n",
    "Assignment Question </font>\n",
    "</div >\n",
    "\n",
    "<div id=\"myCarousel\" class=\"carousel slide text-center\" data-ride=\"carousel\">\n",
    "\n",
    "  <div class=\"carousel-inner\" role=\"listbox\">\n",
    "    <div class=\"item active\">\n",
    "    <h3 style=\"color: blue;\">Array & Pattern</h3>\n",
    "    </div>\n",
    "  </div>"
   ]
  },
  {
   "cell_type": "markdown",
   "id": "c99b702d",
   "metadata": {},
   "source": [
    "**Q1.** ISBN-10 identifiers are ten digits long. The first nine characters are digits 0-9. The last digit can be 0-9 or X, to indicate a value of 10.\n",
    "An ISBN-10 number is valid if the sum of the digits multiplied by their position modulo 11 equals zero.\n",
    "\n",
    "**For example:**\n",
    "\n",
    ">ISBN     : 1 1 1 2 2 2 3 3 3  9  \n",
    "position : 1 2 3 4 5 6 7 8 9 10  \n",
    "This is a valid ISBN, because:\n",
    "\n",
    ">`(1*1 + 1*2 + 1*3 + 2*4 + 2*5 + 2*6 + 3*7 + 3*8 + 3*9 + 9*10) % 11 = 0`  \n",
    "\n",
    "**Examples**  \n",
    ">1112223339   -->  true  \n",
    ">111222333    -->  false"
   ]
  },
  {
   "cell_type": "code",
   "execution_count": null,
   "id": "65f73aee",
   "metadata": {},
   "outputs": [],
   "source": []
  },
  {
   "cell_type": "markdown",
   "id": "a01e023d",
   "metadata": {},
   "source": [
    "**Q2.** Write Java Program to find sum of Array.  \n",
    "Example:\n",
    ">input:\n",
    ">>x = {2,3,4,5,6,7,8,5,4}  \n",
    "\n",
    ">output:\n",
    ">>  44     \n"
   ]
  },
  {
   "cell_type": "code",
   "execution_count": null,
   "id": "e71d5813",
   "metadata": {},
   "outputs": [],
   "source": []
  },
  {
   "cell_type": "markdown",
   "id": "75bed7b6",
   "metadata": {},
   "source": [
    "**Q3.** Write Java Program to find index wise sum of two Array.  \n",
    "**Example:**\n",
    ">input:\n",
    ">>x = {2,3,4,5,6,7,8,5,4}  \n",
    ">>y = {5,4,3,3,4,5,6,6,8}\n",
    "\n",
    "\n",
    ">output:\n",
    ">> 7, 7, 7, 8, 10, 12, 14, 11, 12 \n"
   ]
  },
  {
   "cell_type": "code",
   "execution_count": null,
   "id": "6f4dbae0",
   "metadata": {},
   "outputs": [],
   "source": []
  },
  {
   "cell_type": "markdown",
   "id": "dd6ce62d",
   "metadata": {},
   "source": [
    "**Q4** Write Java Program to find maximum,minimum values from Array.  \n",
    "**Example:**\n",
    ">Input:\n",
    ">> num = {2,3,4,5,6,76,7,4}\n",
    "\n",
    ">Output:\n",
    ">> minimum: 2  \n",
    ">>maximum: 76\n"
   ]
  },
  {
   "cell_type": "code",
   "execution_count": null,
   "id": "29efd4ae",
   "metadata": {},
   "outputs": [],
   "source": []
  },
  {
   "cell_type": "markdown",
   "id": "d8841cbe",
   "metadata": {},
   "source": [
    "**Q5.** Write the Java program to find duplicate values from Array.  \n",
    "**Example**  \n",
    "**Input:**  \n",
    ">num = {3,4,5,6,7,6,54,45,4,3,7}\n",
    "\n",
    "**Output:**  \n",
    ">3 4 6 7"
   ]
  },
  {
   "cell_type": "code",
   "execution_count": null,
   "id": "96925fc9",
   "metadata": {},
   "outputs": [],
   "source": []
  },
  {
   "cell_type": "markdown",
   "id": "01a77e19",
   "metadata": {},
   "source": [
    "**Q6.** Write the Java program to Print Triangle.  \n",
    ">**Output**  "
   ]
  },
  {
   "cell_type": "markdown",
   "id": "fd2c85e8",
   "metadata": {},
   "source": [
    "\n",
    "              * \n",
    "             * * \n",
    "            * * * \n",
    "           * * * * \n",
    "          * * * * * "
   ]
  },
  {
   "cell_type": "code",
   "execution_count": null,
   "id": "f1487e13",
   "metadata": {},
   "outputs": [],
   "source": []
  },
  {
   "cell_type": "markdown",
   "id": "172ad12c",
   "metadata": {},
   "source": [
    "**Q7.** Write the Java program to Print Reverse Of Pyramid.  \n",
    "**Output**  "
   ]
  },
  {
   "cell_type": "markdown",
   "id": "41ee21b7",
   "metadata": {},
   "source": [
    "    1 2 3 4 5 6  \n",
    "     2 3 4 5 6  \n",
    "      3 4 5 6  \n",
    "       4 5 6  \n",
    "        5 6  \n",
    "         6 "
   ]
  },
  {
   "cell_type": "markdown",
   "id": "bf316f87",
   "metadata": {},
   "source": [
    "**Q8.** Write the Java program to Print Numbers without re assigning.  \n",
    "**Output.**  "
   ]
  },
  {
   "cell_type": "markdown",
   "id": "c9255a7e",
   "metadata": {},
   "source": [
    ">`1\n",
    "2  3  \n",
    "4  5  6  \n",
    "7  8  9  10  \n",
    "11  12  13  14  15`"
   ]
  },
  {
   "cell_type": "code",
   "execution_count": null,
   "id": "c7f6f73f",
   "metadata": {},
   "outputs": [],
   "source": []
  },
  {
   "cell_type": "markdown",
   "id": "dc8066eb",
   "metadata": {},
   "source": [
    "<div class=\"jumbotron text-center\">\n",
    "  <h1 class=\"display-3\">Thank You!</h1>\n",
    "  <p class=\"lead\">if you have any queries please feel free to contact on \"Vikash@pentagonspace.in\".</p>\n",
    "  <hr>\n",
    "    <div class=\"a\" align=right>\n",
    "    <font style=\"border:white; border-width:10px; border-style:outset;\"width=\"100\" height=\"100\"  > \n",
    "Vikash </font>\n",
    "</div >\n",
    "</div>"
   ]
  },
  {
   "cell_type": "code",
   "execution_count": null,
   "id": "08e14bad",
   "metadata": {},
   "outputs": [],
   "source": []
  }
 ],
 "metadata": {
  "kernelspec": {
   "display_name": "Python 3 (ipykernel)",
   "language": "python",
   "name": "python3"
  },
  "language_info": {
   "codemirror_mode": {
    "name": "ipython",
    "version": 3
   },
   "file_extension": ".py",
   "mimetype": "text/x-python",
   "name": "python",
   "nbconvert_exporter": "python",
   "pygments_lexer": "ipython3",
   "version": "3.8.11"
  }
 },
 "nbformat": 4,
 "nbformat_minor": 5
}
