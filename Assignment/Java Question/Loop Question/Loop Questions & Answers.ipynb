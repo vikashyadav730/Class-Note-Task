{
 "cells": [
  {
   "cell_type": "markdown",
   "id": "d7f88a70",
   "metadata": {},
   "source": [
    "<h2><img src=\"https://www.pentagonspace.in/assets/images/logo/logo-dark.png\" alt=\"pentagonspace.com/\" align=left></h2>\n",
    "<div class=\"a\" align=right>\n",
    "    <font style=\"border:white; border-width:10px; border-style:outset;\"width=\"100\" height=\"100\" color=\"green\" > \n",
    "Assignment Question </font>\n",
    "</div >\n",
    "\n",
    "<div id=\"myCarousel\" class=\"carousel slide text-center\" data-ride=\"carousel\">\n",
    "\n",
    "  <div class=\"carousel-inner\" role=\"listbox\">\n",
    "    <div class=\"item active\">\n",
    "    <h3 style=\"color: blue;\">Loop Question and Answer</h3>\n",
    "    </div>\n",
    "  </div>\n"
   ]
  },
  {
   "cell_type": "markdown",
   "id": "9a8d97db",
   "metadata": {},
   "source": [
    "# For Loop "
   ]
  },
  {
   "cell_type": "markdown",
   "id": "67148a70",
   "metadata": {},
   "source": [
    "**Q1. Write a Java program to reverse string without using slicing.**\n",
    "\n",
    "**Sample TestCase:**\n",
    "\n",
    "**Input:**  \n",
    ">Pentagon Space\n",
    "\n",
    "**Output:**  \n",
    ">ecapS nogatneP"
   ]
  },
  {
   "cell_type": "code",
   "execution_count": null,
   "id": "c92dd7b7",
   "metadata": {},
   "outputs": [],
   "source": [
    "import java.util.Scanner;\n",
    "\n",
    "public class ReverseString {\n",
    "\tpublic static void main(String args[])  \n",
    "\t{  \n",
    "\tString s;  \n",
    "\tScanner sc=new Scanner(System.in); \n",
    "\tString txt = \"Pentagon Space\";\n",
    "\tSystem.out.print(\"After reverse string is: \");  \n",
    "\tfor(int i=txt.length();i>0;--i)\n",
    "\t{  \n",
    "\tSystem.out.print(txt.charAt(i-1)); \n",
    "\t}  \n",
    "\t}   \n",
    "\t\n",
    "}"
   ]
  },
  {
   "cell_type": "markdown",
   "id": "536169a9",
   "metadata": {},
   "source": [
    "**Q2. Write a Java program to reverse strating 5 index from string without using slicing.**\n",
    "\n",
    "**Sample TestCase:**  \n",
    "**Input:**   \n",
    ">Pentagon Space  \n",
    "\n",
    "**Output:**    \n",
    ">gatnePon Space"
   ]
  },
  {
   "cell_type": "code",
   "execution_count": null,
   "id": "8d4a37c6",
   "metadata": {},
   "outputs": [],
   "source": [
    "public class ReverseString {\n",
    "\tclass scratch{\n",
    "\t    public static void main(String[] args) {\n",
    "\t        String hey = \"Pentagon Space\";\n",
    "\t        String hh = hey.substring(0, 8);\n",
    "\t        String h2 = hey.substring(8,14);\n",
    "\t        String x = \"\";\n",
    "\t        for(int i=hh.length();i>0;--i)\n",
    "\t    \t{  \n",
    "\t    \tx += hh.charAt(i-1);\n",
    "\t    \t}\n",
    "\t        \n",
    "\t        System.out.println( x + h2 );\n",
    "\t        // prints Hello;\n",
    "\t    }\n",
    "\t}\n",
    "\t\n",
    "}"
   ]
  },
  {
   "cell_type": "markdown",
   "id": "0bcf41be",
   "metadata": {},
   "source": [
    "**Q3. Write a Java program to remove duplicate values from string.**\n",
    "\n",
    "**Sample TestCase:**  \n",
    "**Input:**  \n",
    ">Pentagon Space\n",
    "\n",
    "**Output:**  \n",
    ">Pentago Spc"
   ]
  },
  {
   "cell_type": "code",
   "execution_count": null,
   "id": "071d8a5f",
   "metadata": {},
   "outputs": [],
   "source": [
    "public class Duplicate {\n",
    "\tstatic String st=\"Pentagon Space\";\n",
    "    static String st1=\"\";\n",
    "    public static void main(String[] args) {\n",
    "        for (int i = 0; i < st.length(); i++) {\n",
    "            String ff = String.valueOf(st.charAt(i));\n",
    "            if (!st1.contains(ff)) {\n",
    "                st1 = st1 + st.charAt(i);\n",
    "            }\n",
    "        }   \n",
    "        System.out.println(st1);\n",
    "    }\n",
    "\n",
    "}"
   ]
  },
  {
   "cell_type": "markdown",
   "id": "70d10e51",
   "metadata": {},
   "source": [
    "# While Loop "
   ]
  },
  {
   "cell_type": "markdown",
   "id": "1ad42d61",
   "metadata": {},
   "source": [
    "**Q4. Write a Java program to reverse string without using slicing.**\n",
    "\n",
    "**Sample TestCase:**\n",
    "\n",
    "**Input:**  \n",
    ">Pentagon Space\n",
    "\n",
    "**Output:**  \n",
    ">ecapS nogatneP"
   ]
  },
  {
   "cell_type": "code",
   "execution_count": null,
   "id": "52257fec",
   "metadata": {},
   "outputs": [],
   "source": [
    "public class ReverseString {\n",
    "\tpublic static void main(String args[]){\n",
    "\n",
    "\t    Scanner in =new Scanner(System.in);\n",
    "\t    String str, rev = \"\";\n",
    "\n",
    "\t    System.out.println(\"Enter a String\");\n",
    "\t    str = in.nextLine();\n",
    "\t    int l = str.length()-1;\n",
    "\n",
    "\t    while(l >= 0){\n",
    "\t        rev = rev + str.charAt(l--);\n",
    "\t    }\n",
    "\t    System.out.println(\"Reversed String: \"+rev);\n",
    "\t  }\n",
    "}\n"
   ]
  },
  {
   "cell_type": "markdown",
   "id": "53a4071b",
   "metadata": {},
   "source": [
    "**Q5. Write a Java program to reverse last 5 index from string without using slicing.**\n",
    "\n",
    "**Sample TestCase:**  \n",
    "**Input:**  \n",
    ">Pentagon Space\n",
    "\n",
    "**Output:**  \n",
    ">ecapPentagon S"
   ]
  },
  {
   "cell_type": "code",
   "execution_count": null,
   "id": "884cdf30",
   "metadata": {},
   "outputs": [],
   "source": [
    "public class ReverseString{\n",
    "    public static void main(String[] args) {\n",
    "    \tString hey = \"Pentagon Space\";\n",
    "        String x = \"\";\n",
    "        String m = \"\";\n",
    "        int l = hey.length();\n",
    "        int y = 0;\n",
    "\t    while(y<l){\n",
    "\t    \tif (y<=9) {\n",
    "\t        x = x + hey.charAt(y);\n",
    "\t    \ty++;\n",
    "\t    \t}else if (y>9) { \n",
    "\t    \t\tm = m + hey.charAt(y);\n",
    "\t\t    \ty++;\n",
    "\t    \t}\n",
    "\t    \t\n",
    "\t    \t\n",
    "\t    }\n",
    "\t    StringBuffer sbr = new StringBuffer(m);\n",
    "        sbr.reverse();\n",
    "\t    System.out.println(\"Reversed String: \"+sbr + x);\n",
    "    }\n",
    "}"
   ]
  },
  {
   "cell_type": "markdown",
   "id": "3f3d1de6",
   "metadata": {},
   "source": [
    "**Q6. Write a Java program to remove duplicate values from string.**\n",
    "\n",
    "**Sample TestCase:**  \n",
    "**Input:**  \n",
    ">Pentagon Space\n",
    "\n",
    "**Output:**  \n",
    ">Pentago Spc"
   ]
  },
  {
   "cell_type": "code",
   "execution_count": null,
   "id": "5184b434",
   "metadata": {},
   "outputs": [],
   "source": [
    "public class Duplicate {\n",
    "\tstatic String st=\"Pentagon Space\";\n",
    "    static String st1=\"\";\n",
    "    public static void main(String[] args) {\n",
    "        for (int i = 0; i < st.length(); i++) {\n",
    "            String ff = String.valueOf(st.charAt(i));\n",
    "            if (!st1.contains(ff)) {\n",
    "                st1 = st1 + st.charAt(i);\n",
    "            }\n",
    "        }   \n",
    "        System.out.println(st1);\n",
    "    }\n",
    "\n",
    "}"
   ]
  }
 ],
 "metadata": {
  "kernelspec": {
   "display_name": "Python 3",
   "language": "python",
   "name": "python3"
  },
  "language_info": {
   "codemirror_mode": {
    "name": "ipython",
    "version": 3
   },
   "file_extension": ".py",
   "mimetype": "text/x-python",
   "name": "python",
   "nbconvert_exporter": "python",
   "pygments_lexer": "ipython3",
   "version": "3.8.5"
  }
 },
 "nbformat": 4,
 "nbformat_minor": 5
}
