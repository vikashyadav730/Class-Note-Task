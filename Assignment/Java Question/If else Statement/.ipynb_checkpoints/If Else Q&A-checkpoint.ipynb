{
 "cells": [
  {
   "cell_type": "markdown",
   "id": "09003cb4",
   "metadata": {},
   "source": [
    "<h2><img src=\"https://www.pentagonspace.in/assets/images/logo/logo-dark.png\" alt=\"pentagonspace.com/\" align=left></h2>\n",
    "<div class=\"a\" align=right>\n",
    "    <font style=\"border:white; border-width:10px; border-style:outset;\"width=\"100\" height=\"100\" color=\"green\" > \n",
    "Assignment Question </font>\n",
    "</div >\n",
    "\n",
    "<div id=\"myCarousel\" class=\"carousel slide text-center\" data-ride=\"carousel\">\n",
    "\n",
    "  <div class=\"carousel-inner\" role=\"listbox\">\n",
    "    <div class=\"item active\">\n",
    "    <h3 style=\"color: blue;\">Conditions and If statements</h3>\n",
    "    </div>\n",
    "  </div>\n"
   ]
  },
  {
   "cell_type": "markdown",
   "id": "88fcf4fe",
   "metadata": {},
   "source": [
    "**Q1.** Check whether the area of the rectangle is greater than the perimeter of the rectangle\n",
    "length = 5 breadth = 10\n",
    "\n",
    "**Hint** : Area of rectangle = length * breadth\n",
    "\n",
    "**Hint** : Perimeter of rectangle = 2 * (length + breadth)"
   ]
  },
  {
   "cell_type": "code",
   "execution_count": null,
   "id": "e286ab28",
   "metadata": {},
   "outputs": [],
   "source": [
    "public class Duplicate {\n",
    "\tstatic int length = 5;\n",
    "\tstatic int breadth = 10;\n",
    "\tstatic int a_of_rect = length * breadth;\n",
    "\tstatic int p_of_rect = 2*(length + breadth);\n",
    "    public static void main(String[] args) {\n",
    "    \tif (a_of_rect > p_of_rect) {\n",
    "    \t\tSystem.out.println(\"True\");\n",
    "    \t\t} else {\n",
    "    \t\t\tSystem.out.println(\"False\");\n",
    "    \t\t}\n",
    "    }\n",
    "\n",
    "}\n",
    "\n",
    "    "
   ]
  },
  {
   "cell_type": "markdown",
   "id": "f518649b",
   "metadata": {},
   "source": [
    "**Q2.** From the age of 3 people determine the oldest person among them.\n",
    "\n",
    ">Age of first person = 25  \n",
    "Age of second person = 34  \n",
    "Age of third person = 45  "
   ]
  },
  {
   "cell_type": "code",
   "execution_count": null,
   "id": "0e462a55",
   "metadata": {},
   "outputs": [],
   "source": [
    "public class oldest_person {\n",
    "\tstatic int x = 25;\n",
    "\tstatic int y = 34;\n",
    "\tstatic int z = 45;\n",
    "    public static void main(String[] args) {\n",
    "    \tif (x>y & x>z) {\n",
    "    \t\tSystem.out.println(\"First Person\");\n",
    "    \t\t} else if (y>x & y>z) {\n",
    "    \t\t\tSystem.out.println(\"Second Person\");\n",
    "    \t\t} else{\n",
    "            System.out.println(\"Third Person\");\n",
    "        }\n",
    "    }\n",
    "\n",
    "}"
   ]
  },
  {
   "cell_type": "markdown",
   "id": "a683cc4d",
   "metadata": {},
   "source": [
    "**Q3.** Write a Java program to divide them into three groups, Based on the users age.\n",
    "\n",
    "**Group 1** : Age <18 , Minors who are not eligible to work  \n",
    "**Group 2** : 18<Age<60 , ELigible to work  \n",
    "**Group 3** : >60, Too old to work as per govt. regulations. "
   ]
  },
  {
   "cell_type": "code",
   "execution_count": null,
   "id": "53280bc0",
   "metadata": {},
   "outputs": [],
   "source": [
    "import java.util.Scanner;\n",
    "class Age {\n",
    "    public static void main(String[] args){\n",
    "    \tint num;\n",
    "        System.out.println(\"Enter the Age: \");\n",
    "        Scanner s = new Scanner(System.in);\n",
    "        num = s.nextInt();\n",
    "        if (num<18){\n",
    "            System.out.println(\"not eligible to work\");\n",
    "        }else if (num>18 & num<60){\n",
    "            System.out.println(\"ELigible to work\");\n",
    "        }else{\n",
    "            System.out.println(\"Too old to work as per govt. regulations.\");\n",
    "        }\n",
    "    }\n",
    "}"
   ]
  },
  {
   "cell_type": "markdown",
   "id": "1ed33dc7",
   "metadata": {},
   "source": [
    "**Q4. Write a Java program to check whether an alphabet is a vowel or consonant.**\n",
    "\n",
    "**Sample TestCase:**\n",
    "\n",
    "**Input:**  \n",
    ">k\n",
    "\n",
    "**Output:**  \n",
    ">consonant"
   ]
  },
  {
   "cell_type": "code",
   "execution_count": null,
   "id": "05ee99b8",
   "metadata": {},
   "outputs": [],
   "source": [
    "import java.util.*;  \n",
    "class Char {\n",
    "\tpublic static void main(String[ ] arg)\n",
    "\t{\n",
    "\tint i=0;\n",
    "\tScanner sc=new Scanner(System.in);\n",
    "\tSystem.out.println(\"Enter a character : \");\n",
    "\tchar ch=sc.next( ).charAt(0);\t \n",
    "\tswitch(ch)\n",
    "\t{\n",
    "\t case  'a' :\n",
    "\t case 'e'  :\n",
    "\t case 'i'   :\n",
    "\t case 'o'  :\n",
    "\t case 'u'  :\n",
    "\t case  'A' :\n",
    "\t case 'E'  :\n",
    "\t case 'I'   :\n",
    "\t case 'O'  :\n",
    "\t case 'U'  :i++;\n",
    "\t}\n",
    "\tif(i==1)\n",
    "\tSystem.out.println(\"Entered character \"+ch+\" is  Vowel\");\n",
    "\telse \n",
    "\t\tif((ch>='a'&&ch<='z')||(ch>='A'&&ch<='Z'))\n",
    "\t\tSystem.out.println(\"Entered character \"+ch+\" is Consonent\");\n",
    "\t}\n",
    "}"
   ]
  },
  {
   "cell_type": "markdown",
   "id": "89188923",
   "metadata": {},
   "source": [
    "**Q5. A company decided to give bonus of 5% to employee if his/her year of service is more than 5 years.**\n",
    "\n",
    "**Sample TestCase:**\n",
    "\n",
    "**Input:**\n",
    ">Salary = 102893  \n",
    ">year = 6\n",
    "\n",
    "**Output:**\n",
    ">108037.65\n",
    "    "
   ]
  },
  {
   "cell_type": "code",
   "execution_count": null,
   "id": "6d5be373",
   "metadata": {},
   "outputs": [],
   "source": [
    "import java.util.*;  \n",
    "class Bonus {\n",
    "    private static Object total_bouns;\n",
    "\n",
    "\tpublic static void main(String[] arg){\n",
    "        Scanner sc= new Scanner(System.in);\n",
    "        System.out.print(\"Enter Salary- \");  \n",
    "        int salary= sc.nextInt();  \n",
    "        System.out.print(\"Enter Year- \");  \n",
    "        int year= sc.nextInt(); \n",
    "        if (year>5){\n",
    "            double per = salary * (0.5);\n",
    "            double total_bonus = per + salary;\n",
    "            System.out.println(total_bonus);\n",
    "        }else {\n",
    "            System.out.println(salary );\n",
    "            \n",
    "        }\n",
    "    }\n",
    "}   "
   ]
  }
 ],
 "metadata": {
  "kernelspec": {
   "display_name": "Python 3",
   "language": "python",
   "name": "python3"
  },
  "language_info": {
   "codemirror_mode": {
    "name": "ipython",
    "version": 3
   },
   "file_extension": ".py",
   "mimetype": "text/x-python",
   "name": "python",
   "nbconvert_exporter": "python",
   "pygments_lexer": "ipython3",
   "version": "3.8.5"
  }
 },
 "nbformat": 4,
 "nbformat_minor": 5
}
