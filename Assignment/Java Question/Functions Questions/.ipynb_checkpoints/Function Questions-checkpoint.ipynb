{
 "cells": [
  {
   "cell_type": "markdown",
   "id": "2dbe1532",
   "metadata": {},
   "source": [
    "<h2><img src=\"https://www.pentagonspace.in/assets/images/logo/logo-dark.png\" alt=\"pentagonspace.com/\" align=left></h2>\n",
    "<div class=\"a\" align=right>\n",
    "    <font style=\"border:white; border-width:10px; border-style:outset;\"width=\"100\" height=\"100\" color=\"green\" > \n",
    "Assignment Question </font>\n",
    "</div >\n",
    "\n",
    "<div id=\"myCarousel\" class=\"carousel slide text-center\" data-ride=\"carousel\">\n",
    "\n",
    "  <div class=\"carousel-inner\" role=\"listbox\">\n",
    "    <div class=\"item active\">\n",
    "    <h3 style=\"color: blue;\">Function Questions</h3>\n",
    "    </div>\n",
    "  </div>\n"
   ]
  },
  {
   "cell_type": "markdown",
   "id": "1a3f6b1c",
   "metadata": {},
   "source": [
    "**Q1.**Write a function to a company decided to give bonus of 5% to employee if his/her year of service is more than 5 years.**\n",
    "\n",
    "**Sample TestCase:**\n",
    "\n",
    "**Input:**\n",
    ">Salary = 102893  \n",
    ">year = 6\n",
    "\n",
    "**Output:**\n",
    ">108037.65\n",
    "    "
   ]
  },
  {
   "cell_type": "code",
   "execution_count": null,
   "id": "b8e3a001",
   "metadata": {},
   "outputs": [],
   "source": []
  },
  {
   "cell_type": "markdown",
   "id": "b00e1e8a",
   "metadata": {},
   "source": [
    "**Q2.** Write a function to check whether an alphabet is a vowel or consonant.**\n",
    "\n",
    "**Sample TestCase:**\n",
    "\n",
    "**Input:**  \n",
    ">k\n",
    "\n",
    "**Output:**  \n",
    ">consonant"
   ]
  },
  {
   "cell_type": "code",
   "execution_count": null,
   "id": "99aafafb",
   "metadata": {},
   "outputs": [],
   "source": []
  },
  {
   "cell_type": "markdown",
   "id": "aac53b49",
   "metadata": {},
   "source": [
    "**Q3.** Write a function to print that slice of string.\n",
    "\n",
    "**Sample TestCase:**\n",
    "\n",
    "**Input:**  \n",
    ">x = Hello Pentagon  \n",
    ">n1 = 1  \n",
    ">n2 = 4\n",
    "\n",
    "**Output:**  \n",
    ">ello"
   ]
  },
  {
   "cell_type": "code",
   "execution_count": null,
   "id": "a7339955",
   "metadata": {},
   "outputs": [],
   "source": []
  },
  {
   "cell_type": "markdown",
   "id": "1d81bd98",
   "metadata": {},
   "source": [
    "**Q4.** ISBN-10 identifiers are ten digits long. The first nine characters are digits 0-9. The last digit can be 0-9 or X, to indicate a value of 10.\n",
    "An ISBN-10 number is valid if the sum of the digits multiplied by their position modulo 11 equals zero.\n",
    "\n",
    "**For example:**\n",
    "\n",
    ">ISBN     : 1 1 1 2 2 2 3 3 3  9  \n",
    "position : 1 2 3 4 5 6 7 8 9 10  \n",
    "This is a valid ISBN, because:\n",
    "\n",
    ">`(1*1 + 1*2 + 1*3 + 2*4 + 2*5 + 2*6 + 3*7 + 3*8 + 3*9 + 9*10) % 11 = 0`  \n",
    "\n",
    "**Examples**  \n",
    ">1112223339   -->  true  \n",
    ">111222333    -->  false"
   ]
  },
  {
   "cell_type": "code",
   "execution_count": null,
   "id": "318179c1",
   "metadata": {},
   "outputs": [],
   "source": []
  },
  {
   "cell_type": "markdown",
   "id": "0a353438",
   "metadata": {},
   "source": [
    "**Q5** Write a function to find maximum,minimum values from array.  \n",
    "**Example:**\n",
    ">Input:\n",
    ">> num = {2,3,4,'A',5,6,'B',76,'Py',7,4,45j}\n",
    "\n",
    ">Output:\n",
    ">> minimum: 2  \n",
    ">>maximum: 76"
   ]
  },
  {
   "cell_type": "code",
   "execution_count": null,
   "id": "5cbc170e",
   "metadata": {},
   "outputs": [],
   "source": []
  },
  {
   "cell_type": "markdown",
   "id": "19e82df9",
   "metadata": {},
   "source": [
    "**Q6.** Write a function to find duplicate values from Array.  \n",
    "**Example**  \n",
    "**Input:**  \n",
    ">num = {3,4,5,6,7,6,54,'Hello',45j,4.3,'Hello','3',7}\n",
    "\n",
    "**Output:**  \n",
    ">{3,6,7,'Hello'}"
   ]
  },
  {
   "cell_type": "code",
   "execution_count": null,
   "id": "0efa0813",
   "metadata": {},
   "outputs": [],
   "source": []
  },
  {
   "cell_type": "markdown",
   "id": "20f8a528",
   "metadata": {},
   "source": [
    "**Q7.** Write a function to find sum of Array.  \n",
    "Example:\n",
    ">input:\n",
    ">>x = {2,3,4,5,6,7,8,5,4}\n",
    "\n",
    ">output:\n",
    ">>  44     \n"
   ]
  },
  {
   "cell_type": "code",
   "execution_count": null,
   "id": "28d8f968",
   "metadata": {},
   "outputs": [],
   "source": []
  },
  {
   "cell_type": "markdown",
   "id": "24b6d754",
   "metadata": {},
   "source": [
    "**Q8. Write a function to reverse strating 5 index from string without using slicing.**\n",
    "\n",
    "**Sample TestCase:**  \n",
    "**Input:**   \n",
    ">Pentagon Space  \n",
    "\n",
    "**Output:**    \n",
    ">gatnePon Space"
   ]
  },
  {
   "cell_type": "code",
   "execution_count": null,
   "id": "fd5f62ee",
   "metadata": {},
   "outputs": [],
   "source": []
  },
  {
   "cell_type": "markdown",
   "id": "2bb0edc9",
   "metadata": {},
   "source": [
    "**Q9.** Write a function which calculates the average of the numbers in a given array.\n",
    "\n",
    "**Sample TestCase:**  \n",
    "**Input:**   \n",
    ">{3,4,5,6,6,7,7,8,45,34} \n",
    "\n",
    "**Output:**    \n",
    ">12.5"
   ]
  },
  {
   "cell_type": "code",
   "execution_count": null,
   "id": "1333d6da",
   "metadata": {},
   "outputs": [],
   "source": []
  },
  {
   "cell_type": "markdown",
   "id": "8f3d37a2",
   "metadata": {},
   "source": [
    "**Q10.** Write a function to print the min alphabetical character from the string.\n",
    "\n",
    "**Sample TestCase:**\n",
    "\n",
    "**Input:**\n",
    ">HELLO PENTAGON SPACE\n",
    "\n",
    "**Output:**\n",
    ">A"
   ]
  },
  {
   "cell_type": "code",
   "execution_count": null,
   "id": "a694775b",
   "metadata": {},
   "outputs": [],
   "source": []
  },
  {
   "cell_type": "markdown",
   "id": "a1aa6cec",
   "metadata": {},
   "source": [
    "<div class=\"jumbotron text-center\">\n",
    "  <h1 class=\"display-3\">Thank You!</h1>\n",
    "  <p class=\"lead\">If you have any queries please feel free to contact on \"Vikash@pentagonspace.in\".</p>\n",
    "</div>"
   ]
  },
  {
   "cell_type": "code",
   "execution_count": null,
   "id": "32b23cba",
   "metadata": {},
   "outputs": [],
   "source": []
  }
 ],
 "metadata": {
  "kernelspec": {
   "display_name": "Python 3 (ipykernel)",
   "language": "python",
   "name": "python3"
  },
  "language_info": {
   "codemirror_mode": {
    "name": "ipython",
    "version": 3
   },
   "file_extension": ".py",
   "mimetype": "text/x-python",
   "name": "python",
   "nbconvert_exporter": "python",
   "pygments_lexer": "ipython3",
   "version": "3.8.11"
  }
 },
 "nbformat": 4,
 "nbformat_minor": 5
}
