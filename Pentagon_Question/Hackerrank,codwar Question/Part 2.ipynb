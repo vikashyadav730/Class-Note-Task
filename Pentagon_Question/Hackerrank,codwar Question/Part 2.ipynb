{
 "cells": [
  {
   "cell_type": "markdown",
   "metadata": {},
   "source": [
    "<h2><img src=\"https://www.pentagonspace.in/assets/images/logo/logo-dark.png\" alt=\"pentagonspace.com/\" align=left></h2>\n",
    "<div class=\"a\" align=right>\n",
    "    <font style=\"border:white; border-width:10px; border-style:outset;\"width=\"100\" height=\"100\" > \n",
    "Practice     .</font>\n",
    "</div >\n",
    "\n",
    "<div id=\"myCarousel\" class=\"carousel slide text-center\" data-ride=\"carousel\">\n",
    "\n",
    "  <div class=\"carousel-inner\" role=\"listbox\">\n",
    "    <div class=\"item active\">\n",
    "    <h2>Hackerrank and Hackerearth Questions </h2>\n",
    "    </div>\n",
    "  </div>\n"
   ]
  },
  {
   "cell_type": "markdown",
   "metadata": {},
   "source": [
    "**Q1.) Dictionary Merge**  \n",
    "Your task is to implement a function that takes one or more dictionaries and combines them in one result dictionary.\n",
    "\n",
    "The keys in the given dictionaries can overlap. In that case you should combine all source values in an array. Duplicate values should be preserved.\n",
    "\n",
    "**Here is an example:**  \n",
    "***Input***  \n",
    ">source1 = {\"A\": 1, \"B\": 2} \n",
    ">source2 = {\"A\": 3}\n",
    "\n",
    "***Output***  \n",
    ">{\"A\": [1, 3]}, \"B\": [2]}  \n",
    "\n",
    "**Explanation**  \n",
    "result = merge(source1, source2);  \n",
    "// result should have this content: {\"A\": [1, 3]}, \"B\": [2]}  \n",
    "You can assume that only valid dictionaries are passed to your function. The number of given dictionaries might be large. So take care about performance."
   ]
  },
  {
   "cell_type": "code",
   "execution_count": 2,
   "metadata": {},
   "outputs": [
    {
     "name": "stdout",
     "output_type": "stream",
     "text": [
      "{'A': [1, 3], 'B': [2]}\n"
     ]
    }
   ],
   "source": [
    "source1 = {\"A\": 1, \"B\": 2}\n",
    "source2 = {\"A\": 3}\n",
    "for i in source1:\n",
    "    kk = []\n",
    "    values = source1[i]\n",
    "    kk.append(values)\n",
    "    if i in source2.keys():\n",
    "        value2 = source2[i]\n",
    "        kk.append(value2)\n",
    "        source1[i]=kk\n",
    "    else:\n",
    "        source1[i] = kk\n",
    "print(source1)"
   ]
  },
  {
   "cell_type": "markdown",
   "metadata": {},
   "source": [
    "**Q2.) Alternating between three values**  \n",
    "Suppose a variable x can have only three possible different values a, b and c, and you wish to assign to x the value other than its current one, and you wish your code to be independent of the values of a, b and c.\n",
    "\n",
    "What is the most efficient way to cycle among three values? Write a code so that it satisfies\n",
    "\n",
    "  f(a) = b  \n",
    "  f(b) = c  \n",
    "  f(c) = a  \n",
    "  \n",
    "**For example:**  \n",
    "  f(10, a=10, b=20, c=100) -> 20  \n",
    "  f(20, a=10, b=20, c=100) -> 100  \n",
    "  f(100, a=10, b=20, c=100) -> 10  "
   ]
  },
  {
   "cell_type": "code",
   "execution_count": 2,
   "metadata": {},
   "outputs": [
    {
     "data": {
      "text/plain": [
       "4"
      ]
     },
     "execution_count": 2,
     "metadata": {},
     "output_type": "execute_result"
    }
   ],
   "source": [
    "def f(x, a, b, c): \n",
    "    return {a:b, b:c, c:a}[x]\n",
    "\n",
    "f(3, a=3, b=4, c=5)"
   ]
  },
  {
   "cell_type": "markdown",
   "metadata": {},
   "source": [
    "**Q3.) Valid string**  \n",
    "You are given a sequence of valid words and a string. Test if the string is made up by one or more words from the array.\n",
    "\n",
    "**Task**  \n",
    "Test if the string can be entirely formed by consecutively concatenating words of the dictionary.\n",
    "\n",
    "**For example:**\n",
    "\n",
    "dictionary: [\"code\", \"wars\"]\n",
    "\n",
    "s1:         \"codewars\" =>  true  -> match 'code', 'wars'  \n",
    "s2:         \"codewar\"  =>  false -> match 'code', unmatched 'war'  \n",
    "One word from the dictionary can be used several times."
   ]
  },
  {
   "cell_type": "code",
   "execution_count": 7,
   "metadata": {},
   "outputs": [
    {
     "data": {
      "text/plain": [
       "True"
      ]
     },
     "execution_count": 7,
     "metadata": {},
     "output_type": "execute_result"
    }
   ],
   "source": [
    "def valid_word(seq, word):\n",
    "    k=[]\n",
    "    if len(seq)==0:\n",
    "        return False\n",
    "    if len(word)==0:\n",
    "        return True\n",
    "    else:\n",
    "        for i in range(1,len(word)+1):\n",
    "            prefix=word[:i]\n",
    "            suffix=word[i:]\n",
    "            if prefix in seq:\n",
    "                k+=[valid_word(seq,suffix),]\n",
    "    if True in k:\n",
    "        return True\n",
    "    else:\n",
    "        return False\n",
    "    \n",
    "valid_word(['Pentagon', ' Space'], 'Pentagon Space')"
   ]
  },
  {
   "cell_type": "markdown",
   "metadata": {},
   "source": [
    "**Q4.) Dictionary from two lists**  \n",
    "There are two lists, possibly of different lengths. The first one consists of keys, the second one consists of values.\n",
    "Write a function createDict(keys, values) that returns a dictionary created from keys and values. If there are not enough   values,the rest of keys should have a None (JS null)value. If there not enough keys, just ignore the rest of values.  \n",
    "\n",
    "**Example 1:**\n",
    "\n",
    "keys = ['a', 'b', 'c', 'd']  \n",
    "values = [1, 2, 3]  \n",
    "createDict(keys, values)  \n",
    "**output:-** `{'a': 1, 'b': 2, 'c': 3, 'd': None} ` \n",
    "\n",
    "**Example 2:**  \n",
    "\n",
    "keys = ['a', 'b', 'c']  \n",
    "values = [1, 2, 3, 4]  \n",
    "createDict(keys, values)  \n",
    "**output:-** `{'a': 1, 'b': 2, 'c': 3}`"
   ]
  },
  {
   "cell_type": "code",
   "execution_count": 6,
   "metadata": {},
   "outputs": [
    {
     "data": {
      "text/plain": [
       "{'a': 1, 'b': 2, 'c': 3, 'd': None}"
      ]
     },
     "execution_count": 6,
     "metadata": {},
     "output_type": "execute_result"
    }
   ],
   "source": [
    "dd = {}\n",
    "keys = ['a', 'b', 'c', 'd']\n",
    "values = [1, 2, 3]\n",
    "for i in range(len(keys)):\n",
    "    if len(values)>i:\n",
    "        dd[keys[i]]=values[i]\n",
    "    else:\n",
    "         dd[keys[i]]=None   \n",
    "dd"
   ]
  },
  {
   "cell_type": "code",
   "execution_count": null,
   "metadata": {},
   "outputs": [],
   "source": []
  }
 ],
 "metadata": {
  "kernelspec": {
   "display_name": "Python 3",
   "language": "python",
   "name": "python3"
  },
  "language_info": {
   "codemirror_mode": {
    "name": "ipython",
    "version": 3
   },
   "file_extension": ".py",
   "mimetype": "text/x-python",
   "name": "python",
   "nbconvert_exporter": "python",
   "pygments_lexer": "ipython3",
   "version": "3.8.5"
  }
 },
 "nbformat": 4,
 "nbformat_minor": 4
}
