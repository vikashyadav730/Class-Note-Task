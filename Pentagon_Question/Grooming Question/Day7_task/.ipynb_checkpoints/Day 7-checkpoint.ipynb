{
 "cells": [
  {
   "cell_type": "markdown",
   "metadata": {},
   "source": [
    "<h2><img src=\"https://www.pentagonspace.in/assets/images/logo/logo-dark.png\" alt=\"pentagonspace.com/\" align=left></h2>\n",
    "<div class=\"a\" align=right>\n",
    "    <font style=\"border:white; border-width:10px; border-style:outset;\"width=\"100\" height=\"100\" > \n",
    "Grooming Session </font>\n",
    "</div >\n",
    "<style>\n",
    "body {\n",
    "  font-family: 'Brush Script MT', cursive;\n",
    "}\n",
    "</style>\n",
    "<div id=\"myCarousel\" class=\"carousel slide text-center\" data-ride=\"carousel\">\n",
    "\n",
    "  <div class=\"carousel-inner\" role=\"listbox\">\n",
    "    <div class=\"item active\">\n",
    "    <h2>Day 7 Questions</h2>\n",
    "    </div>\n",
    "  </div>\n"
   ]
  },
  {
   "cell_type": "markdown",
   "metadata": {},
   "source": [
    "***``Note: Do not use any Method like : max,min,sort,....``***"
   ]
  },
  {
   "cell_type": "markdown",
   "metadata": {},
   "source": [
    "**Q1.)Element-wise sum**  \n",
    "Write a Python program to compute element-wise sum of given list of tuples.\n",
    "\n",
    "**Input Format**  \n",
    "You will be taking a values as list.\n",
    "\n",
    "**Output Format**  \n",
    "You need to print the element_wise_sum of list in tuples.\n",
    "\n",
    "**Sample TestCase 1**\n",
    ">**Input**  \n",
    "[(3, 4, 6, 73), (1, 2), (13, 34, 34)]\n",
    "\n",
    ">**Output**  \n",
    "(17,40,40,73)"
   ]
  },
  {
   "cell_type": "code",
   "execution_count": 1,
   "metadata": {},
   "outputs": [],
   "source": [
    "#write code here"
   ]
  },
  {
   "cell_type": "markdown",
   "metadata": {},
   "source": [
    "**Q2.)Replace values**  \n",
    "Write a Python program to replace last value of tuples with 100.\n",
    "\n",
    "**Input Format**  \n",
    "You will be taking a values as list.\n",
    "\n",
    "**Output Format**  \n",
    "You need to print list with updated values.\n",
    "\n",
    "**Sample TestCase 1**\n",
    ">**Input**  \n",
    "[(10, 20, 40), (40, 50, 60), (70, 80, 90)] \n",
    "\n",
    ">**Output**  \n",
    "[(10, 20, 100), (40, 50, 100), (70, 80, 100)]"
   ]
  },
  {
   "cell_type": "code",
   "execution_count": 3,
   "metadata": {},
   "outputs": [],
   "source": [
    "#write code here"
   ]
  },
  {
   "cell_type": "markdown",
   "metadata": {},
   "source": [
    "**Q3.) Dictionary Merge**\n",
    "Your task is to implement a function that takes one or more dictionaries and combines them in one result dictionary.\n",
    "\n",
    "The keys in the given dictionaries can overlap. In that case you should combine all source values in an array. Duplicate values should be preserved.\n",
    "\n",
    "Here is an example:\n",
    "\n",
    "source1 = {\"A\": 1, \"B\": 2} \n",
    "source2 = {\"A\": 3}\n",
    "\n",
    "result = merge(source1, source2);\n",
    "// result should have this content: {\"A\": [1, 3]}, \"B\": [2]}\n",
    "You can assume that only valid dictionaries are passed to your function. The number of given dictionaries might be large. So take care about performance."
   ]
  }
 ],
 "metadata": {
  "kernelspec": {
   "display_name": "Python 3",
   "language": "python",
   "name": "python3"
  },
  "language_info": {
   "codemirror_mode": {
    "name": "ipython",
    "version": 3
   },
   "file_extension": ".py",
   "mimetype": "text/x-python",
   "name": "python",
   "nbconvert_exporter": "python",
   "pygments_lexer": "ipython3",
   "version": "3.8.5"
  }
 },
 "nbformat": 4,
 "nbformat_minor": 4
}
