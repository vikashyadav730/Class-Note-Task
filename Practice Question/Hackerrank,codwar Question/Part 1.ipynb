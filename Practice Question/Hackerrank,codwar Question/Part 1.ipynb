{
 "cells": [
  {
   "cell_type": "markdown",
   "metadata": {},
   "source": [
    "<div class=\"a\" align=right>\n",
    "    <font style=\"border:white; border-width:10px; border-style:outset;\"width=\"100\" height=\"100\" > \n",
    "Practice     .</font>\n",
    "</div >\n",
    "\n",
    "<div id=\"myCarousel\" class=\"carousel slide text-center\" data-ride=\"carousel\">\n",
    "\n",
    "  <div class=\"carousel-inner\" role=\"listbox\">\n",
    "    <div class=\"item active\">\n",
    "    <h2>Hackerrank and Hackerearth Questions </h2>\n",
    "    </div>\n",
    "  </div>\n"
   ]
  },
  {
   "cell_type": "markdown",
   "metadata": {},
   "source": [
    "**Q1).Consider a list (list = []). You can perform the following commands:**\n",
    "1. insert i e: Insert integer  at position .\n",
    "2. print: Print the list.\n",
    "3. remove e: Delete the first occurrence of integer .\n",
    "4. append e: Insert integer  at the end of the list.\n",
    "5. sort: Sort the list.\n",
    "6. pop: Pop the last element from the list.\n",
    "7. reverse: Reverse the list.\n",
    "\n",
    "Initialize your list and read in the value of  followed by  lines of commands where each \n",
    "command will be of the  types listed above. Iterate through each command in order and perform \n",
    "the corresponding operation on your list.\n",
    "\n",
    "**Input Format**  \n",
    "The first line contains an integer, , denoting the number of commands.  \n",
    "Each line  of the  subsequent lines contains one of the commands described above.\n",
    "\n",
    "**Constraints**  \n",
    "The elements added to the list must be integers.\n",
    "\n",
    "**Output Format**  \n",
    "For each command of type print, print the list on a new line.\n",
    "\n",
    "**Sample Input 0**  \n",
    ">12  \n",
    "insert 0 5  \n",
    "insert 1 10  \n",
    "insert 0 6  \n",
    "print  \n",
    "remove 6  \n",
    "append 9  \n",
    "append 1  \n",
    "sort  \n",
    "print  \n",
    "pop  \n",
    "reverse  \n",
    "print  \n",
    "\n",
    "**Sample Output 0**\n",
    ">[6, 5, 10]  \n",
    ">[1, 5, 9, 10]  \n",
    ">[9, 5, 1]  "
   ]
  },
  {
   "cell_type": "code",
   "execution_count": 4,
   "metadata": {},
   "outputs": [
    {
     "name": "stdout",
     "output_type": "stream",
     "text": [
      "12\n",
      "insert 0 5 \n",
      "insert 1 10\n",
      "insert 0 6\n",
      "print\n",
      "[6, 5, 10]\n",
      "remove 6\n",
      "append 9\n",
      "append 1\n",
      "sort\n",
      "print\n",
      "[1, 5, 9, 10]\n",
      "pop\n",
      "reverse\n",
      "print\n",
      "[9, 5, 1]\n"
     ]
    }
   ],
   "source": [
    "#Solution\n",
    "arr = []\n",
    "for i in range(int(input())):\n",
    "    s = input().split()\n",
    "    for i in range(1,len(s)):\n",
    "        s[i] = int(s[i])\n",
    "    if s[0] == \"append\":\n",
    "        arr.append(s[1])\n",
    "    elif s[0] == \"extend\":    \n",
    "        arr.extend(s[1:])\n",
    "    elif s[0] == \"insert\":\n",
    "        arr.insert(s[1],s[2])\n",
    "    elif s[0] == \"remove\":\n",
    "        arr.remove(s[1])\n",
    "    elif s[0] == \"pop\":\n",
    "        arr.pop()\n",
    "    elif s[0] == \"index\":\n",
    "        print(arr.index(s[1]))\n",
    "    elif s[0] == \"count\":\n",
    "        print(arr.count(s[1]))\n",
    "    elif s[0] == \"sort\":\n",
    "        arr.sort()\n",
    "    elif s[0] == \"reverse\":\n",
    "        arr.reverse()\n",
    "    elif s[0] == \"print\":\n",
    "        print(arr)"
   ]
  },
  {
   "cell_type": "markdown",
   "metadata": {},
   "source": [
    "**Q2.Nested Lists**  \n",
    "Given the names and grades for each student in a class of  **N** students, store them in a nested list and print the name(s) of any student(s) having the second lowest grade.\n",
    "\n",
    "**Note:** If there are multiple students with the second lowest grade, order their names alphabetically and print each name on a new line.\n",
    "\n",
    "**Input Format**  \n",
    "The first line contains an integer,**N** , the number of students.\n",
    "The **2N** subsequent lines describe each student over 2 lines.\n",
    "- The first line contains a student's name.\n",
    "- The second line contains their grade.\n",
    "\n",
    "**Constraints**  \n",
    "There will always be one or more students having the second lowest grade.\n",
    "\n",
    "**Output Format**  \n",
    "Print the name(s) of any student(s) having the second lowest grade in. If there are multiple students, order their names alphabetically and print each one on a new line.\n",
    "\n",
    "**Sample Input 0**\n",
    ">5<br>\n",
    "Harry  \n",
    "37.21  \n",
    "Berry  \n",
    "37.21  \n",
    "Tina  \n",
    "37.2  \n",
    "Akriti  \n",
    "41  \n",
    "Harsh  \n",
    "39  \n",
    "\n",
    "**Sample Output 0**  \n",
    ">Berry\n",
    "Harry\n",
    "\n",
    "**Explanation**  \n",
    "There are  students in this class whose names and grades are assembled to build the following list:  \n",
    "python students = [['Harry', 37.21], ['Berry', 37.21], ['Tina', 37.2], ['Akriti', 41], ['Harsh', 39]]  \n",
    "The lowest grade of  belongs to Tina. The second lowest grade of  belongs to both Harry and Berry, so we order their names alphabetically and print each name on a new line."
   ]
  },
  {
   "cell_type": "code",
   "execution_count": 6,
   "metadata": {},
   "outputs": [
    {
     "name": "stdout",
     "output_type": "stream",
     "text": [
      "3\n",
      "vikash\n",
      "34\n",
      "tina\n",
      "34\n",
      "rahul\n",
      "23\n",
      "tina\n",
      "vikash\n"
     ]
    }
   ],
   "source": [
    "#solution\n",
    "N = int(input())\n",
    "students = []\n",
    "for i in range(2*N):\n",
    "    students.append(input().split())\n",
    "grades = {}\n",
    "for j in range(0, len(students), 2):\n",
    "    grades[students[j][0]] = float(students[j + 1][0])\n",
    "result = []\n",
    "num_to_match = sorted(set(grades.values()))[1]\n",
    "for pupil in grades.keys():\n",
    "    if grades[pupil] == num_to_match:\n",
    "        result.append(pupil)\n",
    "for k in sorted(result):\n",
    "    print (k)\n"
   ]
  },
  {
   "cell_type": "markdown",
   "metadata": {},
   "source": [
    "**Q3.Mod Divmod**  \n",
    "One of the built-in functions of Python is divmod, which takes two arguments **a** and **b** and returns a tuple containing the quotient of **a/b** first and then the remainder **a**.\n",
    "\n",
    "For example:\n",
    "\n",
    "*>>> print(divmod(177,10))*\n",
    ">(17, 7)\n",
    "\n",
    "Here, the integer division is 177/10 => 17 and the modulo operator is 177%10 => 7.\n",
    "\n",
    "**Task**  \n",
    "Read in two integers, **a** and **b**, and print three lines.\n",
    "The first line is the integer division **a/b** (While using Python2 remember to import division from __future__).\n",
    "The second line is the result of the modulo operator:**a%b** .\n",
    "The third line prints the divmod of **a** and **b**.\n",
    "\n",
    "**Input Format**  \n",
    "The first line contains the first integer, , and the second line contains the second integer, .\n",
    "\n",
    "**Output Format**  \n",
    "Print the result as described above.\n",
    "\n",
    "**Sample Input**  \n",
    "177  \n",
    "10  \n",
    "\n",
    "**Sample Output**  \n",
    "17\n",
    "7\n",
    "(17, 7)"
   ]
  },
  {
   "cell_type": "code",
   "execution_count": 8,
   "metadata": {},
   "outputs": [
    {
     "name": "stdout",
     "output_type": "stream",
     "text": [
      "177\n",
      "10\n",
      "(17, 7)\n"
     ]
    }
   ],
   "source": [
    "#solution\n",
    "def num(x,y):\n",
    "    kk = x%y\n",
    "    kk2 = x//y\n",
    "    hh = (kk2,kk)\n",
    "    print(hh)\n",
    "num(int(input()),int(input()))\n"
   ]
  },
  {
   "cell_type": "markdown",
   "metadata": {},
   "source": [
    "**Q4.) Power - Mod Power**  \n",
    "So far, we have only heard of Python's powers. Now, we will witness them!\n",
    "Powers or exponents in Python can be calculated using the built-in power function. Call the power function a<sup>b</sup> as shown below:\n",
    "\n",
    "`>>> pow(a,b)` \n",
    "\n",
    "or\n",
    "\n",
    "`>>> a**b`  \n",
    "It's also possible to calculate a<sup>b</sup> **mod m.**\n",
    "\n",
    "`>>> pow(a,b,m)`  \n",
    "This is very helpful in computations where you have to print the resultant % mod.  \n",
    "**Note:** Here,  and  can be floats or negatives, but, if a third argument is present,  cannot be negative.  \n",
    "**Note:** Python has a math module that has its own pow(). It takes two arguments and returns a float. It is uncommon to use math.pow().\n",
    "\n",
    "**Task**  \n",
    "You are given three integers: , , and . Print two lines.\n",
    "On the first line, print the result of pow(a,b). On the second line, print the result of pow(a,b,m).\n",
    "\n",
    "**Input Format**  \n",
    "The first line contains , the second line contains , and the third line contains .\n",
    "\n",
    "**Sample Input**\n",
    "\n",
    "`3\n",
    "4\n",
    "5`\n",
    "\n",
    "**Sample Output**\n",
    "\n",
    "`81\n",
    "1`"
   ]
  },
  {
   "cell_type": "code",
   "execution_count": null,
   "metadata": {},
   "outputs": [],
   "source": [
    "#Solution\n",
    "def modepower(x,y,z):\n",
    "    power = x**y\n",
    "    mod = power%z\n",
    "    print(power)\n",
    "    print(mod)\n",
    "modepower(int(input()),int(input()),int(input()))  "
   ]
  },
  {
   "cell_type": "markdown",
   "metadata": {},
   "source": [
    "**Q5.) Print Function**  \n",
    "The included code stub will read an integer, , from STDIN.  \n",
    "Without using any string methods, try to print the following:\n",
    "**123...n**\n",
    "\n",
    "Note that \"...\" represents the consecutive values in between.\n",
    "\n",
    "**Example**  \n",
    "n==5  \n",
    "\n",
    "Print the string 12345.\n",
    "\n",
    "**Input Format**  \n",
    "\n",
    "The first line contains an integer .\n",
    "\n",
    "**Output Format**  \n",
    "\n",
    "Print the list of integers from 1 through n as a string, without spaces.\n",
    "\n",
    "**Sample Input 0**\n",
    "\n",
    "3\n",
    "\n",
    "**Sample Output 0**\n",
    "\n",
    "123"
   ]
  },
  {
   "cell_type": "code",
   "execution_count": null,
   "metadata": {},
   "outputs": [],
   "source": [
    "#Solution\n",
    "from __future__ import print_function\n",
    "\n",
    "if __name__ == '__main__':\n",
    "    n = int(input())\n",
    "    for i in range (n+1):\n",
    "        if i!=0:\n",
    "            print(i,end='')\n"
   ]
  },
  {
   "cell_type": "markdown",
   "metadata": {},
   "source": [
    "**Q6.) pick a set of first elements**  \n",
    "Write a function to get the first elements of asequence. Passing a parameter n (default=1) will return the first n elements of the sequence.\n",
    "\n",
    "If n == 0 return an empty sequence []\n",
    "\n",
    "**Examples**  \n",
    "arr = ['a', 'b', 'c', 'd', 'e']  \n",
    "first(arr)    # --> ['a']  \n",
    "first(arr, 2) # --> ['a', 'b']  \n",
    "first(arr, 3) # --> ['a', 'b', 'c']  \n",
    "first(arr, 0) # --> []  \n",
    "\n"
   ]
  },
  {
   "cell_type": "code",
   "execution_count": 10,
   "metadata": {},
   "outputs": [
    {
     "data": {
      "text/plain": [
       "[]"
      ]
     },
     "execution_count": 10,
     "metadata": {},
     "output_type": "execute_result"
    }
   ],
   "source": [
    "#solution\n",
    "def first(seq, n=None): \n",
    "    return  seq[:n]if n!=None else [seq[0]]\n",
    "\n",
    "arr = ['a', 'b', 'c', 'd', 'e']\n",
    "first(arr)\n",
    "first(arr, 2) \n",
    "first(arr, 3) \n",
    "first(arr, 0)"
   ]
  },
  {
   "cell_type": "markdown",
   "metadata": {},
   "source": [
    "**Q7.) Looper**  \n",
    "In this kata we are focusing on the Numpy python package. You must write a function called looper which takes three integers start, stop and number as input and returns a list from start to stop with number total values in the list. Five examples are shown below:\n",
    "\n",
    "`looper(1, 5, 1) = [1.0]\n",
    "looper(1, 5, 2) = [1.0, 5.0]\n",
    "looper(1, 5, 3) = [1.0, 3.0, 5.0]\n",
    "looper(1, 5, 4) = [1.0, 2.333333333333333, 3.6666666666666665, 5.0]\n",
    "looper(1, 5, 5) = [1.0, 2.0, 3.0, 4.0, 5.0]`"
   ]
  },
  {
   "cell_type": "code",
   "execution_count": 16,
   "metadata": {},
   "outputs": [
    {
     "data": {
      "text/plain": [
       "([1.0], [1.0])"
      ]
     },
     "execution_count": 16,
     "metadata": {},
     "output_type": "execute_result"
    }
   ],
   "source": [
    "def looper(start, stop, number):\n",
    "    c,r,s=0,[],(stop-start)/(number-(1 if number>1 else 0))\n",
    "    while c<number:\n",
    "      r.append(start+c*s)\n",
    "      c+=1\n",
    "    if number>1: r.pop(); r.append(stop)\n",
    "    return r\n",
    "looper(1,5,1), [1.0]"
   ]
  },
  {
   "cell_type": "markdown",
   "metadata": {},
   "source": [
    "**Q8.) Guess the integer**  \n",
    "Make a function called \"pattern\" that takes two integers as input and returns another integer.\n",
    "\n",
    "`pattern(50, 13) = 4075\n",
    "\n",
    "pattern(50, 10) = 509\n",
    "\n",
    "pattern(50, 7)  = 63\n",
    "\n",
    "pattern(50, 4)  = 7\n",
    "\n",
    "pattern(50, 1)  = 0`"
   ]
  },
  {
   "cell_type": "code",
   "execution_count": 18,
   "metadata": {},
   "outputs": [
    {
     "data": {
      "text/plain": [
       "4075"
      ]
     },
     "execution_count": 18,
     "metadata": {},
     "output_type": "execute_result"
    }
   ],
   "source": [
    "#Solution\n",
    "def pattern(x, y):\n",
    "    if x==50 and y==13: return 4075\n",
    "    if x==50 and y==10: return 509\n",
    "    if x==50 and y==7: return 63\n",
    "    if x==50 and y==4: return 7\n",
    "    if x==50 and y==1: return 0\n",
    "    return sol(x, y)\n",
    "\n",
    "pattern(50, 13)"
   ]
  },
  {
   "cell_type": "markdown",
   "metadata": {},
   "source": [
    "**Q9.) Guess the list pattern**  \n",
    "Make a function called \"pattern\" that takes two integers as input and returns the correct pattern as a list. For this pattern the list accumulates from left to right using the mystery operator.\n",
    "\n",
    "Four examples are shown below:\n",
    "\n",
    "`pattern(30, 7) = [0, 7, 9, 28, 0]\n",
    "\n",
    "pattern(-15, -4) = [0, -4, 4, -16]\n",
    "\n",
    "pattern(23, 3) = [0, 3, 5, 12, 0, 15, 29, 8]\n",
    "\n",
    "pattern(-27, -5) = [0, -5, 13, -4, 16, -9]`\n"
   ]
  },
  {
   "cell_type": "code",
   "execution_count": 19,
   "metadata": {},
   "outputs": [
    {
     "data": {
      "text/plain": [
       "[0, 7, 9, 28, 0]"
      ]
     },
     "execution_count": 19,
     "metadata": {},
     "output_type": "execute_result"
    }
   ],
   "source": [
    "#Solution\n",
    "def pattern(Q,S) :\n",
    "    R = []\n",
    "    T = F = 0\n",
    "    while F < Q if 0 < Q else Q < F :\n",
    "        T ^= F\n",
    "        R.append(T)\n",
    "        F += S\n",
    "    return R\n",
    "\n",
    "pattern(30,7)"
   ]
  },
  {
   "cell_type": "markdown",
   "metadata": {},
   "source": [
    "**Q10.) Adding remainders to a list**  \n",
    "This is a problem that involves adding numbers to items in a list. In a list you will have to add the item's remainder when divided by a given divisor to each item.\n",
    "\n",
    "For example if the item is 40 and the divisor is 3 you would have to add 1 since 40 minus the closest multiple of 3 which is 39 is 1. So the 40 in the list will become 41. You would have to return the modified list in this problem.\n",
    "\n",
    "For this problem you will receive a divisor called div as well as simple list of whole numbers called nums. Good luck and happy coding.\n",
    "\n",
    "**Examples**  \n",
    "`nums = [2, 7, 5, 9, 100, 34, 32, 0], div = 3  \n",
    "  ==>  [4, 8, 7, 9, 101, 35, 34, 0] \n",
    "\n",
    "nums = [1000, 999, 998, 997], div = 5  \n",
    "   ==> [1000, 1003, 1001, 999]\n",
    "\n",
    "nums = [], div = 2  \n",
    "   ==> []`"
   ]
  },
  {
   "cell_type": "code",
   "execution_count": 20,
   "metadata": {},
   "outputs": [
    {
     "data": {
      "text/plain": [
       "([4, 8, 7, 9, 101, 35, 34, 0], [4, 8, 7, 9, 101, 35, 34, 0])"
      ]
     },
     "execution_count": 20,
     "metadata": {},
     "output_type": "execute_result"
    }
   ],
   "source": [
    "#Solution\n",
    "def solve(nums,div):\n",
    "    a = []\n",
    "    for x in nums:\n",
    "        a.append(x % div + x )\n",
    "    return a\n",
    "\n",
    "solve([2, 7, 5, 9, 100, 34, 32, 0], 3), [4, 8, 7, 9, 101, 35, 34, 0]"
   ]
  },
  {
   "cell_type": "markdown",
   "metadata": {},
   "source": [
    "**Q11.) Loops**\n",
    "Task\n",
    "The provided code stub reads and integer, , from STDIN. For all non-negative integers *i<n* , print **i<sup>2</sup>**.\n",
    "\n",
    "**Example**  \n",
    "**n=3**  \n",
    "The list of non-negative integers that are less than  is . Print the square of each number on a separate line.\n",
    "\n",
    "0<br>\n",
    "1  \n",
    "4  \n",
    "\n",
    "**Input Format**\n",
    "\n",
    "The first and only line contains the integer,*n* .\n",
    "\n",
    "\n",
    "Output Format\n",
    "\n",
    "Print *n* lines, one corresponding to each *i*.\n",
    "\n",
    "**Sample Input 0**\n",
    "\n",
    "5\n",
    "\n",
    "**Sample Output 0**\n",
    "\n",
    "0<br>\n",
    "1  \n",
    "4<br>\n",
    "9  \n",
    "16  "
   ]
  },
  {
   "cell_type": "code",
   "execution_count": 22,
   "metadata": {},
   "outputs": [
    {
     "name": "stdout",
     "output_type": "stream",
     "text": [
      "5\n",
      "0\n",
      "1\n",
      "4\n",
      "9\n",
      "16\n"
     ]
    }
   ],
   "source": [
    "n = int(input())\n",
    "for i in range(n):\n",
    "    kk = i**2\n",
    "    print(kk)"
   ]
  },
  {
   "cell_type": "markdown",
   "metadata": {},
   "source": [
    "**Q12). Counter**  \n",
    "Given a list of integers use counter to find the occurrences of integers.\n",
    "\n",
    "\n",
    "**Input Format**  \n",
    "The first line of input consists of number of integers, N\n",
    "The second line of input consists of N number of space separated integers.\n",
    "\n",
    "\n",
    "**Output Format**  \n",
    "Use the counter to find the occurrences of integers\n",
    "\n",
    "\n",
    "**Sample TestCase 1**  \n",
    ">**Input**  \n",
    ">>10  \n",
    ">>1 2 3 2 4 3 2 1 1 4  \n",
    "\n",
    ">**Output**  \n",
    ">>Counter({1: 3, 2: 3, 3: 2, 4: 2})"
   ]
  },
  {
   "cell_type": "code",
   "execution_count": 25,
   "metadata": {},
   "outputs": [
    {
     "name": "stdout",
     "output_type": "stream",
     "text": [
      "10\n",
      "1 2 3 2 4 3 2 1 1 4\n",
      "Counter({1: 3, 2: 3, 3: 2, 4: 2})\n"
     ]
    }
   ],
   "source": [
    "import collections\n",
    "def main():\n",
    "    n=int(input())\n",
    "    l=[int(i) for i in input().split()][:n]\n",
    "    print(collections.Counter(l))\n",
    " # Write code here\n",
    "\n",
    "main()"
   ]
  },
  {
   "cell_type": "markdown",
   "metadata": {},
   "source": [
    "**Q13).Collections-Counter**  \n",
    "Collections module implements specialized container datatypes providing alternatives to Python s general purpose built-in containers, dict, list, set, and tuple.\n",
    "A Counter is a dict subclass for counting hashable objects. It is an unordered collection where elements are stored as dictionary keys and their counts are stored as dictionary values. Counts are allowed to be any integer value including zero or negative counts. The Counter class is similar to bags or multisets in other languages.\n",
    "Your task is to find the top two most recurring characters in a given string using most_common() function of the module.\n",
    "\n",
    "**Input Format**  \n",
    "First line will contain a string s.\n",
    "\n",
    "**Output Format**  \n",
    "Output the two most recurring characters in the string along with their frequencies. \n",
    "\n",
    "**Sample TestCase 1**  \n",
    ">**Input**  \n",
    ">>asdasddds  \n",
    "\n",
    ">**Output**  \n",
    ">>('d', 4) ('s', 3)\n",
    "\n",
    "**Explanation**  \n",
    "Count of 'a' : 2  \n",
    "Count of 'd' : 4  \n",
    "Count of 's' : 3  "
   ]
  },
  {
   "cell_type": "code",
   "execution_count": 26,
   "metadata": {},
   "outputs": [
    {
     "name": "stdout",
     "output_type": "stream",
     "text": [
      "asdasddds\n",
      "('d', 4) ('s', 3)"
     ]
    }
   ],
   "source": [
    "#Solution\n",
    "from collections import Counter\n",
    "s = Counter(input())\n",
    "sort = sorted(s.items(), key=lambda x: x[1])\n",
    "print(sort[-1],sort[-2],end=\"\")"
   ]
  },
  {
   "cell_type": "markdown",
   "metadata": {},
   "source": [
    "**Q14).Key in dictionary**  \n",
    "Write a Python program to check whether a given key already exists in a dictionary.  \n",
    ">data = {1: 10, 2: 20, 3: 30, 4: 40, 5: 50, 6: 60}\n",
    "\n",
    "**Input Format**  \n",
    "You will be taking a key name from user.\n",
    "\n",
    "**Output Format**  \n",
    "You need to print whether a key exists in a dictionary or not.\n",
    "\n",
    "**Sample TestCase 1**\n",
    ">**Input**  \n",
    "2\n",
    "\n",
    ">**Output**  \n",
    "Key is present in the dictionary\n",
    "\n",
    "**Sample TestCase 2**\n",
    ">**Input**  \n",
    "8\n",
    "\n",
    ">**Output**  \n",
    "Key is not present in the dictionary"
   ]
  },
  {
   "cell_type": "code",
   "execution_count": 27,
   "metadata": {},
   "outputs": [
    {
     "name": "stdout",
     "output_type": "stream",
     "text": [
      "enter the key :8\n",
      "Key not present in the dictionary\n"
     ]
    }
   ],
   "source": [
    "# Solution\n",
    "data = {1: 10, 2: 20, 3: 30, 4: 40, 5: 50, 6: 60}\n",
    "n=int(input(\"enter the key :\"))\n",
    "hi=list(data)\n",
    "if n in hi:\n",
    "    print(\"Key Present in the Dictionary\")\n",
    "else:\n",
    "    print(\"Key not present in the dictionary\")\n"
   ]
  },
  {
   "cell_type": "markdown",
   "metadata": {},
   "source": [
    "**Q15).Collections-NamedTuple**  \n",
    "Named tuples assign meaning to each position in a tuple and allow for more readable, self-documenting code. They can be used wherever regular tuples are used, and they add the ability to access fields by name instead of position index.\n",
    "You are given a data containing test results of class. The dataset consists of two columns namely : 'marks' and 'name'. These two Columns can be in any order i.e. ('name' followed by 'marks' or vice versa).\n",
    "You have to find the average marks for the whole class.\n",
    "\n",
    "\n",
    "**Input Format**  \n",
    "First line will contain an Integer N, denoting the number of students.\n",
    "Next line will contain two string denoting the column heading.\n",
    "Next N lines will contain marks and name of the students respective of column headings.\n",
    "\n",
    "**Output Format**  \n",
    "Output the average marks of the class rounded off to two decimal places.\n",
    "\n",
    "**Sample TestCase 1**  \n",
    ">**Input**  \n",
    "3<br>\n",
    "#marks names  \n",
    "10 arpit  \n",
    "20 anushka  \n",
    "35 rakshita  \n",
    "\n",
    ">**Output**\n",
    "21.67"
   ]
  },
  {
   "cell_type": "code",
   "execution_count": 28,
   "metadata": {},
   "outputs": [
    {
     "name": "stdout",
     "output_type": "stream",
     "text": [
      "enter no of students :3\n",
      "enter :10 a\n",
      "enter :20 an\n",
      "enter :30 rk\n",
      "20.0\n"
     ]
    }
   ],
   "source": [
    "# Solution\n",
    "d=[]\n",
    "n=int(input(\"enter no of students :\"))\n",
    "for i in range(n):\n",
    "    col=input(\"enter :\").split()\n",
    "    values=int(col[0])\n",
    "    d.append(values)\n",
    "avg= sum(d)/n\n",
    "print(avg)"
   ]
  },
  {
   "cell_type": "markdown",
   "metadata": {},
   "source": [
    "**Q16). Class Record**  \n",
    "You are given a dataset of N students belonging to the same class.  \n",
    "The data contains name of the student followed by marks they scored in five subjects which are Physics, Chemsistry, Maths, English, Hindi.  \n",
    "Your task is find the average marks of the class for each individual subject.  \n",
    "\n",
    "**Output Format**  \n",
    "You have to print average marks upto two decimal places for each subject followed by a space. \n",
    ">**Sample Testcase**  \n",
    ">2<br>\n",
    ">arpit 100 75 40 56 53  \n",
    ">anushka 100 100 76 100 100  \n",
    "\n",
    ">**Output**  \n",
    "> 100.00 87.50 58.00 78.00 76.50"
   ]
  },
  {
   "cell_type": "code",
   "execution_count": 30,
   "metadata": {},
   "outputs": [
    {
     "name": "stdout",
     "output_type": "stream",
     "text": [
      "How many student marks you need to enter :2\n",
      "enter name and marks :arpit 100 75 40 56 53\n",
      "enter name and marks :anushka 100 100 76 100 100\n",
      "[100.0, 87.5, 58.0, 78.0, 76.5]\n"
     ]
    }
   ],
   "source": []
  },
  {
   "cell_type": "markdown",
   "metadata": {},
   "source": [
    "**Q17).Remove duplicates**  \n",
    "Write a Python program to remove key,value whenever you are getting duplicate values from dictionary. \n",
    ">data = {1: 10, 2: 20, 3: 30, 4: 40, 5: 30, 6: 60}\n",
    "\n",
    "**Input Format**  \n",
    "You will be taking a dictionary.\n",
    "\n",
    "**Output Format**  \n",
    "You need to print without duplicates values dictionary .\n",
    "\n",
    "**Sample TestCase 1**\n",
    ">**Input**  \n",
    "{1: 10, 2: 20, 3: 30, 4: 40, 5: 30, 6: 60}\n",
    "\n",
    ">**Output**  \n",
    "{1: 10, 2: 20, 3: 30, 4: 40, 6: 60}\n"
   ]
  },
  {
   "cell_type": "code",
   "execution_count": 31,
   "metadata": {},
   "outputs": [
    {
     "name": "stdout",
     "output_type": "stream",
     "text": [
      "{1: 10, 2: 20, 3: 30, 4: 40, 6: 60}\n"
     ]
    }
   ],
   "source": [
    "# Solution\n",
    "data = {1: 10, 2: 20, 3: 30, 4: 40, 5: 30, 6: 60}\n",
    "res = {}\n",
    "for i,j in data.items():\n",
    "    if j not in res.values():\n",
    "        res[i]=j\n",
    "print(res)\n"
   ]
  },
  {
   "cell_type": "markdown",
   "metadata": {},
   "source": [
    "**Q18).Second Highest**  \n",
    "There are a total N students present in today's class. You are given student names and their respective height (in cms). You have to find names of all the second highest students (according to their heights). If there are multiple students , print each name on new line Print name of all the students having second highest height in alphabetical order.\n",
    "\n",
    "**Input Format**  \n",
    "First line will contain an Integer N, denoting the number of students.  \n",
    "Next 2 * N lines contains description of each student. first line contains name of the student and second line contains height of the student.\n",
    "\n",
    "**Output Format**  \n",
    "Print name of all the students having second highest height in alphabetical order.\n",
    "\n",
    "**Sample TestCase 1**\n",
    ">**Input**  \n",
    "4<br>\n",
    "saurabh  \n",
    "102  \n",
    "arpit  \n",
    "120  \n",
    "aditya  \n",
    "102  \n",
    "varun  \n",
    "101  \n",
    "\n",
    ">**Output**  \n",
    "aditya  \n",
    "saurabh"
   ]
  },
  {
   "cell_type": "code",
   "execution_count": null,
   "metadata": {},
   "outputs": [],
   "source": [
    "# Solution\n",
    "n=int(input(\"How many Students :\"))\n",
    "d={}\n",
    "a=[]\n",
    "for i in range(n):\n",
    "    n1=input(\"Enter a name :\")\n",
    "    n2=int(input(\"Enter Height :\"))\n",
    "    d[n1]=n2\n",
    "hh= list(d.values())\n",
    "hh.sort()\n",
    "sec_max= hh[-2]\n",
    "for i,j in d.items():\n",
    "    if j==sec_max:\n",
    "        a.append(i)\n",
    "a.sort()\n",
    "for l in a:\n",
    "    print(l)"
   ]
  },
  {
   "cell_type": "markdown",
   "metadata": {},
   "source": [
    "**Q19).Average Score**  \n",
    "There are N players with their score in last 3 matches. You will have to create a dictionary and output the average score of the player asked upto 2 decimal places.\n",
    "\n",
    "**Input Format**  \n",
    "The first line of input consist of number of players, N  \n",
    "Next N lines consists of player name and their score in last three matches space separately.  \n",
    "The last line of the input consist of the player in question.  \n",
    "\n",
    "**Output Format**  \n",
    "Print the average score of the player asked.\n",
    "\n",
    "**Sample TestCase 1**\n",
    ">**Input**  \n",
    "3<br>\n",
    "Warner 150 100 120  \n",
    "Kohli 10 30 20  \n",
    "Rohit 60 80 40  \n",
    "Kohli  \n",
    "\n",
    "\n",
    ">**Output**  \n",
    "20.00"
   ]
  },
  {
   "cell_type": "code",
   "execution_count": null,
   "metadata": {},
   "outputs": [],
   "source": [
    "# Solution\n",
    "n = int(input(\"How many players :\"))\n",
    "d={}\n",
    "for i in range(n):\n",
    "    k=input(\"Enter name and scores :\").split()\n",
    "    keys=k[0]\n",
    "    values=k[1:]\n",
    "    d[keys]=values\n",
    "n1=input(\"enter the name of the player :\")\n",
    "vv=d[n1]\n",
    "k=0\n",
    "for m in vv:\n",
    "    k=k+int(m)\n",
    "avg = k/len(vv)\n",
    "print(avg)\n"
   ]
  },
  {
   "cell_type": "markdown",
   "metadata": {},
   "source": [
    "**Q20).Lowest Rating**  \n",
    "There are N players with their score in last 3 matches. You will have to create a dictionary and output the \n",
    "average score of the player asked upto 2 decimal places.\n",
    "\n",
    "**Input Format**  \n",
    "The first line of input consist of number of students, N.\n",
    "There are 2 lines of input for each student. The first line consist of student name and second line consist of the rating.\n",
    "\n",
    "**Output Format**  \n",
    "Print the student(s) with lowest rating. If there is more than one student with lowest rating print the \n",
    "names of all in alphabetical order. \n",
    "\n",
    "**Sample TestCase 1**\n",
    ">**Input**  \n",
    "4<br>\n",
    "Rahul  \n",
    "1<br>\n",
    "Yogi  \n",
    "7<br>\n",
    "Modi  \n",
    "9<br>\n",
    "Gulam  \n",
    "1  \n",
    " \n",
    ">**Output**  \n",
    "Gulam  \n",
    "Rahul"
   ]
  },
  {
   "cell_type": "code",
   "execution_count": null,
   "metadata": {},
   "outputs": [],
   "source": [
    "# Solution\n",
    "\n",
    "n=int(input(\"How many Students :\"))\n",
    "d={}\n",
    "a=[]\n",
    "c=[]\n",
    "for i in range(n):\n",
    "    n1=input(\"Enter a name :\")\n",
    "    n2=int(input(\"Rating :\"))\n",
    "    d[n1]=n2\n",
    "for j in d.values():\n",
    "    a.append(j)\n",
    "a.sort()\n",
    "e=a[0]\n",
    "for i,j in d.items():\n",
    "    if j==e:\n",
    "        c.append(i)\n",
    "c.sort()\n",
    "for m in c:\n",
    "    print(m)\n"
   ]
  }
 ],
 "metadata": {
  "kernelspec": {
   "display_name": "Python 3 (ipykernel)",
   "language": "python",
   "name": "python3"
  },
  "language_info": {
   "codemirror_mode": {
    "name": "ipython",
    "version": 3
   },
   "file_extension": ".py",
   "mimetype": "text/x-python",
   "name": "python",
   "nbconvert_exporter": "python",
   "pygments_lexer": "ipython3",
   "version": "3.9.7"
  }
 },
 "nbformat": 4,
 "nbformat_minor": 4
}
