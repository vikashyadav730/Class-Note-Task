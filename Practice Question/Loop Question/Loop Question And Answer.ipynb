{
 "cells": [
  {
   "cell_type": "markdown",
   "id": "5b2a5348",
   "metadata": {},
   "source": [
    "<div class=\"a\" align=right>\n",
    "    <font style=\"border:white; border-width:10px; border-style:outset;\"width=\"100\" height=\"100\" color=\"green\" > \n",
    "Assignment Question </font>\n",
    "</div >\n",
    "\n",
    "<div id=\"myCarousel\" class=\"carousel slide text-center\" data-ride=\"carousel\">\n",
    "\n",
    "  <div class=\"carousel-inner\" role=\"listbox\">\n",
    "    <div class=\"item active\">\n",
    "    <h3 style=\"color: blue;\">Loop Q&A</h3>\n",
    "    </div>\n",
    "  </div>\n"
   ]
  },
  {
   "cell_type": "markdown",
   "id": "c83326bf",
   "metadata": {},
   "source": [
    "# For Loop "
   ]
  },
  {
   "cell_type": "markdown",
   "id": "c837968d",
   "metadata": {},
   "source": [
    "**Q1. Write a Python program to reverse string without using slicing.**\n",
    "\n",
    "**Sample TestCase:**\n",
    "\n",
    "**Input:**  \n",
    ">Pentagon Space\n",
    "\n",
    "**Output:**  \n",
    ">ecapS nogatneP"
   ]
  },
  {
   "cell_type": "code",
   "execution_count": 1,
   "id": "155204b1",
   "metadata": {},
   "outputs": [
    {
     "data": {
      "text/plain": [
       "'ecapS nogatneP'"
      ]
     },
     "execution_count": 1,
     "metadata": {},
     "output_type": "execute_result"
    }
   ],
   "source": [
    "num = 'Pentagon Space'\n",
    "rev = ''\n",
    "for i in num:\n",
    "    rev = i + rev\n",
    "rev"
   ]
  },
  {
   "cell_type": "markdown",
   "id": "b3c2b56c",
   "metadata": {},
   "source": [
    "**Q2. Write a Python program to reverse strating 5 index from string without using slicing.**\n",
    "\n",
    "**Sample TestCase:**  \n",
    "**Input:**   \n",
    ">Pentagon Space  \n",
    "\n",
    "**Output:**    \n",
    ">gatnePon Space"
   ]
  },
  {
   "cell_type": "code",
   "execution_count": 2,
   "id": "88758470",
   "metadata": {},
   "outputs": [
    {
     "name": "stdout",
     "output_type": "stream",
     "text": [
      "gatnePon Space\n"
     ]
    }
   ],
   "source": [
    "num = 'Pentagon Space'\n",
    "kk = ''\n",
    "number = 0\n",
    "for x in num:\n",
    "    if number<6:\n",
    "        kk = x + kk\n",
    "        number += 1\n",
    "    else:\n",
    "        kk = kk + x\n",
    "        number += 1\n",
    "print(kk)   "
   ]
  },
  {
   "cell_type": "markdown",
   "id": "9be1abf5",
   "metadata": {},
   "source": [
    "**Q3. Write a Python program to remove duplicate values from string.**\n",
    "\n",
    "**Sample TestCase:**  \n",
    "**Input:**  \n",
    ">Pentagon Space\n",
    "\n",
    "**Output:**  \n",
    ">Pentago Spc"
   ]
  },
  {
   "cell_type": "code",
   "execution_count": 1,
   "id": "8e01cafa",
   "metadata": {},
   "outputs": [
    {
     "name": "stdout",
     "output_type": "stream",
     "text": [
      "Pentago Spc\n"
     ]
    }
   ],
   "source": [
    "num = 'Pentagon Space'\n",
    "unique = ''\n",
    "for i in num:\n",
    "    if i not in unique:\n",
    "        unique = unique + i\n",
    "print(unique)"
   ]
  },
  {
   "cell_type": "markdown",
   "id": "3909b1ea",
   "metadata": {},
   "source": [
    "# While Loop "
   ]
  },
  {
   "cell_type": "markdown",
   "id": "5f4308f9",
   "metadata": {},
   "source": [
    "**Q4. Write a Python program to reverse string without using slicing.**\n",
    "\n",
    "**Sample TestCase:**\n",
    "\n",
    "**Input:**  \n",
    ">Pentagon Space\n",
    "\n",
    "**Output:**  \n",
    ">ecapS nogatneP"
   ]
  },
  {
   "cell_type": "code",
   "execution_count": 4,
   "id": "f5f6c3db",
   "metadata": {},
   "outputs": [
    {
     "data": {
      "text/plain": [
       "'ecapS nogatneP'"
      ]
     },
     "execution_count": 4,
     "metadata": {},
     "output_type": "execute_result"
    }
   ],
   "source": [
    "num = 'Pentagon Space'\n",
    "k =0\n",
    "rev = ''\n",
    "while k<len(num):\n",
    "    rev = num[k] + rev\n",
    "    k = k + 1\n",
    "rev    \n",
    "    "
   ]
  },
  {
   "cell_type": "markdown",
   "id": "aff20a7b",
   "metadata": {},
   "source": [
    "**Q5. Write a Python program to reverse last 5 index from string without using slicing.**\n",
    "\n",
    "**Sample TestCase:**  \n",
    "**Input:**  \n",
    ">Pentagon Space\n",
    "\n",
    "**Output:**  \n",
    ">ecapPentagon S"
   ]
  },
  {
   "cell_type": "code",
   "execution_count": 5,
   "id": "6d3d5ec6",
   "metadata": {},
   "outputs": [
    {
     "data": {
      "text/plain": [
       "'ecapPentagon S'"
      ]
     },
     "execution_count": 5,
     "metadata": {},
     "output_type": "execute_result"
    }
   ],
   "source": [
    "num = 'Pentagon Space'\n",
    "k = 0\n",
    "last_index = len(num)-5\n",
    "rev = ''\n",
    "while k<len(num):\n",
    "    if k>last_index:\n",
    "        rev = num[k] + rev\n",
    "        k = k +1\n",
    "    else:\n",
    "        rev = rev + num[k]\n",
    "        k = k +1\n",
    "rev        "
   ]
  },
  {
   "cell_type": "markdown",
   "id": "da5b42b3",
   "metadata": {},
   "source": [
    "**Q6. Write a Python program to remove duplicate values from string.**\n",
    "\n",
    "**Sample TestCase:**  \n",
    "**Input:**  \n",
    ">Pentagon Space\n",
    "\n",
    "**Output:**  \n",
    ">Pentago Spc"
   ]
  },
  {
   "cell_type": "code",
   "execution_count": 6,
   "id": "14a963a6",
   "metadata": {},
   "outputs": [
    {
     "data": {
      "text/plain": [
       "'Pentago Spc'"
      ]
     },
     "execution_count": 6,
     "metadata": {},
     "output_type": "execute_result"
    }
   ],
   "source": [
    "num = 'Pentagon Space'\n",
    "k = 0\n",
    "unique = ''\n",
    "while k<len(num):\n",
    "    if num[k] not in unique:\n",
    "        unique += num[k]\n",
    "    k = k+1    \n",
    "unique"
   ]
  },
  {
   "cell_type": "code",
   "execution_count": null,
   "id": "586f3434",
   "metadata": {},
   "outputs": [],
   "source": []
  }
 ],
 "metadata": {
  "kernelspec": {
   "display_name": "Python 3 (ipykernel)",
   "language": "python",
   "name": "python3"
  },
  "language_info": {
   "codemirror_mode": {
    "name": "ipython",
    "version": 3
   },
   "file_extension": ".py",
   "mimetype": "text/x-python",
   "name": "python",
   "nbconvert_exporter": "python",
   "pygments_lexer": "ipython3",
   "version": "3.9.7"
  }
 },
 "nbformat": 4,
 "nbformat_minor": 5
}
