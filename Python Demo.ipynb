{
 "cells": [
  {
   "cell_type": "markdown",
   "id": "f9985d81",
   "metadata": {},
   "source": [
    "# Python"
   ]
  },
  {
   "cell_type": "markdown",
   "id": "bae28342",
   "metadata": {},
   "source": [
    "**What is Python?**"
   ]
  },
  {
   "cell_type": "markdown",
   "id": "72d2253b",
   "metadata": {},
   "source": [
    "Python is a programming language as well as a scripting(Interpreted) language."
   ]
  },
  {
   "cell_type": "markdown",
   "id": "bf4ca4f4",
   "metadata": {},
   "source": [
    "# Why Should You Learn Python?"
   ]
  },
  {
   "cell_type": "markdown",
   "id": "295d339f",
   "metadata": {},
   "source": [
    "1. Easy to learn.\n",
    "2. Development Speed.\n",
    "3. Library for Everything.\n",
    "4. Used Heavily In,\n",
    ">1. Data Science \n",
    ">2. Machine Learning\n",
    ">3. Secientific Computing"
   ]
  },
  {
   "cell_type": "markdown",
   "id": "a7b09430",
   "metadata": {},
   "source": [
    "# Sample Code"
   ]
  },
  {
   "cell_type": "markdown",
   "id": "55cf5699",
   "metadata": {},
   "source": [
    "<img src=\"https://www.softwaretestinghelp.com/wp-content/qa/uploads/2020/03/Code-Readability.png\">"
   ]
  },
  {
   "cell_type": "markdown",
   "id": "3eefd2b0",
   "metadata": {},
   "source": [
    "# Where we can use Python?"
   ]
  },
  {
   "cell_type": "markdown",
   "id": "e2c81ace",
   "metadata": {},
   "source": [
    "1. Web Development.\n",
    "2. File/big data handling.\n",
    "3. mathematics.\n",
    "4. system scripting.\n",
    "5. Game Development.\n",
    "6. Machine Learning/Data Science/AI"
   ]
  },
  {
   "cell_type": "code",
   "execution_count": null,
   "id": "bca16c69",
   "metadata": {},
   "outputs": [],
   "source": []
  }
 ],
 "metadata": {
  "kernelspec": {
   "display_name": "Python 3 (ipykernel)",
   "language": "python",
   "name": "python3"
  },
  "language_info": {
   "codemirror_mode": {
    "name": "ipython",
    "version": 3
   },
   "file_extension": ".py",
   "mimetype": "text/x-python",
   "name": "python",
   "nbconvert_exporter": "python",
   "pygments_lexer": "ipython3",
   "version": "3.8.11"
  }
 },
 "nbformat": 4,
 "nbformat_minor": 5
}
