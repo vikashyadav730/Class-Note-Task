{
 "cells": [
  {
   "cell_type": "markdown",
   "metadata": {
    "id": "LeW26ICzFuTz"
   },
   "source": [
    "<h2><img src=\"https://www.pentagonspace.in/assets/images/logo/logo-dark.png\" alt=\"pentagonspace.com/\" align=left></h2>\n",
    "<div class=\"a\" align=right>\n",
    "    <font style=\"border:white; border-width:10px; border-style:outset;\"width=\"100\" height=\"100\" color=\"green\"> \n",
    "Grooming Session </font>\n",
    "</div >\n",
    "<style>\n",
    "body {\n",
    "  font-family: 'Brush Script MT', cursive;\n",
    "}\n",
    "</style>\n",
    "<div id=\"myCarousel\" class=\"carousel slide text-center\" data-ride=\"carousel\">\n",
    "\n",
    "  <div class=\"carousel-inner\" role=\"listbox\">\n",
    "    <div class=\"item active\">\n",
    "    <h2>Day 4 Questions </h2>\n",
    "    </div>\n",
    "  </div>\n"
   ]
  },
  {
   "cell_type": "markdown",
   "metadata": {
    "id": "o1y3tUDOFuUA"
   },
   "source": [
    "***``Note: Do not use any Method like : max,min,sort,....``***"
   ]
  },
  {
   "cell_type": "markdown",
   "metadata": {
    "id": "OrFjtvkcFuUB"
   },
   "source": [
    "**Q1.)Element-wise sum**  \n",
    "Write a Python program to compute element-wise sum of given tuples.\n",
    "\n",
    "**Input Format**  \n",
    "You will be taking a values as tuples.\n",
    "\n",
    "**Output Format**  \n",
    "You need to print compute element-wise sum of given tuples.\n",
    "\n",
    "**Sample TestCase 1**\n",
    ">**Input**  \n",
    "[(1, 2, 3, 4),(3, 5, 2, 1),(2, 2, 3, 1)]\n",
    "\n",
    "\n",
    ">**Output**  \n",
    "(6, 9, 8, 6)"
   ]
  },
  {
   "cell_type": "code",
   "execution_count": 1,
   "metadata": {
    "colab": {
     "base_uri": "https://localhost:8080/"
    },
    "id": "c1w--_xoFuUD",
    "outputId": "29200cda-295d-4720-fee2-46ebef070b15"
   },
   "outputs": [
    {
     "name": "stdout",
     "output_type": "stream",
     "text": [
      "(6, 9, 8, 6)\n"
     ]
    }
   ],
   "source": [
    "t=tuple([(1, 2, 3, 4),(3, 5, 2, 1),(2, 2, 3, 1)])\n",
    "r= tuple(map(sum, zip(t[0],t[1],t[2])))\n",
    "print(r)\n",
    "\n",
    " \n",
    "       "
   ]
  },
  {
   "cell_type": "markdown",
   "metadata": {
    "id": "i-kQsA2JFuUG"
   },
   "source": [
    "**Q2.)Average**  \n",
    "Write a Python program to calculate the average value of the numbers in a given tuple of tuples.\n",
    "\n",
    "**Input Format**  \n",
    "You will be taking a values as tuples.\n",
    "\n",
    "**Output Format**  \n",
    "You need to print compute element-wise average of given tuples.\n",
    "\n",
    "**Sample TestCase 1**\n",
    ">**Input**  \n",
    "((10, 10, 10, 12), (30, 45, 56, 45), (81, 80, 39, 32), (1, 2, 3, 4))\n",
    "\n",
    "\n",
    ">**Output**  \n",
    "(30.5, 34.25, 27.0, 23.25)"
   ]
  },
  {
   "cell_type": "code",
   "execution_count": 98,
   "metadata": {
    "colab": {
     "base_uri": "https://localhost:8080/"
    },
    "id": "szGuDwmmFuUH",
    "outputId": "b2e8da48-f1e8-47fa-c371-3e1f1ce359d2"
   },
   "outputs": [
    {
     "name": "stdout",
     "output_type": "stream",
     "text": [
      "(30.5, 34.25, 27.0, 23.25)\n"
     ]
    }
   ],
   "source": [
    "t=((10, 10, 10, 12), (30, 45, 56, 45), (81, 80, 39, 32), (1, 2, 3, 4))\n",
    "r= tuple(map(sum, zip(t[0],t[1],t[2],t[3])))\n",
    "m=[]\n",
    "for i in r:\n",
    "  l=i/len(t[0])\n",
    "  m.append(l)\n",
    "print(tuple(m))\n",
    "\n"
   ]
  },
  {
   "cell_type": "markdown",
   "metadata": {
    "id": "v1ZwzXuBFuUJ"
   },
   "source": [
    "**Q3.)Sort Values**  \n",
    "Write a Python program to find the sort value of the numbers in a given tuple.\n",
    "\n",
    "**Input Format**  \n",
    "You will be taking a values as tuples.\n",
    "\n",
    "**Output Format**  \n",
    "You need to print sort value of given tuples.\n",
    "\n",
    "**Sample TestCase 1**\n",
    ">**Input**  \n",
    "(10, 10, 10, 12,30, 45, 56,'Python',1, 2, 3, 4)\n",
    "\n",
    "\n",
    ">**Output**  \n",
    "(1, 2, 3, 4, 10, 10, 10, 12, 30, 45, 56)"
   ]
  },
  {
   "cell_type": "code",
   "execution_count": 83,
   "metadata": {
    "colab": {
     "base_uri": "https://localhost:8080/"
    },
    "id": "fVu3vhK7FuUL",
    "outputId": "e9fd64ee-1a9b-49f7-97c7-d555d72d0539"
   },
   "outputs": [
    {
     "name": "stdout",
     "output_type": "stream",
     "text": [
      "[1, 2, 3, 4, 10, 10, 10, 12, 30, 45, 56]\n"
     ]
    }
   ],
   "source": [
    "t=(10, 10, 10, 12,30, 45, 56,'Python',1, 2, 3, 4)\n",
    "n=[]\n",
    "for i in t:\n",
    "  if type(i)==int:\n",
    "    n.append(i)\n",
    "n1=[]\n",
    "while n:\n",
    "  min=n[0]\n",
    "  for i in n:\n",
    "    if i < min:\n",
    "      min=i\n",
    "  n1.append(min)\n",
    "  n.remove(min)\n",
    "print(n1)"
   ]
  },
  {
   "cell_type": "markdown",
   "metadata": {
    "id": "CfaAL2WWFuUQ"
   },
   "source": [
    "**Q4.)Sort Tuple**  \n",
    "Given a Tuple List, perform sort on basis of total digits in tuple.\n",
    "\n",
    "**Input Format**  \n",
    "You will be taking a values as List.\n",
    "\n",
    "**Output Format**  \n",
    "You need to print sort tuple of given List.\n",
    "\n",
    "**Sample TestCase 1**\n",
    ">**Input**  \n",
    "[(3, 4, 6, 723), (1, 2), (134, 234, 34)] \n",
    "\n",
    "\n",
    ">**Output**  \n",
    "[(1, 2), (134, 234, 34), (3, 4, 6, 723)]  "
   ]
  },
  {
   "cell_type": "code",
   "execution_count": 99,
   "metadata": {
    "colab": {
     "base_uri": "https://localhost:8080/"
    },
    "id": "FhlHZSwoFuUS",
    "outputId": "3f01f371-8bcd-48fb-9deb-7f7a936b138c"
   },
   "outputs": [
    {
     "name": "stdout",
     "output_type": "stream",
     "text": [
      "[[3, 4, 6, 723], [1, 2], [34, 134, 234]]\n"
     ]
    }
   ],
   "source": [
    "t=[(3, 4, 6, 723), (1, 2), (134, 234, 34)] \n",
    "t2=[]\n",
    "for i in range(len(t)):\n",
    "  t1=sorted(t[i])\n",
    "  t2.append(t1)\n",
    "print(t2)\n",
    "\n"
   ]
  },
  {
   "cell_type": "markdown",
   "metadata": {
    "id": "q6CNjBkJFuUT"
   },
   "source": [
    "<div class=\"jumbotron text-center\">\n",
    "  <h1 class=\"display-3\">Thank You!</h1>\n",
    "  <p class=\"lead\">If you have any queries please feel free to contact on \"Vikash@pentagonspace.in\".</p>\n",
    "\n",
    "</div>"
   ]
  },
  {
   "cell_type": "code",
   "execution_count": null,
   "metadata": {
    "id": "gZVnK1OfFuUU"
   },
   "outputs": [],
   "source": []
  }
 ],
 "metadata": {
  "colab": {
   "collapsed_sections": [],
   "name": "Day 4.ipynb",
   "provenance": []
  },
  "kernelspec": {
   "display_name": "Python 3 (ipykernel)",
   "language": "python",
   "name": "python3"
  },
  "language_info": {
   "codemirror_mode": {
    "name": "ipython",
    "version": 3
   },
   "file_extension": ".py",
   "mimetype": "text/x-python",
   "name": "python",
   "nbconvert_exporter": "python",
   "pygments_lexer": "ipython3",
   "version": "3.8.11"
  }
 },
 "nbformat": 4,
 "nbformat_minor": 1
}
